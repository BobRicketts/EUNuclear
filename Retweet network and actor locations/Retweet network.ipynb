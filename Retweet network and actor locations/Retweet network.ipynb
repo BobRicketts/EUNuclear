{
 "cells": [
  {
   "cell_type": "code",
   "execution_count": null,
   "metadata": {
    "cell_id": "3a36d367-49fe-4f80-9525-d3287a31db2f",
    "deepnote_cell_height": 189,
    "deepnote_cell_type": "code",
    "deepnote_to_be_reexecuted": false,
    "execution_millis": 147,
    "execution_start": 1654546117372,
    "source_hash": "19ee5b83",
    "tags": []
   },
   "outputs": [],
   "source": [
    "from collections import namedtuple\n",
    "import pickle\n",
    "import re\n",
    "import numpy as np\n",
    "import pandas as pd\n",
    "import tweepy\n",
    "import networkx as nx"
   ]
  },
  {
   "cell_type": "code",
   "execution_count": null,
   "metadata": {
    "cell_id": "d05be0eebc4d4e4491a8b61456509e90",
    "deepnote_cell_height": 81,
    "deepnote_cell_type": "code",
    "deepnote_to_be_reexecuted": false,
    "execution_millis": 0,
    "execution_start": 1654546121326,
    "source_hash": "c323573b",
    "tags": []
   },
   "outputs": [],
   "source": [
    "ExtendedUser = namedtuple('extended_user', ['user', 'tweets'])"
   ]
  },
  {
   "cell_type": "markdown",
   "metadata": {
    "cell_id": "6cf85178d74947aba0f30353e2936b47",
    "deepnote_cell_height": 62,
    "deepnote_cell_type": "markdown",
    "tags": []
   },
   "source": [
    "### Retweet network"
   ]
  },
  {
   "cell_type": "code",
   "execution_count": null,
   "metadata": {
    "cell_id": "00c31ab1d482470faa0d1fca5453ac17",
    "deepnote_cell_height": 387,
    "deepnote_cell_type": "code",
    "deepnote_to_be_reexecuted": false,
    "execution_millis": 13,
    "execution_start": 1654546122946,
    "owner_user_id": "c901f93b-c574-4d0b-981d-902b75cfc9d4",
    "source_hash": "bf965c87",
    "tags": []
   },
   "outputs": [],
   "source": [
    "actor_types = pd.read_csv('Categorized actors.csv')\n",
    "\n",
    "def collapse_categories(category):\n",
    "    if category in ['meps', 'europarties']:\n",
    "        return 'meps & europarties'\n",
    "    elif category in ['politicians', 'prime_ministers', 'climate_ministers', 'eu_commissioners']:\n",
    "        return 'assorted politicians'\n",
    "    elif category in ['eu departments', 'governmental institutions']:\n",
    "        return 'public institutions'\n",
    "    else:\n",
    "        return category\n",
    "\n",
    "actor_types['collapsed_category'] = actor_types.category.apply(collapse_categories)\n",
    "actor_types = actor_types.set_index('usernames').to_dict()['collapsed_category']"
   ]
  },
  {
   "cell_type": "code",
   "execution_count": null,
   "metadata": {
    "cell_id": "7bbbcafd992545e79f405f278f560ee9",
    "deepnote_cell_height": 207,
    "deepnote_cell_type": "code",
    "deepnote_to_be_reexecuted": false,
    "execution_millis": 4,
    "execution_start": 1654546125211,
    "source_hash": "57035360",
    "tags": []
   },
   "outputs": [],
   "source": [
    "def include(retweeted, retweeter, included_actors):\n",
    "    if retweeted != retweeter:\n",
    "        if retweeter in included_actors and retweeted in included_actors:\n",
    "            return True\n",
    "        else:\n",
    "            return False\n",
    "    else:\n",
    "        return False"
   ]
  },
  {
   "cell_type": "code",
   "execution_count": null,
   "metadata": {
    "cell_id": "8a0eba0cb8994a41b72c9300562846ae",
    "deepnote_cell_height": 333,
    "deepnote_cell_type": "code",
    "deepnote_to_be_reexecuted": false,
    "execution_millis": 144,
    "execution_start": 1654546126712,
    "source_hash": "e2012790",
    "tags": []
   },
   "outputs": [],
   "source": [
    "# Retweeted\n",
    "from collections import Counter\n",
    "with open(\"../Data/df_tweets_selected_users_after_oct.p\", 'rb') as f:\n",
    "    df_retweets = pickle.load(f)\n",
    "df_retweets = df_retweets[~pd.isna(df_retweets['retweeted'])]\n",
    "df_retweets = df_retweets[\n",
    "    df_retweets.apply(lambda x: include(x['retweeted'], x['user.screen_name'], actor_types), axis=1)\n",
    "]\n",
    "edge_list = [tuple(tup) for tup in df_retweets[['user.screen_name', 'retweeted']].itertuples(index=False)]\n",
    "edge_dict = [(a, b, {'weight': w}) for (a, b), w in Counter(edge_list).items()]\n",
    "G = nx.DiGraph(edge_dict)\n",
    "node_category = {actor:cat for actor, cat in actor_types.items()\n",
    "                 if actor in list( G.nodes )}\n",
    "nx.set_node_attributes(G, node_category, 'category')\n",
    "nx.write_gexf(G, \"retweeted.gexf\")"
   ]
  },
  {
   "cell_type": "code",
   "execution_count": null,
   "metadata": {
    "cell_id": "d41ccb44816b4ee9a1011119335d3b3c",
    "deepnote_cell_height": 205.078125,
    "deepnote_cell_type": "code",
    "deepnote_to_be_reexecuted": false,
    "execution_millis": 3,
    "execution_start": 1654546130936,
    "source_hash": "a6227ac",
    "tags": []
   },
   "outputs": [
    {
     "name": "stdout",
     "output_type": "stream",
     "text": [
      "540\n",
      "540\n",
      "540\n"
     ]
    }
   ],
   "source": [
    "# Should all be equal\n",
    "print( len({*set(e[0] for e in edge_list), *set(e[1] for e in edge_list)}) )\n",
    "print( len(G.nodes) )\n",
    "print( len(node_category) )"
   ]
  }
 ],
 "metadata": {
  "deepnote": {},
  "deepnote_execution_queue": [],
  "deepnote_notebook_id": "dc8992e7-c9d7-417a-831d-a39bbaa95f7b",
  "language_info": {
   "name": "python"
  },
  "orig_nbformat": 2
 },
 "nbformat": 4,
 "nbformat_minor": 2
}
