{
 "cells": [
  {
   "cell_type": "code",
   "execution_count": 1,
   "metadata": {
    "cell_id": "59ce21b9acb742f48be83ca30a15343f",
    "deepnote_cell_height": 333,
    "deepnote_cell_type": "code",
    "deepnote_to_be_reexecuted": false,
    "execution_millis": 5417,
    "execution_start": 1654954439309,
    "source_hash": "535439b7",
    "tags": []
   },
   "outputs": [],
   "source": [
    "#Importing packages \n",
    "import pandas as pd\n",
    "import numpy as np\n",
    "\n",
    "from datetime import datetime #To check start and end time when running code\n",
    "import pickle  #To store and open previously saved machine learning models \n",
    "\n",
    "#Packages for language processing\n",
    "import re\n",
    "\n",
    "#Packages for visualization\n",
    "import seaborn as sns\n",
    "import matplotlib.pyplot as plt\n"
   ]
  },
  {
   "cell_type": "code",
   "execution_count": 2,
   "metadata": {
    "cell_id": "6a98beed-ac81-4f56-be7d-416630b89acd",
    "deepnote_cell_height": 190.1875,
    "deepnote_cell_type": "code",
    "deepnote_output_heights": [
     21.1875
    ],
    "deepnote_to_be_reexecuted": false,
    "execution_millis": 178,
    "execution_start": 1654954464716,
    "source_hash": "cd27a033",
    "tags": []
   },
   "outputs": [
    {
     "data": {
      "text/plain": [
       "6327"
      ]
     },
     "execution_count": 2,
     "metadata": {},
     "output_type": "execute_result"
    }
   ],
   "source": [
    "with open(\"../Data/df_tweets_selected_users_after_oct.p\", 'rb') as f:\n",
    "    tweets = pickle.load(f)\n",
    "    \n",
    "len(tweets)"
   ]
  },
  {
   "cell_type": "code",
   "execution_count": 4,
   "metadata": {
    "cell_id": "ff498b17f56d43ae803b9ca40b195af7",
    "deepnote_cell_height": 81,
    "deepnote_cell_type": "code",
    "deepnote_output_heights": [
     232.34375
    ],
    "deepnote_to_be_reexecuted": false,
    "execution_millis": 28,
    "execution_start": 1654954536672,
    "source_hash": "7f63712b",
    "tags": []
   },
   "outputs": [],
   "source": [
    "locations = tweets[\"user.location\"].value_counts()"
   ]
  },
  {
   "cell_type": "code",
   "execution_count": 5,
   "metadata": {
    "cell_id": "6b7c0a4273484f90a147815c9aa67a27",
    "deepnote_cell_height": 329,
    "deepnote_cell_type": "code",
    "deepnote_output_heights": [
     117.171875
    ],
    "deepnote_to_be_reexecuted": false,
    "execution_millis": 34,
    "execution_start": 1654954554676,
    "source_hash": "a02df5b3",
    "tags": []
   },
   "outputs": [
    {
     "data": {
      "text/plain": [
       "                                              786\n",
       "Brussels                                      356\n",
       "Brussels, Belgium                             306\n",
       "London                                        264\n",
       "Europe                                        162\n",
       "Washington, D.C.                              136\n",
       "Washington, DC                                113\n",
       "UK                                            111\n",
       "New York                                       99\n",
       "Idaho Falls, ID; Cleveland, OH                 88\n",
       "Amsterdam                                      79\n",
       "Berlin                                         67\n",
       "Vancouver Island, British Columbia, Canada     66\n",
       "United Kingdom                                 65\n",
       "London, England                                65\n",
       "Brussels (EU)                                  64\n",
       "Chicago, IL                                    63\n",
       "Prague, Czech Republic                         63\n",
       "France                                         57\n",
       "Global                                         56\n",
       "Name: user.location, dtype: int64"
      ]
     },
     "execution_count": 5,
     "metadata": {},
     "output_type": "execute_result"
    }
   ],
   "source": [
    "locations.head(20)"
   ]
  },
  {
   "cell_type": "code",
   "execution_count": null,
   "metadata": {},
   "outputs": [],
   "source": []
  }
 ],
 "metadata": {
  "deepnote": {},
  "deepnote_execution_queue": [],
  "deepnote_notebook_id": "824d8f58-d9ed-4d2c-8a53-bbad026578f4",
  "kernelspec": {
   "display_name": "Python 3.9.5 ('py39')",
   "language": "python",
   "name": "python3"
  },
  "language_info": {
   "codemirror_mode": {
    "name": "ipython",
    "version": 3
   },
   "file_extension": ".py",
   "mimetype": "text/x-python",
   "name": "python",
   "nbconvert_exporter": "python",
   "pygments_lexer": "ipython3",
   "version": "3.9.5"
  },
  "orig_nbformat": 2,
  "vscode": {
   "interpreter": {
    "hash": "b513fcd15172e0ab5c82ae9faf700bcaae5a04cf934bd8de96a5365d13a55b94"
   }
  }
 },
 "nbformat": 4,
 "nbformat_minor": 2
}
