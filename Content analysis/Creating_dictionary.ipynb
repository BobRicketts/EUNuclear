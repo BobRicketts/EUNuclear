{
 "cells": [
  {
   "cell_type": "markdown",
   "metadata": {
    "cell_id": "c594678741444557a986b717b648d341",
    "deepnote_cell_height": 82,
    "deepnote_cell_type": "markdown",
    "tags": []
   },
   "source": [
    "# Imports etc."
   ]
  },
  {
   "cell_type": "code",
   "execution_count": 8,
   "metadata": {
    "cell_id": "739ab7b3-633e-451f-bde9-53b23b1cfcab",
    "deepnote_cell_height": 153,
    "deepnote_cell_type": "code",
    "deepnote_to_be_reexecuted": false,
    "execution_millis": 48,
    "execution_start": 1655039623014,
    "source_hash": "189bd25b",
    "tags": []
   },
   "outputs": [],
   "source": [
    "import pickle\n",
    "import pandas as pd\n",
    "import numpy as np\n",
    "import seaborn as sns\n",
    "import matplotlib.pyplot as plt"
   ]
  },
  {
   "cell_type": "code",
   "execution_count": null,
   "metadata": {
    "cell_id": "5c735aabff0143d59c6dac6c460be568",
    "deepnote_cell_height": 172.1875,
    "deepnote_cell_type": "code",
    "deepnote_output_heights": [
     21.1875
    ],
    "deepnote_to_be_reexecuted": false,
    "execution_millis": 229,
    "execution_start": 1654513756665,
    "source_hash": "be6a30b6",
    "tags": []
   },
   "outputs": [
    {
     "data": {
      "text/plain": [
       "15064"
      ]
     },
     "execution_count": 3,
     "metadata": {},
     "output_type": "execute_result"
    }
   ],
   "source": [
    "with open('../Data/tweet_df_attempt3.p', 'rb') as f:\n",
    "    data = pickle.load(f)\n",
    "len(data)"
   ]
  },
  {
   "cell_type": "code",
   "execution_count": null,
   "metadata": {
    "cell_id": "b3ff70e8d51543809d2e79a180b0fa21",
    "deepnote_cell_height": 172.1875,
    "deepnote_cell_type": "code",
    "deepnote_output_heights": [
     21.1875
    ],
    "deepnote_to_be_reexecuted": false,
    "execution_millis": 61,
    "execution_start": 1654513756903,
    "owner_user_id": "c901f93b-c574-4d0b-981d-902b75cfc9d4",
    "source_hash": "d2df304d",
    "tags": []
   },
   "outputs": [
    {
     "data": {
      "text/plain": [
       "9930"
      ]
     },
     "execution_count": 4,
     "metadata": {},
     "output_type": "execute_result"
    }
   ],
   "source": [
    "s_tweets = data['full_text'].drop_duplicates() # remove duplicates\n",
    "s_tweets = s_tweets[~s_tweets.str.contains('RT')] # remove retweets\n",
    "\n",
    "len(s_tweets)"
   ]
  },
  {
   "cell_type": "code",
   "execution_count": null,
   "metadata": {
    "cell_id": "607da3093a8c45239abf4b0f6362fe0c",
    "deepnote_cell_height": 351,
    "deepnote_cell_type": "code",
    "deepnote_to_be_reexecuted": false,
    "execution_millis": 144,
    "execution_start": 1654513756973,
    "source_hash": "363ceded",
    "tags": []
   },
   "outputs": [],
   "source": [
    "# Define RegEx patterns for cleaning\n",
    "twitter_pattern = r'@[a-zA-Z0-9_]{1,16}'                 # Remove twitter handles\n",
    "retweet_pattern = r'RT'                                  # Remove retweet indicators\n",
    "short_URL_pattern = r'https:\\/\\/t\\.co\\/[a-zA-Z0-9\\-\\.]+' # Remove shortened \"https://t.co/...\" Twitter URLs\n",
    "other_URL_pattern = r'https:\\/\\/[A-z0-9?\\.\\/-_=!]+'      # Remove other URLs\n",
    "\n",
    "pattern_list = [\n",
    "    twitter_pattern,\n",
    "    retweet_pattern,\n",
    "    short_URL_pattern,\n",
    "    other_URL_pattern\n",
    "    ]\n",
    "\n",
    "# Apply patterns\n",
    "for pattern in pattern_list:\n",
    "    s_tweets = s_tweets.str.replace(pattern, '', regex = True)"
   ]
  },
  {
   "cell_type": "code",
   "execution_count": null,
   "metadata": {
    "cell_id": "93bed944e39a4163be78eb9b727689b1",
    "deepnote_cell_height": 81,
    "deepnote_cell_type": "code",
    "deepnote_to_be_reexecuted": false,
    "execution_millis": 13,
    "execution_start": 1654513757124,
    "source_hash": "87ef098f",
    "tags": []
   },
   "outputs": [],
   "source": [
    "tweets_list = s_tweets.tolist()"
   ]
  },
  {
   "cell_type": "code",
   "execution_count": null,
   "metadata": {
    "cell_id": "e77393ec531e414d92fa90c2d0c55f97",
    "deepnote_cell_height": 845,
    "deepnote_cell_type": "code",
    "deepnote_to_be_reexecuted": false,
    "execution_millis": 103,
    "execution_start": 1654513757145,
    "source_hash": "6218239a",
    "tags": []
   },
   "outputs": [
    {
     "name": "stdout",
     "output_type": "stream",
     "text": [
      "Article in Korean explicitly mention the influence of EU decision quoting Ministry of Environment – “Considering international trends and domestic conditions, nuclear power generation can be included.”\n",
      "\n",
      "Thanks to the Commission 😡\n",
      "\n",
      "#VoteThisTaxonomyDown\n",
      "\n",
      "\n",
      "___________________________\n",
      "Past #nuclear tests continue to impact people &amp; environment, including #Algeria. \n",
      "On Monday my colleague  will hold a webinar with experts, diplomats, civil society, MPs on the role of the #EU regarding victims and the environment. Join him!  \n",
      "___________________________\n",
      "🇬🇧|Environment Minister  can imagine #Germany joining #Austria &amp; #Luxembourg's lawsuit against #EU #taxonomy. In doing so, she is standing in the way of a secure energy supply. #ID #nuclear power \n",
      "___________________________\n",
      "🇬🇧|According to Environment Minister , the German government will take a clear position at the  against their proposal to classify #nuclear power as sustainable in the #EU. #Blackout &amp; expensive prices apparently don't matter! #ID \n",
      "___________________________\n",
      "and request its evaluation on the basis of objective evidence.\n",
      "\n",
      "The association, #VoicesofNuclear has joined this call: ideological prejudices must not deprive European citizens of the environmental and societal benefits of nuclear power.\n",
      "\n",
      "#EU #EuropeanCommission\n",
      "#GreenFinance\n",
      "___________________________\n",
      "sustainable investments.\n",
      "\n",
      "In response to this approach, more than 100 environmental associations and scientific and academic institutions have signed a letter addressed to the EU commissioners, to recall the essential role of nuclear energy to achieve carbon neutrality,\n",
      "___________________________\n",
      "The influence of so-called green environmental policy has risk for the #EU's🇪🇺 cohesion. \n",
      "\n",
      "Energy policy is dealt with at the Member State level. EU countries have different views on #nuclear. Green policy can be destructive if individual MS choices aren't respected. 7/ \n",
      "___________________________\n",
      "\"Russian gas supply halt would deal EU economic hit\" ()\n",
      "\n",
      "Recent geopolitical developments illustrate why #German nuclear closure is MADNESS! 😡\n",
      "\n",
      "Projects like #NordStream2 are terrible for the environment AND compromise #EU energy security... 🤦 \n",
      " \n",
      "___________________________\n",
      "While discussing #EUTaxonomy, #FORATOM DG  underlines that according to #JRC () #nuclear does not cause more harm to human health nor the environment than any other power-producing technology which is considered as #sustainable.\n",
      " \n",
      "___________________________\n",
      "Recent assessment by the EU's scientific body  that #nuclear does no more harm to human health or the environment than any other technology considered to be #sustainable may be a sign of the green stamp of approval needed for the inclusion of nuclear in #EUTaxonomy. \n",
      "___________________________\n",
      "#Nuclear industry has today called on  to expedite the inclusion of nuclear in #EUTaxonomy, following a comprehensive assessment that nuclear does no more harm to human health or the environment than any other power-producing technology considered to be sustainable. \n",
      "___________________________\n",
      "Experts tasked with assessing whether #EU should label #nuclear as a green investment have concluded that the fuel qualifies as sustainable and does no more harm to human health or to the environment than other electricity production technologies already included in #EUtaxonomy \n",
      "___________________________\n",
      "Canadian and European nuclear industries partner to promote clean energy and new nuclear\n",
      "\n",
      "\"MoU addresses the need for greater dialogue and exploration of nuclear’ s role in effective environmental stewardship\"\n",
      "\n",
      "Find out more:  \n",
      "___________________________\n",
      "What does the #nuclear sector ask for to deliver our contribution?\n",
      "✅Consistency in policy development &amp; implementation\n",
      "✅A science based environmental assessment that delivers a prompt resolution of the nuclear energy position within #EUTaxonomy.\n",
      "\n",
      "More details: ⬇️⬇️ \n",
      "___________________________\n",
      "The inclusion of nuclear and natural gas in the #EUtaxonomy comes with conditions associated with their use and with safeguards against significant environmental harm 🧵2/4 \n",
      "#EUinvest\n",
      " \n",
      "___________________________\n",
      "46 environmental NGOs request #nuclearenergy’s fair recognition in the European taxonomy. \n",
      " #cleanenergy #uranium\n",
      "___________________________\n",
      "\"Germany is also under fire from most EU members and environmentalists for...Nord Stream 2, which will transport gas from Russia directly to Germany...On the other hand, Germany is about to exit nuclear power and lobbied against a green label for the technology...\"\n",
      "\n",
      "Says it all.\n",
      "___________________________\n",
      "EU experts to say #nuclear power qualifies for #green investment label. The JRC report did not reveal any science-based evidence that nuclear energy does more harm to human health or to the #environment than other #electricity production technologies. \n",
      "___________________________\n",
      "\"Exploding European energy prices have refueled the already tense debate on EU energy policy. One of the topics for this week’s #EUCO is to debate whether #nuclear should be recognized as environmentally friendly under the EU’s so-called “taxonomy” regulation.\"\n",
      "___________________________\n",
      " \"we urgently ask the EU Council and EU Parliament to (..) remove gas and nuclear from the list of environmentally sustainable activities\" \" \n",
      " \n",
      "#fossilgas #fossilfuels #climatecrisis #climateemergency\n",
      "___________________________\n",
      "\" we urgently ask the European Council and European Parliament to veto and reject the Taxonomy Complementary Climate Delegated Act and remove gas and nuclear from the list of environmentally sustainable activities\" \n",
      "\n",
      "___________________________\n",
      "+++ This. Is. Huge. +++\n",
      "\n",
      "Statement by : \n",
      "\n",
      "\"..reject the Taxonomy Complementary Climate Delegated Act and remove gas and nuclear from the list of environmentally sustainable activities\"\n",
      "👇\n",
      " \n",
      "\n",
      "#eutaxonomy #sustainablefinance #Laudatosi \n",
      "___________________________\n",
      "The EU resolution says that nuclear power is not environmentally sustainable. We would argue that the environment is not sustainable without nuclear. \n",
      "___________________________\n",
      "Such a strategy was the only one that ever made any sense from an environmental point of view. Nuclear and natural gas are the two technologies that are most responsible for declining emissions by the US and Europe since the 1970s.\n",
      "___________________________\n",
      "Nuclear energy a low-carbon energy source!🤔🤣 Will play important role in meeting EU climate targets.😱 Wake up to &amp; stop Nuclear agenda😱\n",
      "Europe needs nuclear energy, says new Foratom president : Energy &amp; Environment - World Nuclear News \n",
      "___________________________\n",
      "Nuclear energy now environmentally friendly energy. Ironic farce -  Nuclear industry working on this for decades &amp; planned to  use climate change to push their own agenda.  EU includes nuclear in clean energy transition plans \n",
      "___________________________\n",
      "⚛️🇪🇺 Experts asked to assess whether the #EU should label #nuclear power as a green investment have concluded it does no more harm to health or environment than other energy technologies, says a leaked report seen by NucNet. #taxonomy #Europe \n",
      "\n",
      "➡️➡️Read: \n",
      "___________________________\n",
      "🇦🇺🇪🇺The  of #Australia has written to the #EuropeanCommission, urging it to back #NuclearPower on a list of environmentally friendly developments.\n",
      "\n",
      "▶️Read:  \n",
      "\n",
      "#Nuclear #NuclearEnergy #Taxonomy #EU #EC\n",
      "___________________________\n",
      "⚛️ Slightly elevated levels of three different #radioisotopes detected in northern #Europe pose no risk to human #health or the #environment, the International Atomic Energy Agency () said.\n",
      "#nuclear #news\n",
      "\n",
      "▶️ Read more:  \n",
      "___________________________\n",
      "⚛️ More than 100 nuclear societies, scientists and environmentalists have written to the  and #EU policymakers to urge them to assess ‘do no significant harm’ criteria for #nuclear.\n",
      "#energy #news\n",
      "\n",
      "▶️Read more:  \n",
      "___________________________\n",
      "#Europe’s #NuclearEnergy industry has welcomed an agreement between the European institutions on new criteria to determine whether an economic activity is environmentally sustainable and the fact that it does not blacklist #nuclear.  #EUtaxonomy #EU\n",
      "___________________________\n",
      "SNETP welcomes the publication of the JRC assessment of nuclear energy which concludes that nuclear energy does no more harm to health or to the environment than other technologies already included in the EU Taxonomy“.\n",
      "\n",
      "#nuclearenergy #EUtaxonomy #lowcarbon \n",
      "___________________________\n",
      "Even the EU confirms that Nuclear is part of the climatic solution...! #Nuclear4Climat !! ⚛️Taxonomy can move forward with nuclear, JRC finds : Energy &amp; Environment - World Nuclear News \n",
      "___________________________\n",
      "Following analysis highlighting the environmental benefits of nuclear power, the European Commission has announced plans to include nuclear power in the European Taxonomy, opening up the sector for more finance \n",
      "\n",
      "\n",
      "___________________________\n",
      "Including #nuclear in the EU sustainability taxonomy would ensure that it is in line with the science as shown by the IPCC &amp; numerous reports including this one by UNECE showing nuclear with the lowest lifecycle environmental footprint.  \n",
      "___________________________\n",
      "So  is rejecting the UNECE findings that #nuclear has the lowest environmental footprint of all energy sources because the agency has a Pan European mission. \n",
      "\n",
      "Yikes. \n",
      "\n",
      "Can't work out if that's racist or just anti science. #auspol \n",
      "___________________________\n",
      " Reality is that existing national regulations and EU directives/treaties are more than sufficient to ensure the safe and environmentally sustainable operation of nuclear facilities - including the responsible management and disposal of high level waste and used fuel 9/\n",
      "___________________________\n",
      "As terrible events in Ukraine expose gas and nuclear as drivers of European energy insecurity, 10 leading EU environmental organisations have written to , calling for the withdrawal of the #taxonomy delegated act\n",
      "\n",
      "#StopFakeGreen #EUTaxonomy \n",
      "\n",
      " \n",
      "___________________________\n",
      "Greenpeace and 12 leading environmental and consumer groups wrote to  today, requesting an urgent meeting to raise our grave concerns about the #EUTaxonomy\n",
      "\n",
      "Gas and nuclear do not belong in the EU's list of sustainable investments!\n",
      "\n",
      " \n",
      "___________________________\n",
      "EU Commission's scientific committee on health &amp; environmental risks warns about flawed and incomplete statement on nuclear energy for #EUTaxonomy funding\n",
      "\n",
      "In particular, assessment of radiation impact is found to be \"simplistic\"\n",
      "\n",
      "#SustainableFinanceEU\n",
      " \n",
      "___________________________\n",
      "56. Believes that nuclear power is neither safe, nor environmentally or economically sustainable; proposes, therefore, that a just transition strategy be developed for the phasing out of nuclear power in the EU, including the provision of new jobs for people working in nuclear\n",
      "___________________________\n",
      "What's happening with #EU #taxonomy? \n",
      "'s widely leaked Complementary Delegated Act includes gas &amp; nuclear - labelling both as sustainable economic activities &amp; going against own environmental objectives &amp; idea of science-based taxonomy!\n",
      " \n",
      "___________________________\n",
      "What's happening with #EU #taxonomy? \n",
      "Recently, the  shared Delegated Act, including #gas &amp; #nuclear - labelling both as sustainable economic activities &amp; going against own environmental objectives + idea of a science-based taxonomy\n",
      "READ: \n",
      "___________________________\n",
      "Existing nuclear is zero emissions - tick - but draft CDA criteria do not require no significant harm to EU environmental objectives as needed under the #EUTaxonomy Regulation: water &amp; marine; circular economy; pollution prevention &amp; control; biodiversity &amp; ecosystems.\n",
      "___________________________\n",
      "Unfortunately, this ruling was not informed by a Strategic Environmental Assessment or public participation concerning the environment, as France is obliged to under EU law, #Espoo and #Aarhus. That could complicate the reactor by reactor assessment. #nuclear  \n",
      "___________________________\n",
      "2/3 Together with  Convention, EU EIA, Habitats and Bird Directives, it is clear that every decision on #nuclear plants must be informed by an Environmental Impact Assessment - especially when citizens face longer exposure to their risk than they earlier could expect.\n",
      "___________________________\n",
      "On my way to The Hague, Raad van State (highest administrative court) because of lack of environmental information, public participation and #EIA in license change during extended life time #Borssele #nuclear plant. #Aarhus, #Espoo and #EU at work.   \n",
      "___________________________\n",
      "European Commission presents text of nuclear and gas CDA : Energy &amp; Environment - World Nuclear News \n",
      "___________________________\n",
      "Report reinforces nuclear's role in EU low-carbon energy system : Energy &amp; Environment - World Nuclear News  \n",
      "\n",
      "___________________________\n",
      "Foratom highlights nuclear's role in EU hydrogen economy : Energy &amp; Environment - World Nuclear News \n",
      "___________________________\n",
      "Nuclear to be included in Delegated Act of EU taxonomy : Energy &amp; Environment - World Nuclear News \n",
      "___________________________\n",
      "Ambitious EU emissions target needs nuclear, says Foratom : Energy &amp; Environment - World Nuclear News \n",
      "___________________________\n",
      "Poland's bid for nuclear power \"We achieve something that is very important for Europe. On the one hand, care for the natural environment, on the other: we maintain energy security,\" \n",
      "___________________________\n",
      "“#Orano will continue to play its part in the European Green Deal, ensuring that the EU reaps all the benefits of the sustainable use of #Nuclear power and improving its own environmental footprint.” #greenrecovery 7/7\n",
      "___________________________\n",
      "The EU has finally caught up with science. We're looking at you, Germany 👀\n",
      "\n",
      "\"The analyses did not reveal any science-based evidence that nuclear energy does more harm to human health or to the environment than other electricity production technologies\" &gt;\n",
      "\n",
      "\n",
      "___________________________\n",
      "Inkluderar JRC:s egen ordalydelse “there is no science-based evidence that nuclear energy does more harm to human health or to the environment than other electricity production technologies already included in the EU Taxonomy as activities supporting climate change mitigation“.\n",
      "___________________________\n",
      "European Commission presents text of nuclear and gas CDA : Energy &amp; Environment - World Nuclear News \n",
      "___________________________\n",
      "Grossi 'absolutely confident' of nuclear's inclusion in EU taxonomy : Energy &amp; Environment - World Nuclear News \n",
      "___________________________\n",
      ". has cleared the #EUTaxonomy 1st Climate Delegated Act, which lays the foundations of #SustainableFinanceEU in the EU.\n",
      "\n",
      "Now it’s time for the Complementary Delegated Act which will include #nuclear energy and qualify it as environmentally sustainable. \n",
      "___________________________\n",
      "Why #Poland🇵🇱 is betting on #nuclear to help #EU meet its climate goals.\n",
      "\n",
      "Polish government says the rationale for investing in nuclear rests on 3 pillars:\n",
      "✅energy security\n",
      "✅climate &amp; environment\n",
      "✅economy\n",
      "\n",
      "Check out my latest article for : \n",
      "___________________________\n",
      "EU experts confirmed that #nuclear does not cause more harm to human health nor the environment than any other technology which is considered as sustainable under #EUTaxonomy.\n",
      "\n",
      "Check out  comment and find out what happens next. \n",
      "___________________________\n",
      "Including nuclear power and gas into the EU taxonomy sends the wrong political signal, both from an environmental &amp; economic point of view. \n",
      "\n",
      "Putin's war on Ukraine shows that we should free ourselves from both our dependency on fossil energies &amp; the risks of nuclear power. \n",
      "🧵/2\n",
      "___________________________\n",
      "☢️ #Chernobyl35 / : The exclusion zone around the #nuclear plant is still contaminated. As an MEP, I am fighting for the #EU to continue investing in the #health &amp; environmental protection of #Chernobyl's people.\n",
      "\n",
      "Read more: \n",
      "\n",
      " \n",
      "___________________________\n",
      "Belgium has postponed a planned phaseout of nuclear power, citing \"a chaotic geopolitical environment\" as the war in Ukraine disrupts energy markets across the EU. \n",
      "___________________________\n",
      "On nuclear - ‘the #EUtaxonomy isn’t just only about climate, it is about environmental sustainability as a whole’  tells . 👇 \n",
      "___________________________\n",
      "“At the absolute minimum,  should tighten the draft criteria to reflect the full impact of gas &amp; nuclear energy on #climate &amp; environment and strengthen governance rules to prevent #greenwashing.”\n",
      "\n",
      " on #EUTaxonomy in  \n",
      "___________________________\n",
      "🇪🇺 experts say including nuclear energy in the #EUTaxonomy contravenes the “do no significant harm” (DNSH) principle. ☢️❌\n",
      "\n",
      "This principle is essential to ensure that an activity does not damage the various environmental objectives of the taxonomy.\n",
      "___________________________\n",
      "Being low carbon is NOT enough to enter the #EUTaxonomy.\n",
      " \n",
      "An activity also needs to not significantly harm several environmental objectives, like water preservation or pollution prevention.\n",
      " \n",
      "But 's research group forgot to look at this for #nuclear...\n",
      "___________________________\n",
      "Austrian Institute of Ecology new report on nuclear power shows flaws in ’s paper on nuclear and #EUTaxonomy\n",
      "\n",
      "Radioactive waste can pollute the environment, harming biodiversity and ecosystems!\n",
      "\n",
      "Keep nuclear out of the Taxonomy⚠️\n",
      "Full report➡️\n",
      "___________________________\n",
      " I would challange Canfin to provide evidence of ANY case where spent nuclear fuel in EU has posed real (not imagined) danger to environment.\n",
      "___________________________\n",
      "       I add that to start a siting, environmental impact estimation, prepare organisation for licensing you need to finance and plan every detail now &amp; that is unlikely in EU with non-LWR reactors in 2030s. Regulatory requirement clear: operational experience and detail on fuel cycle.\n",
      "___________________________\n",
      "Sharing a few highlights of the productive working week in the Ministry.\n",
      "\n",
      "We intensified our cooperation with the USAID, EU, the Energy Community Secretariat, the EBRD, EUAM &amp; the German Ministry for Environment, Nature Conservation and Nuclear Safety.  \n",
      "___________________________\n",
      "Help us to clean-up our #environment after shut-down of a #nuclear☢️ installation! \n",
      "\n",
      "Discover how in the EU Academy Course on Nuclear Decommissioning: \n",
      "\n",
      "#EUacademy \n",
      "___________________________\n",
      "  The Regulation reflects a delicate compromise on the question of whether or not to include nuclear energy in the EU taxonomy. While nuclear is consistently acknowledged as a low-carbon energy source, opinions differ on potential environmental impact of nuclear waste. /3\n",
      "___________________________\n",
      "Help coal-dependent countries switch to nuclear, ministers tell EU : Energy &amp; Environment - World Nuclear News \n",
      "___________________________\n",
      "#Wylfa #Newydd #nuclear plant gets #EU environmental backing - #energypolicy \n",
      "___________________________\n",
      "The Canadian Environment Domestic Advisory Group is an opportunity to support the EU reducing reliance on Russian gas including Small Modular Reactors.\n",
      "#SMRActionPlan           \n",
      "___________________________\n",
      "The draft EU taxonomy says nuclear power should be considered a sustainable economic activity as long as EU countries that host power stations can safely dispose of waste and meet a criteria to cause “no significant harm” to the environment as per \n",
      " \n",
      "___________________________\n",
      " Contributing to record prices for energy in the EU is environmental organizations framing #ClimateAction as renewables versus nuclear, rather than climate change being serious and requiring every tool.\n",
      "Here is IISD arguing for solar instead of #HinkleyC in 2016 \n",
      "___________________________\n",
      "Coal prices skyrocket in Europe. \n",
      "\n",
      "That's partly because fearful “environmentalists” insisted Europe abandon nuclear energy -- even though it's one of the cleanest energy sources: \n",
      "___________________________\n",
      " suggesting #Nuclear for #Transition rather than #Green category of #EU #Taxonomy, stating: \"Let’s face it, no one will ever be able to demonstrate that #NuclearWaste doesn’t pose any problem for the environment.\"\n",
      "\n",
      "___________________________\n",
      "The criteria for the specific gas and nuclear activities are in line with EU climate and environmental objectives and will help accelerating the shift from solid or liquid fossil fuels, including coal, towards a climate-neutral future. 2/\n",
      "___________________________\n",
      "Legal action begins around the environmental integity of the first EU taxonomy Delegated Act. Will we be seeing similar stories on gas and nuclear later in the year? \n",
      "___________________________\n",
      "The nuclear disaster in #Chornobyl\n",
      "➕\n",
      "Russian attacks on #Zaporizhzhia power plant\n",
      "🟰 \n",
      "reasons why nuclear power is not sustainable: it can lead to social &amp; environmental catastrophe!\n",
      "\n",
      "We join  in calling on  to withdraw nuclear &amp; gas in the #EUTaxonomy \n",
      "___________________________\n",
      "Gas and nuclear are not sustainable investements🚨\n",
      "\n",
      "Together with other 12 leading environmental and consumer groups, we wrote to  to express our grave concerns and request an urgent meeting\n",
      "\n",
      "Gas and nuclear must be out of the #EUTaxonomy!\n",
      "👇\n",
      " \n",
      "___________________________\n",
      "European Association for Renewable Energie Eurosolar rejects 'any elements of #nuclear and natural gas supply in the #EU taxonomy for environmentally sustainable activities.'\n",
      "\n",
      "\n",
      "___________________________\n",
      "Germany's environment minister: \"absolutely wrong\" to call #nuclear 'green'. \n",
      "\n",
      "#EU\n",
      "___________________________\n",
      "German Govt. calls EU nuclear push \"greenwashing\". Environment Minister Lemke and Economics Minister Habeck sharply criticize the #EU Commission's #nuclear proposal. A technology that leaves behind hazardous waste \"cannot be sustainable\".\n",
      " via \n",
      "___________________________\n",
      "\"To put nuclear power at the heart of European environmental policy, France is ready to join forces with countries which promote fossil fuels.\"\n",
      " \n",
      "#nuclear #Europe #EU #cliamte\n",
      "___________________________\n",
      "[political scientist Dominique Reynie also reported that 🇷🇺 state-owned gas corporation Gazprom had funded various environmental NGOs that had advocated for the abandonment of nuclear power. Less nuclear power &amp; gas production inside Europe means increased dependency on 🇷🇺 gas.]  \n",
      "___________________________\n",
      "An opinion by Tim Yeo, Chairman of the New Nuclear Watch Institute. \"#Nuclear #power offers Southeast #Europe a means to preserve the security of  supply, to meet environmental commitments, to support the future social and economic development\"\n",
      "\n",
      "___________________________\n",
      "\"This means biodiversity laws could be sidelined in some circumstances to make way for new wind or solar farms.\" \n",
      "\n",
      "EU Renewables lobby willing to drive a horse and four through environmental protections...and use   high emissions LNG as backup.\n",
      "\n",
      "Nuclear energy avoids this. \n",
      "___________________________\n",
      "EU Taxonomy: why nations are backing Nuclear and Gas. 9 use nuclear + 10 use gas for over 30% of their power mix. See the stats + rules for inclusion as a “sustainable activity”  #taxonomy #nuclear #gas #France #Germany #financing #emissions #environment \n",
      "___________________________\n",
      "“The analyses did not reveal any science-based evidence that nuclear energy does more harm to human health or to the environment than other electricity production technologies,”\n",
      "\n",
      "LEAK: EU experts to say nuclear power qualifies for green investment label \n",
      "\n",
      "___________________________\n",
      "📣| Great to see 46 environmental NGOs request #nuclear #energy’s fair recognition in the European #taxonomy.\n",
      "\n",
      "Considering the JRC report it’s a real no-brainer for the ⁦⁩ to step up and enable true 24/7 #ClimateAction across the Union. \n",
      "___________________________\n",
      "🎯| ”Analyses did not reveal any science-based evidence that #nuclear energy does more harm to human health or to the environment than other electricity production technologies already included in the #Taxonomy”\n",
      "\n",
      "Seems sanity prevails in the #EUtaxonomy!\n",
      "✔️ \n",
      "___________________________\n",
      "🇩🇪| #Energiewende presents: 1,1GW of brand new coal power in the heart of Europe, commencing 18 years of environmental destruction and premature deaths this Saturday.\n",
      "\n",
      "Remember that torn down  #nuclear plant? 1,3GW of clean power? Here’s the substitute. \n",
      "___________________________\n",
      "🇩🇪 | Horrible scenes this morning as cooling towers at #Philippsburg #nuclear power plant are demolished.\n",
      "\n",
      "A true disaster for #EU #environment and #climate goals as #fossil gas sweeps in to replace, courtesy of #Energiewende.\n",
      "\n",
      " with the story:\n",
      " \n",
      "___________________________\n",
      "🇵🇱| ⁦⁩ on Poland’s ambitious goal to become a #nuclear #energy nation ASAP. \n",
      "\n",
      "“We achieve something that is very important for #Europe. On the one hand, care for the natural environment, on the other: we maintain energy security” \n",
      "___________________________\n",
      "🤦🏼‍♀️ | #Nuclear ‘excluded’ from EU’s new Just Transition Fund. Insanity prevails again.\n",
      "\n",
      "Now’s the time for an #eco_rational movement to spread across Europe. With rational environmentalists ready to speak up about the need of reliable clean energy. \n",
      "___________________________\n",
      "One of our big dreams at Karnfull is to, in anyway possible, help facilitate the continued operation of #Ringhals 1 — due to be closed Dec 2020. \n",
      "\n",
      "Whatever role we can play in helping Europe avoid another environmentally disastrous closure would be amazing. \n",
      "\n",
      "Stay tuned. #nuclear \n",
      "___________________________\n",
      "     2 You assert that UNECE is biased with no evidence.\n",
      "I supply the EU JRC scientific review conclusion that nuclear does no significantly harm to health and environment beyond other green sources.\n",
      "I show that the AAAS and IPCC scientists recommend new nuclear for climate mitigation\n",
      "___________________________\n",
      "  Untrue.  The EU joint research council “analyses did not reveal any science-based evidence that nuclear energy does more harm to human health or to the environment than other electricity production technologies already included in the Taxonomy…”\n",
      "\n",
      " \n",
      "___________________________\n",
      "Platform on Sustainable Finance’s rejection of the EU Commission proposal on sustainable finance taxonomy \"a wake-up call\" \n",
      "\n",
      "Requires in-depth discussions on future of nuclear power and natural gas, German environment ministry  says \n",
      "___________________________\n",
      "German government coalition united on rejection of nuclear in EU taxonomy but has little influence on outcome \n",
      "\n",
      "Environment minister  prepares “clear no” on EU proposal, backed by civil society groups\n",
      "\n",
      " #nuclear #EUTaxonomy \n",
      "___________________________\n",
      "German government coalition united on rejection of nuclear in EU taxonomy but has little influence on outcome \n",
      "\n",
      "Environment minister  prepares “clear no” on EU proposal, backed by civil society groups \n",
      "\n",
      " #nuclear #EUTaxonomy \n",
      "___________________________\n",
      ". delegation at  in New York.\n",
      " MEPs discussed challenges to #armscontrol and nuclear proliferation with UN High Representative for #disarmament.  Global security environment is dire, said  and thanked #EU for strong support in arms control. \n",
      "___________________________\n",
      "🇨🇵 #France not achieving its #renewables target (but #Macron: the environment, bla bla). Wait, prob. because of wrong focus on expensive, unflexibel, risky + unsustainable #nuclear? #EUTaxonomy  \n",
      "___________________________\n",
      "Ambientalisti UE chiedono a Von der Leyen di rivedere #TassonomiaUE per investimenti sostenibili\n",
      "“As terrible events in Ukraine expose gas and nuclear as drivers of European energy insecurity” 10 EU environmentalists ask  the withdrawal of the #taxonomy delegated act” \n",
      "___________________________\n",
      "     2[T]he Technical Expert Group (TEG) DNSH [‘do no significant harm’] assessment on nuclear fission technologies which recommended to the Commission that nuclear should not be included in the EU Taxonomy of environmentally sustainable activities.” \n",
      "___________________________\n",
      "  The TEG recommended to the Commission that nuclear should not be included in the EU Taxonomy of environmentally sustainable activities. The science is clear. 2/2 \n",
      "___________________________\n",
      "If the cooling stops, the temperature at the spent nuclear fuel pools will rise, steam will appear, and radioactive substances will be released into the environment. The radioactive cloud might be spread to the regions of Ukraine, to Belarus, Russia, and Europe. 5/\n",
      "___________________________\n",
      "  You think that furnaces at the home- business- level are more environmentally prudent than electricity power plants? Agreed that the nuclear should be kept around. They could also build more. What they should have done early is retire coal. Though NG is more expensive in EU\n",
      "___________________________\n",
      "Withdraw the #taxonomy delegated act! \n",
      "10 leading 🇪🇺 environmental organizations call to  to stop labeling gas and nuclear energy as green.\n",
      "\n",
      "Read the full letter here 👇\n",
      "\n",
      "\n",
      "#EUTaxonomy\n",
      "___________________________\n",
      "CAN Europe and 12 leading environmental and consumer groups wrote to  today, requesting an \n",
      "➡️➡️URGENT MEETING⬅️⬅️\n",
      "to raise our grave concerns about the #EUTaxonomy\n",
      "\n",
      "#Gas and #nuclear do not belong in the EU's list of sustainable investments!\n",
      "\n",
      "\n",
      "___________________________\n",
      "🆕The Commission's expert report finds what NGOs have been warning of ➡️ #fossilgas and #nuclear are not environmentally sustainable, and the proposed criteria are not consistent with the #EUTaxonomy that classifies green investments \n",
      "___________________________\n",
      "Youth and Environment Europe (YEE) is hosting an online workshop: The state of nuclear power energy in Europe - why nuclear energy is not the answer to tackle the climate crisis . Would you like to attend?\n",
      "\n",
      "\n",
      "\n",
      "#europe #environment #EnergyCrisis #nuclear \n",
      "___________________________\n",
      "   is not green or sustainable! \n",
      "But nuclear energy is.\n",
      "\n",
      "Respectfully, \n",
      "Please don’t let Greenpeace to undermine the scientific basis of the #EUTaxonomy. \n",
      "\n",
      "We need nuclear energy.\n",
      "Stop Faux-environmentalism\n",
      "#MoneyForChange #StopFakeGreen\n",
      "FIFY, You're Welcome.\n",
      "___________________________\n",
      "I voted for Brexit, not because I am anti our European friends but so that UK might escape the dead hand of negative Greenery and help lead all nations towards a true nuclear future free of both carbon and the destruction that ineffective \"renewables\" inflict on the environment. \n",
      "___________________________\n",
      "      Why listen to scaremongering and pseudoscience? The facts are there in the EU JRC. There is “no science-based evidence that nuclear energy does more harm to human health or to the environment than other electricity production technologies already included in the Taxonomy”. QED. \n",
      "___________________________\n",
      "Makes one wonder if the Environmentalist movements have been infiltrated by fossil activists in disguise. Wind energy poses no threat to gas as seen in Europe lately. Nuclear does😉 \n",
      "___________________________\n",
      "  The taxonomy is not about speed or cost, it is about environmental sustainability. Besides, you can build nuclear on time and with a lower cost, we've just lost the skill in Europe. Nuclear belongs to the taxonomy if you look at environmental impact:\n",
      "\n",
      "\n",
      "___________________________\n",
      "EU Commissioner Sinkevičius is discussion with his Ukrainian counterparts the areas in his portfolio, pledging that the EU will help #Ukraine rebuild its environment and its nuclear safety.\n",
      "\n",
      "___________________________\n",
      "EU Financial Services Commissioner  is presenting the #taxonomy plan now at the Berlaymont headquarters.\n",
      "\n",
      "As she does so, environmental campaigners are outside protesting the decision to include nuclear and gas, saying it \"buries the #EUGreenDeal\" into irrelevance. \n",
      "___________________________\n",
      "Just in the last hours of 2021, the  proposed to include #fossilgas and nuclear in the list of sustainable activities.\n",
      "It’s a green light to investments that will do significant harm to climate and environment.\n",
      "🇪🇺Parliament and Council must oppose this! \n",
      "#EUTaxonomy \n",
      "___________________________\n",
      "Let's fracking go! If we frack in Europe that would be better for the environment because we can monitor escaped methane. Oh, get some nuclear plants started so at some point we can then get off gas. \n",
      "___________________________\n",
      "Excellent opportunity to hear from  &amp; Poland’s Minister of Climate and Environment Michal Kurtyka regarding the role of nuclear power in decarbonization, certainly for Central &amp; Eastern Europe. \n",
      "\n",
      "Convenient 10:30 a.m. EDT start for those of us in North America too! \n",
      "___________________________\n",
      " 2/2 The UK is home to several promising advanced reactor developers (but suffers from a lack of a credible financing environment). Europe is quieter on this front; not a lot of progress to my (🇺🇸 w/ 🇨🇦🇬🇧 focus) knowledge; 🇪🇺 leading on *fusion* development. 🇰🇷 looking at ⚛️ships.\n",
      "___________________________\n",
      " &gt; Environment Minister Lemke was even more blunt in her criticism. “I think it is absolutely wrong that the European Commission intends to include nuclear power in the EU taxonomy for sustainable economic activities”\n",
      "\n",
      "Doesn’t sound like they are worried about the fossil gas.\n",
      "___________________________\n",
      "Csaba Dohóczki, VP of Group of European Municipalities with Nuclear Facilities (GMF): #nuclear creates jobs, ensures prosperity of regions; early closures lead to its destruction. Mayors have first-hand knowledge of environmental aspects of nuclear operations. #ENEF19 \n",
      "___________________________\n",
      "Air pollution is the number-one #environmental cause of death in the EU, leading to over 400,000 premature deaths each year, says EU Commissioner  . Disregarding #nuclear in this debate is just wrong.  via   \n",
      "___________________________\n",
      "In this week’s #PGSNewsletter #NuclearNewsandViews, #Russia’s Kola #nuclear power plant received an extension to continue operations until 2033, making it one of the oldest operational reactors in the world, increasing #environmental concerns across #Europe. \n",
      "#nuclearreactor\n",
      "___________________________\n",
      "   In Europe Co2 taxes are only €20/tonne when we know they should be at least €200 or more. \n",
      "\n",
      "Radioactive waste should have a very high tax were it being emitted into the environment. But it isn't. It's regulated to be taken care of by the industry. Unlike Co2.\n",
      "___________________________\n",
      "I've serious objections to gas and nuclear as sustainable investments in the EU Taxonomy - environmental concerns, lack of public participation, and investors own objections.\n",
      "\n",
      "I wrote to the Climate Committee last week and we have asked  to raise with EU. \n",
      "___________________________\n",
      " I suppose the AG just interpreting EU law and there would need to be a change in law to prioritise environment ... but hard to see that happening given so many MS heavily invested in nuclear for reducing emissions, political prestige.\n",
      "___________________________\n",
      "European commission was right to allow British gov to aid Hinkley Point in 2014, says #ECJ advocate-general, calling on court to reject Austria's challenge. (It's a non-binding opinion).\n",
      "\n",
      "State's right to develop nuclear power cannot be subordinated to environmental protection. \n",
      "___________________________\n",
      "🆕🆕🆕 Nuclear Law Bulletin No. 105\n",
      "\n",
      "In this issue: \n",
      "\n",
      "👉 \"Environmental impact assessments and long-term operation of nuclear power reactors: increasing importance of environmental protection in the European Union?\" \n",
      "\n",
      "Download here ➡️ \n",
      "\n",
      "#NuclearLaw \n",
      "___________________________\n",
      "“ELEMENTAL POWER”\n",
      "\n",
      "Huge WIN for the environment + true environmentalists\n",
      "\n",
      "Regulators agree to accept what is true:\n",
      "Europe to label nuclear + natgas “green” \n",
      "___________________________\n",
      "“In other news, US + EU “environmentalists” cloaked in virtue, protesting nuclear inanely conflating it with war, have unintentionally caused massive energy shortages, spiked power prices and ceded geopolitical advantage to oppressive authoritarians—Here’s Tom with the weather.” \n",
      "___________________________\n",
      "Austria’s environmental agency thinks the site planned for the extension of the Paks nuclear plant, built by Russia, pushed by Orban, is unsuitable. The agency also raised concerns about how the site permit was granted. MEPs asked the EU Commission on this \n",
      "___________________________\n",
      "Europe needs nuclear energy, says new Foratom president : Energy &amp; Environment - World Nuclear News \n",
      "___________________________\n",
      "The EU Commission seems to be very confused with one report saying that analyses did not reveal any science-based evidence that nuclear energy does more harm to human health or to the environment -  - but yet the Commission dither on whether to use nuclear.\n",
      "___________________________\n",
      "EBRD/EU: Signing revised/updated Strategic Master Plan Environmental Remediation of Uranium Legacy Sites in Central Asia - Significant progress, EU already allocated 56 M€, but 40 M€ funding gap to address radioactive &amp; toxic waste in region remains\n",
      "👉 \n",
      "___________________________\n",
      "This shows EU and JRC strong commitment to environmental protection, its sustainable development, health &amp; safety measures which is fundamental in order to ensure present &amp; future protection, appropriate radioactive waste management and a transparent interaction with stakeholders \n",
      "___________________________\n",
      "Norway has stepped up radiation monitoring after the incident but hasn’t detected anything abnormal. On Monday, its Nuclear Safety and Environmental Protection department said local and European monitors hadn’t shown any increase in radiation levels \n",
      "___________________________\n",
      "#Europe needs #nuclear power for environmental &amp; energy purposes  \n",
      "___________________________\n",
      "  This isn't surprising given that environmental groups are pressuring governments in Europe to close their nuclear plants before they have enough clean energy to replace them. #RethinkNuclear\n",
      "___________________________\n",
      "Exciting news: our European network of environmental NGOs, newly under the name RePlanet, is organizing a debate about nuclear power and the EU sustainable finance taxonomy.\n",
      "\n",
      "Great article on that by two of our experts,  and  \n",
      "\n",
      "\n",
      "___________________________\n",
      "       Yes, because maybe we should. Like the EU project looking at all health and environmental burdens externalised on the society. The conclusion? It’s biomass and solar that are questionable, not nuclear. \n",
      "___________________________\n",
      "   Environmentally, EU ExternE project: nuclear hydro, wind&amp;geothermal save lives&amp;pose smallest burdens on nature.  \n",
      "___________________________\n",
      "        \"The EU taxonomy would provide companies, investors and policymakers with appropriate definitions for which economic activities can be considered environmentally sustainable.\" \n",
      "\n",
      "This will impact which technologies get favourable financing. Nuclear meets the scientific criteria\n",
      "___________________________\n",
      "      EU Science report -&gt;The disposal of spent nuclear fuel does not pose significant harm to human health or the environment.\n",
      "\n",
      "Total impact on human health of emissions from nuclear energy is comparable with the human health impact from offshore wind energy.\n",
      "\n",
      "\n",
      "___________________________\n",
      "   The Irish 'Green'-sponsored nuclear ban is hard to justify now that the EU Research Centre says that nuclear causes no more harm to humans or the environment than offshore wind.\n",
      "Can they change their minds, though?  \n",
      "___________________________\n",
      "Ireland's nuclear ban is a nonsense.\n",
      "\n",
      "The EU finds no \"science-based evidence that nuclear energy does more harm to human health or to the environment than other electricity\" technology.\n",
      "\n",
      "     \n",
      "___________________________\n",
      "The EU study found no \"science-based evidence that nuclear energy does more harm to human health or to the environment than other electricity production technologies already included in the Taxonomy as activities supporting climate change mitigation.\"  \n",
      "___________________________\n",
      " As an Environmental Engineer, how can you favour coal-fired power stations, with or without carbon capture &amp; storage, and US shale gas over clean and safe European nuclear energy? \n",
      "___________________________\n",
      "European Commission presents text of nuclear and gas CDA : Energy &amp; Environment - World Nuclear News \n",
      "___________________________\n",
      "'The inclusion of nuclear power in European taxonomy is welcome but too full of clauses to be useful for long-term nuclear investors and is more a result of political posturing than environmental science, say investors and industry heads.'\n",
      "\n",
      "#sustainability\n",
      "\n",
      "___________________________\n",
      "Scientific experts have reiterated gas and nuclear have no place in this EU regulation. I also spoke to experts and campaigners from   and  - according to many environmental organisations including gas and nuclear is greenwashing.\n",
      "___________________________\n",
      "   IIRC, ARENH is part of the \"environmental\" policy of reducing the share of nuclear energy in France.\n",
      "\n",
      "It's also part of EU policy to prevent EDF from - sooner or later - taking over the entire European electricity supply.\n",
      "\n",
      "It's deliberate, planned and institutionalised sabotage.\n",
      "___________________________\n",
      "French report: Russia/Gazprom funded Western environmental NGOs to agitate to shut down European nuclear power plants. \n",
      "___________________________\n",
      "Opinion that draft second delegated act on the #EUtaxonomy proposed to classify #nuclear energy and natural #gas plants as environmentally #sustainable investments is #illegal and incompatible with the EU Taxonomy Regulation and with EU primary law.\n",
      "\n",
      "\n",
      "___________________________\n",
      "German Environment Minister Steffi Lemke described the proposal as \"wrong\", adding that nuclear energy could lead to environmental disasters and large amounts of nuclear waste. As EU sends draft plans to label gas and nuclear energy 'green' in #eutaxonomy  \n",
      "___________________________\n",
      "18 nuclear reactors in EU and at least a dozen in non-EU Europe are running without required environmental impact assessment \n",
      "___________________________\n",
      " Net negative for the environment too. Let's hope the energy crisis in Europe injects some common sense and more nuclear nuclear builds in the future!\n",
      "___________________________\n",
      "Next,  notes that the relationship between the #TPNW and #NATO is tense b/c NATO is inherently a #nuclear alliance. She asks all to think, what do we *want* the NATO-TPNW to be? What would have to change in the European security environment to improve this? \n",
      "___________________________\n",
      "   In the case of the Doel 1 and Doel 2 nuclear reactors, the European Court of Justice ruled in 2019 that cross-border environmental impact assessments must be carried out if operations are extended.\n",
      "___________________________\n",
      "Study calls for European nuclear renaissance : Energy &amp; Environment - World Nuclear News \n",
      "___________________________\n",
      "Europe needs all energy sources for recovery, says Birol : Energy &amp; Environment - World Nuclear News \n",
      "___________________________\n",
      "Anti-nuclear Austria and Luxembourg are preparing a lawsuit against the EU commission, arguing that nuclear power, which emits no CO2 but produces radioactive waste, violates the EU’s “do no significant harm” to the environment.  #taxonomy \n",
      " \n",
      "___________________________\n",
      "   Germany, Danmark, Austria and some more countries have done everything possible to make it hard to invest in nuclear in the European Union.\n",
      "\n",
      "In finance, in environmental rules, in denying technical standardisation. And more.\n",
      "___________________________\n",
      "   Honestly I’m not as worried about the domestic politics of but what voices for Ireland are saying in the EU. We saw in the last 2 weeks environmental groups condemn An Taoiseach for not opposing nuclear as part of the taxonomy. That stance is irreconcilable with climate action\n",
      "___________________________\n",
      "           Yes, thanks to their standardized reactors, which all now leak “standardized” tritium into the environment. French nukes are prone to climate related shut downs. Also, France regularly has to import electricity from Germany, which has one of the most stable grids in Europe.\n",
      "___________________________\n",
      "  Thanks for your pro stance however since then [2005]  Energiewende has proved a failure [ rising emissions ] and decision needed re Moneypoint soon . 100% RE is fantasy pursued by fake environmentalists . new nuclear soon in Europe in Flamanville , Olkiluoto and \n",
      "___________________________\n",
      "A guy I know is concerned about a coming big recession. For good reasons. War in Europe, inflationary environment, etc. How hard do you think a recession would hit our #uranium sector and why?\n",
      "___________________________\n",
      "Ana Raffo-Caiado,  Director for Europe at #iaeagc side-event: Safe nuclear decommissioning and environmental remediation is always the top of the agenda for governments and the public. This is why  invests intensively in building capacities.   \n",
      "___________________________\n",
      "#IAEATC is helping national authorities in #Europe resolve #environmental remediation issues linked to #nuclear legacy sites:  \n",
      "___________________________\n",
      "     46 environmental NGOs request #nuclear energy’s fair recognition in the European taxonomy. No sign of any Irish NGOs in the 46.  \n",
      "___________________________\n",
      "     Tell us when you have one credible source. In the meantime the EU JCR scientific expert body 400 pages assessment show that nuclear is actually better than renewable on many environmental impact metrics (resources use, water &amp; chemical pollution, biodiversity loss, etc).\n",
      "___________________________\n",
      "\"US and Europe at Risk of Falling Behind as China's Nuclear Industry Expands\" \n",
      "\n",
      " \n",
      "From where I stand, they're *already* behind in many aspects. The supportive policy environment here is like no other. \n",
      "___________________________\n",
      "When in doubt, delay --&gt; Europe set to delay verdict on green label for natural gas projects (and maybe nuclear too?) \n",
      "\n",
      "Though many environmentalists want to exclude them, the  wants them in:  via \n",
      "___________________________\n",
      "Long term measure, numero uno - label gas and nuclear energy as environmentally destructive energy sources, and cut off future investment from European pensions into Putin's war machine. #EUTaxonomy #Taxonomie #EuropeanUnion \n",
      "___________________________\n",
      "Fossil gas wrecks the climate. Nuclear is a threat to the environment. Neither should be included in the #EUTaxonomy.\n",
      "#MoneyForChange #StopFakeGreen\n",
      "\n",
      "\n",
      "___________________________\n",
      "Environment or energy ministers of Germany, Austria, Denmark, Spain, and Luxembourg call to keep nuclear out of EU green finance taxonomy  \n",
      "\n",
      "#EUTaxonomy #sustainablefinance\n",
      "___________________________\n",
      " The same environmentalist organisations who campaigned to close nuclear power in Europe also campaign against LNG imports from the US. They are happy with gas imports via pipeline though. Makes you wonder about their funding...\n",
      "___________________________\n",
      "  Our gas comes from the european pipeline network. Remove the Russian supply and there will be shortages for everyone. The US is currently sending fracked LNG ships to replace Russia - terrible for the environment. Its time Ireland built nuclear power for energy independence.\n",
      "___________________________\n",
      "The Joint Research Centre of European Commission assessed nuclear energy generation under the “do no significant harm” criteria. It reported that nuclear energy’s entire lifecycle had an environment impact equivalent to that from offshore wind energy.\n",
      "\n",
      "___________________________\n",
      "EU, Energy &amp; Environment: European Commission presents text of nuclear and gas CDA\n",
      "\n",
      " \n",
      "\n",
      "\"...with nuclear remaining a transitional energy technology.\"\n",
      "\n",
      "transition from nuclear fission to nuclear fusion perhaps?\n",
      "___________________________\n",
      "EU needs long-term operation of nuclear fleet, says Foratom : Energy &amp; Environment \n",
      "\n",
      " \n",
      "\n",
      "\"The EU depends on nuclear power for more than one-quarter of its electricity... Nuclear provides over half of its low-carbon electricity.\" #energy #climate #auspoll \n",
      "___________________________\n",
      "    Macron HAS seemingly gotten nuclear power included in the EU environment taxonomy which is an important \"get\" for him at the European level and makes Macron the bette noir of anti nuclear activists continent wide. Not much room for Pecresse.\n",
      "___________________________\n",
      "In Pennsylvania, emissions from electricity generation are up 3%. Why? Closed nuclear plants have been replaced by renewables and nat gas. The environment is the loser. As prices rise, consumers will lose too.. #EU #uranium\n",
      "\n",
      "___________________________\n",
      "Or you can be Germany, have the most expensive power in Europe while increasing coal consumption, poisoning the environment and paying nuclear power plants to shut down. $EU #uranium \n",
      "___________________________\n",
      "A major hurdle surmounted. The obviously beneficial has succeeded in penetrating the bureaucratic mind. Kudos to the many scientists, environmentalists and civic organizations who persevered to get the EU to officially adopt #nuclear as a sustainable form of energy. #uranium $EU \n",
      "___________________________\n",
      "The positive regulatory environment for nuclear continues. The NRC has just approved increased reactor capacity for Southern Nuclear and Tennessee Valley. Since the 1970s, uprates have increased capacity by approximately 8000 MWe, equivalent to 8 new reactors. #EU #uranium.\n",
      "___________________________\n",
      "The U.N. nuclear agency says slightly elevated levels of radioactivity that have been detected in northern Europe pose no risk to human health or to the environment but it’s still unclear what the cause was.\n",
      "\n",
      "___________________________\n",
      "In case you missed the discussion on Monday on the effects of nuclear testing, victim assistance, environmental remediation, and the role of the EU; webinar organized by MEP , here is your chance to catch up:\n",
      "\n",
      " via \n",
      "___________________________\n",
      "There is no way #nuclear power meets this: \"To be deemed EU Taxonomy aligned, the activity must demonstrate a substantial contribution to one environmental objective, whilst causing no significant harm to the remaining five environmental objectives.\"  \n",
      "___________________________\n",
      "👎Missing or inconsistent criteria\n",
      "👎Environmental burden shifting\n",
      "👎No whole life cycle approach\n",
      "👎Focus on recycling, ignoring better options\n",
      "👎Radioactive nuclear waste risk downplayed\n",
      "\n",
      "We call on  to close the gaps in the #EUtaxonomy and prevent significant harm \n",
      "___________________________\n",
      "\"Despite efforts to portray gas and nuclear as a ‘low-impact’ transitional solution, it's obvious both technologies raise serious environmental concerns and will delay the clean energy transition and make it more costly for EU citizens\",\n",
      "\n",
      "writes \n",
      "\n",
      "___________________________\n",
      "Germany's Federal Minister for Environment, Nature Conservation and Nuclear Safety  opens the EEB annual general meeting in Berlin.\n",
      "\n",
      " intend to use 🇩🇪  presidency to advance environmental protection and #ClimateAction in Europe. \n",
      "___________________________\n",
      " I see good signs of this happening among EU farm groups. But they continue to face strong opposition from so-called \"environmental\" NGOs and politicians. EU Green Parties  are perhaps the worst. (The same ones opposing nuclear energy.)\n",
      "___________________________\n",
      " Environmental standards are about trade-offs - economic/social wants vs preservation of the natural. The balance is at least partly subjective. As one example, many Canadians cannot comprehend how Europe can shut-down nuclear plants while claiming that GHG reduction is paramount.\n",
      "___________________________\n",
      "  “there is no science-based evidence that nuclear energy does more harm to human health or to the environment than other electricity production technologies already included in the EU Taxonomy as activities supporting climate change mitigation“. -EU science institute JRC\n",
      "___________________________\n",
      "The problem #nuclear power faces in Europe revolves around an ever-changing environment, sad public discussions, and unstable legislation.  \n",
      "___________________________\n",
      " Nuclear power could be the perfectly designed piece of technology. Unfortunately it lives in a human environment. Putin could poison the whole of Europe with a few shells.\n",
      "___________________________\n",
      "Austrian Institute of Ecology publishes report on nuclear power showing flaws in ’s paper on nuclear &amp; #EUTaxonomy. Radioactive waste can pollute the environment, harming biodiversity &amp; marine ecosystems. Keep nuclear out of the Taxonomy!\n",
      "\n",
      "👉 \n",
      "___________________________\n",
      "The European Commission 🇪🇺 has proposed labelling some #gas &amp; #nuclear power as green, arguing gas &amp; nuclear are key to helping transition to cleaner power. Germany's 🇩🇪 environment minister called the plan \"absolutely wrong\"  #taxonomy\n",
      "___________________________\n",
      "Plans by the European Union to classify nuclear power and natural gas as \"green\" investments have divided energy experts, environmental groups and EU members, with some fearing a dilution of sustainability guidance.  \n",
      "___________________________\n",
      "All many wanted for Christmas was the complementary #taxonomy DA on #gas &amp; #nuclear, but that won't be the case, confirmed yesterday .\n",
      "\n",
      "Will we get updated EU state aid guidelines on energy &amp; environment instead?\n",
      "___________________________\n",
      "  “There is no science-based evidence that nuclear energy does more harm to human health or to the environment than other... climate change mitigation [technologies].” – EU Joint Research Centre (highest scientific body), Mar 2021 \n",
      "___________________________\n",
      "  “There is no science-based evidence that nuclear energy does more harm to human health or to the environment than other... climate change mitigation [technologies].” – EU Joint Research Centre (highest scientific body), Mar 2021 \n",
      "___________________________\n",
      "  “There is no science-based evidence that nuclear energy does more harm to human health or to the environment than other... climate change mitigation [technologies].” – EU Joint Research Centre (highest scientific body), Mar 2021 \n",
      "___________________________\n",
      " \"There is no science-based evidence that nuclear energy does more harm to human health or to the environment than other... climate change mitigation [technologies].”  – EU Joint Research Centre (highest scientific body), Mar 2021    \n",
      "___________________________\n",
      "   “There is no science-based evidence that nuclear energy does more harm to human health / the environment than other... technologies already included in the EU #Taxonomy as activities supporting climate change mitigation.” -EU Taxonomy for Sustn Activities\n",
      "\n",
      "___________________________\n",
      "“all potentially harmful impacts of the various #nuclear energy lifecycle phases on human health and the environment can be duly prevented or avoided.\" -Joint Research Centre | European Commission #SustainableEnergy #Taxonomy #ReliableCarbonFree \n",
      "___________________________\n",
      "6/ \n",
      "\n",
      "Factor 2: Policies aimed at reducing climate risk\n",
      "\n",
      "Concerns about climate risk have led to corporate &amp; government incentives that channel money away from oil &amp; gas toward solar &amp; wind, &amp; environmental activists in the EU &amp; US have slowed down development of nuclear power.\n",
      "___________________________\n",
      "During the call with , President Gitanas Nausėda also emphasized the need to deny market entry for electricity from unsafe NPPs and to agree on the border pollution tax on imports that ignore #EU environmental &amp; nuclear safety requirements➡️   \n",
      "___________________________\n",
      "Acc. to , the Belarusian NPP is \"one of the safest in the world\". Really? Violating int'l conventions, ignoring EU stress tests &amp; safety standards does NOT make this geopolitical Rosatom project safe. Instead, it makes it a nuclear &amp; environmental threat to Europe \n",
      "___________________________\n",
      "In its note of protest to Belarusian MFA, #Lithuania condemns the irresponsible actions by #Belarus that deepen nuclear and environmental threats posed by the NPP not only to Belarus or Lithuania, but also to Europe as a whole. \n",
      "___________________________\n",
      "Today,  adopted conclusions on #Belarus. The Council urges Belarus to comply with the highest international environmental and safety standards with regards to the #NPP in Ostrovets. There must be no unsafe nuclear projects at the EU doorstep ➡️   \n",
      "___________________________\n",
      "In its conclusions on ext. relations,  also highlighted the issue of the Belarusian Nuclear Power Plant in Ostrovets, reiterating \"the importance of ensuring nuclear and environmental safety\". There must be no unsafe nuclear projects at #EU doorstep. #OstrovetsIsNotSafe \n",
      "___________________________\n",
      "   Ah, interessant...\n",
      "\"Dominique Reynié: We found Gazprom funding in particular in environmental NGOs which provided ministers to certain European countries such as Belgium and which then embarked on a sort of backlash by defending the exit from nuclear energy.\"\n",
      "___________________________\n",
      "The moment Nuclear is officially included in the EU taxonomy for environmentally sustainable economic activities I would expect an explosive upside move out of Sprott  Physical Uranium Trust. #SPUT $U.UN $U.U $SRUUF  Fund flows could be massive.  $URA and $URNM would do well too. \n",
      "___________________________\n",
      "#Russia’s poor record on nuclear management &amp; insufficient emergency preparedness capabilities raises safety concerns. A potential nuclear incident could severely harm the Arctic marine environment &amp; population alike and poses a serious threat to Russia, Europe and the US. [2/3]\n",
      "___________________________\n",
      "Let's talk Euro-nukes. \"The current security environment demands a serious discussion on European nuclear security\", argues  of   \n",
      "___________________________\n",
      "Grossi 'absolutely confident' of nuclear's inclusion in EU taxonomy : Energy &amp; Environment - World Nuclear News \n",
      "___________________________\n",
      "Report reinforces nuclear's role in EU low-carbon energy system : Energy &amp; Environment - World Nuclear News  \n",
      " #energy #climate #auspoll \n",
      "___________________________\n",
      "The European Commission plans to finish next year its long-awaited rules on whether to label gas and nuclear energy as climate-friendly investments under EU green finance rules, its environment policy chief said on Monday. \n",
      "\n",
      "___________________________\n",
      "#NuclearFact, according to UN Economic Commission on Europe (UNECE) study just release, contrary to common believe to most people but nuclear has the least impact both on environment and human health. That's the scientific fact. #Nuclear \n",
      "___________________________\n",
      "It's official, Nuclear is environmentally friendly and sustainable energy according to EU Joint Research Center Study.\n",
      "\n",
      "___________________________\n",
      " Dutch MEP Eickhout “asked, of the proposed requirement new nuclear plants have a waste plan in place by 2045: “How can that relate to ‘do no harm?'” in reference to the requirement that EU policy do no significant harm to the bloc's environment or its climate goals.”\n",
      "\n",
      "How indeed!\n",
      "___________________________\n",
      " .\n",
      "The EU labeling tree burning ‘green’ is right up there with labeling gas &amp; nuclear the same way.\n",
      "\n",
      "Can you guess which has more money: the EU financial industry or environmentalists?\n",
      "___________________________\n",
      "Europe says it wants to be carbon neutral by 2050 – #nuclear must be part of the plan.  Its all about something called \"taxonomy\", a system to classify what is environmentally sustainable and what is not.    \n",
      "___________________________\n",
      "Europe says it wants to be carbon neutral by 2050 – nuclear must be part of the plan.  Its all about something called \"taxonomy\", a system to classify what is environmentally sustainable and what is not.    \n",
      "___________________________\n",
      "Denying, as Germany is doing today, nuclear power to European countries that want it is a crime against ecology and an attack on their future, their sovereignty and their independence.  It is unworthy of a country that claims to defend the environment and democracy. \n",
      "___________________________\n",
      "On nuclear power, the EU advisers said the taxonomy rules proposed by the Commission \"should not go forward\" because they do not ensure nuclear plants would not significantly harm the environment, citing concerns about nuclear waste disposal. \n",
      "___________________________\n",
      "The Russian state-owned gas corporation, Gazprom, has funded environmental organisations which have advocated for the abandonment of nuclear power on the European continent. \n",
      "\n",
      "___________________________\n",
      "And it unfortunately now has a name: European environmentalism. When we reduce the equation to its simplest expression: “protecting the climate means stopping nuclear power”, we arrive at the paradox “ecology = climate change”. Proof by 🇩🇪🇩🇪\n",
      "___________________________\n",
      " I have Pat\n",
      "Nuclear is superior to RE on just about every environmental and health parameter as far as this chart from the the United Nations Economic Commission for Europe study \"Life Cycle Assessment of Electricity Generation Options\" goes\n",
      "\n",
      " \n",
      "___________________________\n",
      "Sanity prevails with the French lead over Germany's appalling environmental record being recognised.\n",
      "Nuclear forms part of climate change solution, says European Parliament - World Nuclear News \n",
      "___________________________\n",
      "The EU plans to label Gas and Nuclear as green energy. This has some serious implication for EU nations' energy security, economies and environment.\n",
      "#NuclearEnergy #Usefulenergy\n",
      " via \n",
      "___________________________\n",
      "\"To the dismay of #climate and #environmental groups, the European Commission appears poised to include gas and nuclear energy in an influential sustainable-development rulebook for climate-friendly investing,\" writes .  \n",
      "___________________________\n",
      "242\n"
     ]
    }
   ],
   "source": [
    "counter = 0\n",
    "\n",
    "for el in tweets_list:\n",
    "    if \"environment\" in el.lower():\n",
    "        print(el)\n",
    "        print(\"___________________________\")\n",
    "        counter = counter + 1\n",
    "\n",
    "print(counter)"
   ]
  },
  {
   "cell_type": "markdown",
   "metadata": {
    "cell_id": "3f5ab628cc2a4b2faf84dbc676622eeb",
    "deepnote_cell_height": 82,
    "deepnote_cell_type": "markdown",
    "tags": []
   },
   "source": [
    "# Dictionary development"
   ]
  },
  {
   "cell_type": "code",
   "execution_count": 3,
   "metadata": {
    "cell_id": "6614ba7f30f64b69b96c37a8107d407f",
    "deepnote_cell_height": 324.1875,
    "deepnote_cell_type": "code",
    "deepnote_to_be_reexecuted": false,
    "execution_millis": 3,
    "execution_start": 1654513757308,
    "owner_user_id": "93d39cc7-b600-4a54-bb78-2893993bd5bc",
    "source_hash": "bd2982be",
    "tags": []
   },
   "outputs": [],
   "source": [
    "# preliminary topics and dictionaries\n",
    "taxonomy = [\"taxonomy\"]\n",
    "anti_taxonomy = [\"taxonomy\" AND (\"exclud\" OR \"greenwash\")]\n",
    "\n",
    "climate = [\"climate\", \"renewable\", \"solar\", \"wind\", \"sutsainable\", \"sustainability\"]\t\n",
    "\n",
    "russian_invasion = [\"russia\",\"russian\", \"ukraine\", \"ukrainian\", \"invasion\", \"zaporizhzhia\"]\n",
    "\n",
    "monetary_arguments = [\"cheap\"]\t\n",
    "other_arguments = [\"toxic\", \"radioactive\"] "
   ]
  },
  {
   "cell_type": "code",
   "execution_count": 4,
   "metadata": {
    "cell_id": "f400a33ec7e7400ca25435041eafc96c",
    "deepnote_cell_height": 402.53125,
    "deepnote_cell_type": "code",
    "deepnote_output_heights": [
     251.53125
    ],
    "deepnote_to_be_reexecuted": true,
    "execution_millis": 584,
    "execution_start": 1653993662657,
    "source_hash": "8e4b92c1",
    "tags": []
   },
   "outputs": [
    {
     "data": {
      "text/plain": [
       "{'environment': {'eugreendeal', 'green_investment', 'sustainable_investment'},\n",
       " 'eu': {'decarbonisation', 'energytransition', 'nuclearpower'},\n",
       " 'sustainable': {'netzero',\n",
       "  'radiation',\n",
       "  'sustainable_finance',\n",
       "  'sustainablefinance'},\n",
       " 'nuclearpower': {'renewables'},\n",
       " 'taxonomy': {'mairead', 'meps', 'stopfakegreen'},\n",
       " 'lobby': {'chairman', 'leyen', 'sustainablefinanceeu'},\n",
       " 'europeancommission': {'nuclear_waste', 'radioactive_waste'},\n",
       " 'ukrainerussiawar': {'geopolitical', 'russia'},\n",
       " 'nuclearindustry': {'iaeagc', 'netzeroneedsnuclear'},\n",
       " 'rethinknuclear': {'research_reactor', 'waste'}}"
      ]
     },
     "execution_count": 4,
     "metadata": {},
     "output_type": "execute_result"
    }
   ],
   "source": [
    "with open('../Data/nuclear2vec_terms.p', 'rb') as f:\n",
    "    nuclear2vec_terms = pickle.load(f)\n",
    "    \n",
    "nuclear2vec_terms # should be reconfigured into categories that make more sense"
   ]
  },
  {
   "cell_type": "code",
   "execution_count": null,
   "metadata": {
    "cell_id": "0c02fd8a472b4011b14a081e6364e21c",
    "deepnote_cell_height": 74.796875,
    "deepnote_cell_type": "code",
    "deepnote_to_be_reexecuted": true,
    "execution_millis": 0,
    "execution_start": 1653994709480,
    "is_code_hidden": true,
    "source_hash": "8e5affde",
    "tags": []
   },
   "outputs": [],
   "source": [
    "# Manually reconfigured dictionary -- some can be expanded; some collapsed etc.\n",
    "custom_terms = { \n",
    "    'sustainable_nuclear': {\n",
    "        'netzeroneedsnuclear',\n",
    "        'rethinknuclear',\n",
    "        'cleanpower',\n",
    "        'clean_power',\n",
    "        'clean_electricity',\n",
    "        'cleanelectricity',\n",
    "        'kwh',\n",
    "        'standupfornuclear',\n",
    "        'justtransition',\n",
    "        'wecare'\n",
    "        },\n",
    "    'eu_green_deal': {\n",
    "        'green_deal',\n",
    "        'greendeal'\n",
    "        },\n",
    "    'eu_taxonomy': {\n",
    "        'taxonomy',\n",
    "        'eugreentaxonomy',\n",
    "        'classif'\n",
    "        },\n",
    "    'energy_transition': {\n",
    "        'transition',\n",
    "        'decarbon',\n",
    "        'de-carbon',\n",
    "        'energiewende'\n",
    "        },\n",
    "    'sustainable_finance': {\n",
    "        'sustainable_finance',\n",
    "        'sustainablefinance',\n",
    "        'sustainable_investment',\n",
    "        'green_investment',\n",
    "        'financingchange'\n",
    "        },\n",
    "    'greenwashing': {\n",
    "        'greenwash',\n",
    "        'stopfakegreen',\n",
    "        'notourtaxonomy',\n",
    "        'taxonomywashing',\n",
    "        'dontpaintitgreen',\n",
    "        'credib',\n",
    "        'nuclear_out',\n",
    "        'nuclearout'\n",
    "        },\n",
    "    'other_renewables': {\n",
    "        'solar',\n",
    "        'wind'\n",
    "        },\n",
    "    'climate': {\n",
    "        'climate'\n",
    "        },\n",
    "    'eu_commission': {\n",
    "        'ursula',\n",
    "        'leyen',\n",
    "        'commission'\n",
    "        },\n",
    "    'eu_parliament': {\n",
    "        'mep',\n",
    "        'europeanparliament',\n",
    "        'euparliament',\n",
    "        'europarl',\n",
    "        '#ep'\n",
    "        },\n",
    "    'nuclear_risks': {\n",
    "        'nuclear_waste',\n",
    "        'radiat',\n",
    "        'radioactive',\n",
    "        'chernobyl',\n",
    "        'fukushima'\n",
    "        },\n",
    "    'ukraine_russia': {\n",
    "        'geopolitic',\n",
    "        'russia',\n",
    "        'ukrain',\n",
    "        'war',\n",
    "        'inva',\n",
    "        'zaporizhzhia',\n",
    "        'conclict',\n",
    "        'dependen',\n",
    "        'siege',\n",
    "        'donbass',\n",
    "        'luhansk',\n",
    "        'donetsk',\n",
    "        'bomb'\n",
    "        },\n",
    "    'nuclear_industry_investment': {\n",
    "        '#uranium',\n",
    "        '$ura',\n",
    "        'market',\n",
    "        'stocks',\n",
    "        'iaea'\n",
    "        },\n",
    "    'expert_opinion': {\n",
    "        'expert',\n",
    "        'advis'\n",
    "        },\n",
    "    'call_to_action': {\n",
    "        'petition',\n",
    "        'sign',\n",
    "        'letter'\n",
    "        },\n",
    "    'oil_gas': {\n",
    "        'oil',\n",
    "        'gas',\n",
    "        'fossil'\n",
    "        },\n",
    "    'iran_or_irrelevant': {\n",
    "        'iran',\n",
    "        'tehran',\n",
    "        'assad',\n",
    "        'syria',\n",
    "        'nuclearmedicine',\n",
    "        'nuclear_medicine'\n",
    "        }\n",
    "    }"
   ]
  },
  {
   "cell_type": "code",
   "execution_count": 11,
   "metadata": {
    "cell_id": "7a2e61368d2640b8953d1f148bfcf6c0",
    "deepnote_cell_height": 3879,
    "deepnote_cell_type": "code",
    "deepnote_to_be_reexecuted": false,
    "execution_millis": 68,
    "execution_start": 1655042993615,
    "source_hash": "4fc7ba4f",
    "tags": []
   },
   "outputs": [],
   "source": [
    "# Attempt to collapse into fewer, broader categories\n",
    "# in order to ease interpretatbility and benchmarking\n",
    "# against manual coding\n",
    "\n",
    "custom_terms_v2 = { \n",
    "    'sustainable_nuclear': {\n",
    "        'netzeroneedsnuclear',\n",
    "        'nuclearfornetzero',\n",
    "        'rethinknuclear',\n",
    "        'cleanpower',\n",
    "        'clean_power',\n",
    "        'clean_electricity',\n",
    "        'cleanelectricity',\n",
    "        'kwh',\n",
    "        'standupfornuclear',\n",
    "        'justtransition',\n",
    "        'wecare',\n",
    "        'gen4',\n",
    "        'salt',\n",
    "        'thorium',\n",
    "        'nuclearsociety',\n",
    "        'flexib',\n",
    "        'yestonuclear'\n",
    "        },\n",
    "    'eu_taxonomy_green_deal': {\n",
    "        'taxonomy',\n",
    "        'eugreentaxonomy',\n",
    "        'classif',\n",
    "        'green_deal',\n",
    "        'greendeal'\n",
    "        },\n",
    "    'energy_transition': {\n",
    "        'transition',\n",
    "        'decarbon',\n",
    "        'de-carbon',\n",
    "        'energiewende',\n",
    "        'climate',\n",
    "        'carbon-free',\n",
    "        'carbon_free',\n",
    "        'carbon-neutral',\n",
    "        'low_carbon',\n",
    "        'lowcarbon',\n",
    "        'low-carbon',\n",
    "        'post-carbon',\n",
    "        'netzero',\n",
    "        'co2',\n",
    "        'ghg',\n",
    "        'greenhouse',\n",
    "        'emission',\n",
    "        'renewable',\n",
    "        'warming'\n",
    "        },\n",
    "    'finance_energy_crisis': {\n",
    "        'sustainable_finance',\n",
    "        'sustainablefinance',\n",
    "        'sustainable_investment',\n",
    "        'green_investment',\n",
    "        'price',\n",
    "        'cheap',\n",
    "        'economics',\n",
    "        'energycrisis',\n",
    "        'energy_crisis',\n",
    "        'energy_prices',\n",
    "        'moneyforchange'\n",
    "        },\n",
    "    'greenwashing': {\n",
    "        'greenwash',\n",
    "        'stopfakegreen',\n",
    "        'notourtaxonomy',\n",
    "        'dontpaintitgreen',\n",
    "        'credib',\n",
    "        'nuclear_out',\n",
    "        'nuclearout'\n",
    "        },\n",
    "    'eu_entities': {\n",
    "        'ursula',\n",
    "        'leyen',\n",
    "        'commission',\n",
    "        'mep',\n",
    "        'europeanparliament',\n",
    "        'euparliament',\n",
    "        'europarl',\n",
    "        'european_parliament',\n",
    "        'eu_parliament',\n",
    "        '#ep',\n",
    "        'greens',\n",
    "        '🇪🇺'\n",
    "        },\n",
    "    'nuclear_risks_regulations': {\n",
    "        'nuclear_waste',\n",
    "        'radiat',\n",
    "        'radioactive',\n",
    "        'fukushima',\n",
    "        'accident',\n",
    "        'unsafe',\n",
    "        'safety_problem',\n",
    "        'regulat',\n",
    "        'meltdown',\n",
    "        'rbmk',\n",
    "        'nuclear_security',\n",
    "        'nuclear_safety'\n",
    "        },\n",
    "    'ukraine_russia': {\n",
    "        'geopolitic',\n",
    "        'geo-politic',\n",
    "        'russia',\n",
    "        'ukrain',\n",
    "        'inva',\n",
    "        'zaporizhzhia',\n",
    "        'conflict',\n",
    "        'dependen',\n",
    "        'putin',\n",
    "        'zelensky',\n",
    "        'siege',\n",
    "        'donbass',\n",
    "        'luhansk',\n",
    "        'donetsk',\n",
    "        'bomb',\n",
    "        'nordstream'\n",
    "        },\n",
    "    'investment_and_industry': {\n",
    "        '#uranium',\n",
    "        '$ura',\n",
    "        'market',\n",
    "        'stocks',\n",
    "        'iaea',\n",
    "        'investor',\n",
    "        'reactor',\n",
    "        'euratom',\n",
    "        'foratom',\n",
    "        'industr',\n",
    "        'framatome',\n",
    "        'romatom',\n",
    "        'nuclear_innovation'\n",
    "        },\n",
    "    'expert_opinion': {\n",
    "        'expert',\n",
    "        'advis'\n",
    "        },\n",
    "    'activism_calls_to_action': {\n",
    "        'petition',\n",
    "        'sign',\n",
    "        'letter',\n",
    "        'protest',\n",
    "        'nonuclear',\n",
    "        'poll'\n",
    "        },\n",
    "    'other_energy_sources': {\n",
    "        'oil',\n",
    "        'gas',\n",
    "        'coal',\n",
    "        'fossil',\n",
    "        'solar',\n",
    "        'wind'\n",
    "        },\n",
    "    'member_states': {\n",
    "        'member_states',\n",
    "        'brexit',\n",
    "        'britain',\n",
    "        'british',\n",
    "        'austria',\n",
    "        'belgi',\n",
    "        'bulgaria',\n",
    "        'croatia',\n",
    "        'cypr',\n",
    "        'czech',\n",
    "        'denmark',\n",
    "        'danish',\n",
    "        'estonia',\n",
    "        'finland',\n",
    "        'finnish',\n",
    "        'france',\n",
    "        'french',\n",
    "        'german',\n",
    "        'greece',\n",
    "        'greek',\n",
    "        'hungar',\n",
    "        'ireland',\n",
    "        'irish',\n",
    "        'italy',\n",
    "        'italian'\n",
    "        'latvia',\n",
    "        'lithuania',\n",
    "        'luxembourg',\n",
    "        'malta',\n",
    "        'maltese'\n",
    "        'netherlands',\n",
    "        'dutch',\n",
    "        'poland',\n",
    "        'polish',\n",
    "        'portugal',\n",
    "        'portuguese',\n",
    "        'romania',\n",
    "        'slovakia',\n",
    "        'slovenia',\n",
    "        'spain',\n",
    "        'spanish',\n",
    "        'swed'\n",
    "    },\n",
    "    'irrelevant': {\n",
    "        'iran',\n",
    "        'tehran',\n",
    "        'syria',\n",
    "        'nuclearmedicine',\n",
    "        'nuclear_medicine',\n",
    "        'terro',\n",
    "        'cancer',\n",
    "        ' arms',\n",
    "        'weapon',\n",
    "        'arsenal'\n",
    "        }\n",
    "    }"
   ]
  },
  {
   "cell_type": "code",
   "execution_count": 22,
   "metadata": {
    "cell_id": "7878ae92e8d946f689cf6d35a85708cc",
    "deepnote_cell_height": 144.1875,
    "deepnote_cell_type": "code",
    "deepnote_output_heights": [
     21.1875
    ],
    "deepnote_to_be_reexecuted": false,
    "execution_millis": 41,
    "execution_start": 1655043113881,
    "source_hash": "15ad609a",
    "tags": []
   },
   "outputs": [
    {
     "data": {
      "text/plain": [
       "176"
      ]
     },
     "execution_count": 22,
     "metadata": {},
     "output_type": "execute_result"
    }
   ],
   "source": [
    "sum([len(terms) for terms in custom_terms_v2.values()])"
   ]
  },
  {
   "cell_type": "markdown",
   "metadata": {
    "cell_id": "35c98938bba54245967e0b1f9bb7a067",
    "deepnote_cell_height": 82,
    "deepnote_cell_type": "markdown",
    "owner_user_id": "8cf75a8b-bb84-4e86-8f47-1e138dc286dc",
    "tags": []
   },
   "source": [
    "# Classification"
   ]
  },
  {
   "cell_type": "code",
   "execution_count": null,
   "metadata": {
    "cell_id": "e63c36172f104df196e199c8b84e4f17",
    "deepnote_cell_height": 567,
    "deepnote_cell_type": "code",
    "deepnote_to_be_reexecuted": false,
    "execution_millis": 21,
    "execution_start": 1654513793398,
    "source_hash": "f8410811",
    "tags": []
   },
   "outputs": [],
   "source": [
    "def classify_tweet(tweet, classification_dict):\n",
    "    '''\n",
    "    Dictionary-based classification. Applies\n",
    "    (multiple) predefined labels to a given\n",
    "    tweet, returning a dictionary of dummies\n",
    "    (category present/not present).\n",
    "    '''\n",
    "\n",
    "    # Initialise variables for holding 1) labels found\n",
    "    # and 2) dummies/counts of categories attributed to\n",
    "    # a given tweet\n",
    "    labels_found = set() # change to list and .append() if multiple counts are desired\n",
    "    label_dict = dict.fromkeys(classification_dict, 0)\n",
    "    \n",
    "    # Check if a given query term is in the tweet,\n",
    "    # adding to set of found labels\n",
    "    for key, vals in classification_dict.items():\n",
    "        for val in vals:\n",
    "            if val.replace('_', ' ') in tweet.lower():\n",
    "                labels_found.add(key)\n",
    "\n",
    "    # Increment dummy/count by one for each category\n",
    "    # for which on or more query terms were present\n",
    "    # in the tweet\n",
    "    for label in labels_found:\n",
    "        label_dict[label] += 1\n",
    "\n",
    "    return label_dict"
   ]
  },
  {
   "cell_type": "code",
   "execution_count": null,
   "metadata": {
    "cell_id": "714c09380ef0437aa948035b07587223",
    "deepnote_cell_height": 547.734375,
    "deepnote_cell_type": "code",
    "deepnote_output_heights": [
     270.734375
    ],
    "deepnote_to_be_reexecuted": false,
    "execution_millis": 27,
    "execution_start": 1654513793430,
    "source_hash": "f1797a6e",
    "tags": []
   },
   "outputs": [
    {
     "data": {
      "text/plain": [
       "{'sustainable_nuclear': 0,\n",
       " 'eu_taxonomy_green_deal': 0,\n",
       " 'energy_transition': 1,\n",
       " 'finance_energy_crisis': 0,\n",
       " 'greenwashing': 1,\n",
       " 'eu_entities': 1,\n",
       " 'nuclear_risks_regulations': 0,\n",
       " 'ukraine_russia': 1,\n",
       " 'investment_and_industry': 0,\n",
       " 'expert_opinion': 0,\n",
       " 'activism_calls_to_action': 0,\n",
       " 'other_energy_sources': 1,\n",
       " 'member_states': 0,\n",
       " 'irrelevant': 0}"
      ]
     },
     "execution_count": 11,
     "metadata": {},
     "output_type": "execute_result"
    }
   ],
   "source": [
    "# Test: classify mock tweet\n",
    "classify_tweet(\n",
    "    '''\n",
    "    in spite of the war in ukraine,\n",
    "    von der leyen has said that nuclear\n",
    "    power is a sustainable, low-carbon\n",
    "    investment, compared to oil\n",
    "    #dontpaintitgreen\n",
    "    ''',\n",
    "    custom_terms_v2\n",
    "    )"
   ]
  },
  {
   "cell_type": "code",
   "execution_count": null,
   "metadata": {
    "cell_id": "7390bce52f574919b94bca92dd4100b8",
    "deepnote_cell_height": 647,
    "deepnote_cell_type": "code",
    "deepnote_to_be_reexecuted": false,
    "execution_millis": 3758,
    "execution_start": 1654513793462,
    "source_hash": "2513b48b",
    "tags": []
   },
   "outputs": [
    {
     "data": {
      "application/vnd.deepnote.dataframe.v3+json": {
       "column_count": 15,
       "columns": [
        {
         "dtype": "object",
         "name": "tweet",
         "stats": {
          "categories": [
           {
            "count": 1,
            "name": "Congratulations to  Rutte &amp; his 4th government in a row. 🇸🇰 &amp; 🇳🇱 are fervent #EU partners &amp; allies within . There're many areas to be explored for a mutually enriching cooperation like #GreenTransition incl. #nuclear, post #COVID19 recovery or #democracy &amp; #values.🤝"
           },
           {
            "count": 1,
            "name": "Ahead of the V4-France Summit I talked to  on how to move forward w/ #EU agenda. Looking forward to cooperate w/ 🇨🇵 during  on democracy incl. #ProtectionOfJournalists, EU framework on #AntiMoneyLaundering &amp; #nuclear = our 🇪🇺 priorities. "
           },
           {
            "count": 3,
            "name": "3 others"
           }
          ],
          "nan_count": 0,
          "unique_count": 5
         }
        },
        {
         "dtype": "int64",
         "name": "sustainable_nuclear",
         "stats": {
          "histogram": [
           {
            "bin_end": -0.4,
            "bin_start": -0.5,
            "count": 0
           },
           {
            "bin_end": -0.3,
            "bin_start": -0.4,
            "count": 0
           },
           {
            "bin_end": -0.19999999999999996,
            "bin_start": -0.3,
            "count": 0
           },
           {
            "bin_end": -0.09999999999999998,
            "bin_start": -0.19999999999999996,
            "count": 0
           },
           {
            "bin_end": 0,
            "bin_start": -0.09999999999999998,
            "count": 0
           },
           {
            "bin_end": 0.10000000000000009,
            "bin_start": 0,
            "count": 5
           },
           {
            "bin_end": 0.20000000000000007,
            "bin_start": 0.10000000000000009,
            "count": 0
           },
           {
            "bin_end": 0.30000000000000004,
            "bin_start": 0.20000000000000007,
            "count": 0
           },
           {
            "bin_end": 0.4,
            "bin_start": 0.30000000000000004,
            "count": 0
           },
           {
            "bin_end": 0.5,
            "bin_start": 0.4,
            "count": 0
           }
          ],
          "max": "0",
          "min": "0",
          "nan_count": 0,
          "unique_count": 1
         }
        },
        {
         "dtype": "int64",
         "name": "eu_taxonomy_green_deal",
         "stats": {
          "histogram": [
           {
            "bin_end": 0.1,
            "bin_start": 0,
            "count": 4
           },
           {
            "bin_end": 0.2,
            "bin_start": 0.1,
            "count": 0
           },
           {
            "bin_end": 0.30000000000000004,
            "bin_start": 0.2,
            "count": 0
           },
           {
            "bin_end": 0.4,
            "bin_start": 0.30000000000000004,
            "count": 0
           },
           {
            "bin_end": 0.5,
            "bin_start": 0.4,
            "count": 0
           },
           {
            "bin_end": 0.6000000000000001,
            "bin_start": 0.5,
            "count": 0
           },
           {
            "bin_end": 0.7000000000000001,
            "bin_start": 0.6000000000000001,
            "count": 0
           },
           {
            "bin_end": 0.8,
            "bin_start": 0.7000000000000001,
            "count": 0
           },
           {
            "bin_end": 0.9,
            "bin_start": 0.8,
            "count": 0
           },
           {
            "bin_end": 1,
            "bin_start": 0.9,
            "count": 1
           }
          ],
          "max": "1",
          "min": "0",
          "nan_count": 0,
          "unique_count": 2
         }
        },
        {
         "dtype": "int64",
         "name": "energy_transition",
         "stats": {
          "histogram": [
           {
            "bin_end": 0.1,
            "bin_start": 0,
            "count": 4
           },
           {
            "bin_end": 0.2,
            "bin_start": 0.1,
            "count": 0
           },
           {
            "bin_end": 0.30000000000000004,
            "bin_start": 0.2,
            "count": 0
           },
           {
            "bin_end": 0.4,
            "bin_start": 0.30000000000000004,
            "count": 0
           },
           {
            "bin_end": 0.5,
            "bin_start": 0.4,
            "count": 0
           },
           {
            "bin_end": 0.6000000000000001,
            "bin_start": 0.5,
            "count": 0
           },
           {
            "bin_end": 0.7000000000000001,
            "bin_start": 0.6000000000000001,
            "count": 0
           },
           {
            "bin_end": 0.8,
            "bin_start": 0.7000000000000001,
            "count": 0
           },
           {
            "bin_end": 0.9,
            "bin_start": 0.8,
            "count": 0
           },
           {
            "bin_end": 1,
            "bin_start": 0.9,
            "count": 1
           }
          ],
          "max": "1",
          "min": "0",
          "nan_count": 0,
          "unique_count": 2
         }
        },
        {
         "dtype": "int64",
         "name": "finance_energy_crisis",
         "stats": {
          "histogram": [
           {
            "bin_end": -0.4,
            "bin_start": -0.5,
            "count": 0
           },
           {
            "bin_end": -0.3,
            "bin_start": -0.4,
            "count": 0
           },
           {
            "bin_end": -0.19999999999999996,
            "bin_start": -0.3,
            "count": 0
           },
           {
            "bin_end": -0.09999999999999998,
            "bin_start": -0.19999999999999996,
            "count": 0
           },
           {
            "bin_end": 0,
            "bin_start": -0.09999999999999998,
            "count": 0
           },
           {
            "bin_end": 0.10000000000000009,
            "bin_start": 0,
            "count": 5
           },
           {
            "bin_end": 0.20000000000000007,
            "bin_start": 0.10000000000000009,
            "count": 0
           },
           {
            "bin_end": 0.30000000000000004,
            "bin_start": 0.20000000000000007,
            "count": 0
           },
           {
            "bin_end": 0.4,
            "bin_start": 0.30000000000000004,
            "count": 0
           },
           {
            "bin_end": 0.5,
            "bin_start": 0.4,
            "count": 0
           }
          ],
          "max": "0",
          "min": "0",
          "nan_count": 0,
          "unique_count": 1
         }
        },
        {
         "dtype": "int64",
         "name": "greenwashing",
         "stats": {
          "histogram": [
           {
            "bin_end": -0.4,
            "bin_start": -0.5,
            "count": 0
           },
           {
            "bin_end": -0.3,
            "bin_start": -0.4,
            "count": 0
           },
           {
            "bin_end": -0.19999999999999996,
            "bin_start": -0.3,
            "count": 0
           },
           {
            "bin_end": -0.09999999999999998,
            "bin_start": -0.19999999999999996,
            "count": 0
           },
           {
            "bin_end": 0,
            "bin_start": -0.09999999999999998,
            "count": 0
           },
           {
            "bin_end": 0.10000000000000009,
            "bin_start": 0,
            "count": 5
           },
           {
            "bin_end": 0.20000000000000007,
            "bin_start": 0.10000000000000009,
            "count": 0
           },
           {
            "bin_end": 0.30000000000000004,
            "bin_start": 0.20000000000000007,
            "count": 0
           },
           {
            "bin_end": 0.4,
            "bin_start": 0.30000000000000004,
            "count": 0
           },
           {
            "bin_end": 0.5,
            "bin_start": 0.4,
            "count": 0
           }
          ],
          "max": "0",
          "min": "0",
          "nan_count": 0,
          "unique_count": 1
         }
        },
        {
         "dtype": "int64",
         "name": "eu_entities",
         "stats": {
          "histogram": [
           {
            "bin_end": 0.1,
            "bin_start": 0,
            "count": 1
           },
           {
            "bin_end": 0.2,
            "bin_start": 0.1,
            "count": 0
           },
           {
            "bin_end": 0.30000000000000004,
            "bin_start": 0.2,
            "count": 0
           },
           {
            "bin_end": 0.4,
            "bin_start": 0.30000000000000004,
            "count": 0
           },
           {
            "bin_end": 0.5,
            "bin_start": 0.4,
            "count": 0
           },
           {
            "bin_end": 0.6000000000000001,
            "bin_start": 0.5,
            "count": 0
           },
           {
            "bin_end": 0.7000000000000001,
            "bin_start": 0.6000000000000001,
            "count": 0
           },
           {
            "bin_end": 0.8,
            "bin_start": 0.7000000000000001,
            "count": 0
           },
           {
            "bin_end": 0.9,
            "bin_start": 0.8,
            "count": 0
           },
           {
            "bin_end": 1,
            "bin_start": 0.9,
            "count": 4
           }
          ],
          "max": "1",
          "min": "0",
          "nan_count": 0,
          "unique_count": 2
         }
        },
        {
         "dtype": "int64",
         "name": "nuclear_risks_regulations",
         "stats": {
          "histogram": [
           {
            "bin_end": -0.4,
            "bin_start": -0.5,
            "count": 0
           },
           {
            "bin_end": -0.3,
            "bin_start": -0.4,
            "count": 0
           },
           {
            "bin_end": -0.19999999999999996,
            "bin_start": -0.3,
            "count": 0
           },
           {
            "bin_end": -0.09999999999999998,
            "bin_start": -0.19999999999999996,
            "count": 0
           },
           {
            "bin_end": 0,
            "bin_start": -0.09999999999999998,
            "count": 0
           },
           {
            "bin_end": 0.10000000000000009,
            "bin_start": 0,
            "count": 5
           },
           {
            "bin_end": 0.20000000000000007,
            "bin_start": 0.10000000000000009,
            "count": 0
           },
           {
            "bin_end": 0.30000000000000004,
            "bin_start": 0.20000000000000007,
            "count": 0
           },
           {
            "bin_end": 0.4,
            "bin_start": 0.30000000000000004,
            "count": 0
           },
           {
            "bin_end": 0.5,
            "bin_start": 0.4,
            "count": 0
           }
          ],
          "max": "0",
          "min": "0",
          "nan_count": 0,
          "unique_count": 1
         }
        },
        {
         "dtype": "int64",
         "name": "ukraine_russia",
         "stats": {
          "histogram": [
           {
            "bin_end": 0.1,
            "bin_start": 0,
            "count": 4
           },
           {
            "bin_end": 0.2,
            "bin_start": 0.1,
            "count": 0
           },
           {
            "bin_end": 0.30000000000000004,
            "bin_start": 0.2,
            "count": 0
           },
           {
            "bin_end": 0.4,
            "bin_start": 0.30000000000000004,
            "count": 0
           },
           {
            "bin_end": 0.5,
            "bin_start": 0.4,
            "count": 0
           },
           {
            "bin_end": 0.6000000000000001,
            "bin_start": 0.5,
            "count": 0
           },
           {
            "bin_end": 0.7000000000000001,
            "bin_start": 0.6000000000000001,
            "count": 0
           },
           {
            "bin_end": 0.8,
            "bin_start": 0.7000000000000001,
            "count": 0
           },
           {
            "bin_end": 0.9,
            "bin_start": 0.8,
            "count": 0
           },
           {
            "bin_end": 1,
            "bin_start": 0.9,
            "count": 1
           }
          ],
          "max": "1",
          "min": "0",
          "nan_count": 0,
          "unique_count": 2
         }
        },
        {
         "dtype": "int64",
         "name": "investment_and_industry",
         "stats": {
          "histogram": [
           {
            "bin_end": -0.4,
            "bin_start": -0.5,
            "count": 0
           },
           {
            "bin_end": -0.3,
            "bin_start": -0.4,
            "count": 0
           },
           {
            "bin_end": -0.19999999999999996,
            "bin_start": -0.3,
            "count": 0
           },
           {
            "bin_end": -0.09999999999999998,
            "bin_start": -0.19999999999999996,
            "count": 0
           },
           {
            "bin_end": 0,
            "bin_start": -0.09999999999999998,
            "count": 0
           },
           {
            "bin_end": 0.10000000000000009,
            "bin_start": 0,
            "count": 5
           },
           {
            "bin_end": 0.20000000000000007,
            "bin_start": 0.10000000000000009,
            "count": 0
           },
           {
            "bin_end": 0.30000000000000004,
            "bin_start": 0.20000000000000007,
            "count": 0
           },
           {
            "bin_end": 0.4,
            "bin_start": 0.30000000000000004,
            "count": 0
           },
           {
            "bin_end": 0.5,
            "bin_start": 0.4,
            "count": 0
           }
          ],
          "max": "0",
          "min": "0",
          "nan_count": 0,
          "unique_count": 1
         }
        },
        {
         "dtype": "int64",
         "name": "expert_opinion",
         "stats": {
          "histogram": [
           {
            "bin_end": -0.4,
            "bin_start": -0.5,
            "count": 0
           },
           {
            "bin_end": -0.3,
            "bin_start": -0.4,
            "count": 0
           },
           {
            "bin_end": -0.19999999999999996,
            "bin_start": -0.3,
            "count": 0
           },
           {
            "bin_end": -0.09999999999999998,
            "bin_start": -0.19999999999999996,
            "count": 0
           },
           {
            "bin_end": 0,
            "bin_start": -0.09999999999999998,
            "count": 0
           },
           {
            "bin_end": 0.10000000000000009,
            "bin_start": 0,
            "count": 5
           },
           {
            "bin_end": 0.20000000000000007,
            "bin_start": 0.10000000000000009,
            "count": 0
           },
           {
            "bin_end": 0.30000000000000004,
            "bin_start": 0.20000000000000007,
            "count": 0
           },
           {
            "bin_end": 0.4,
            "bin_start": 0.30000000000000004,
            "count": 0
           },
           {
            "bin_end": 0.5,
            "bin_start": 0.4,
            "count": 0
           }
          ],
          "max": "0",
          "min": "0",
          "nan_count": 0,
          "unique_count": 1
         }
        },
        {
         "dtype": "int64",
         "name": "activism_calls_to_action",
         "stats": {
          "histogram": [
           {
            "bin_end": -0.4,
            "bin_start": -0.5,
            "count": 0
           },
           {
            "bin_end": -0.3,
            "bin_start": -0.4,
            "count": 0
           },
           {
            "bin_end": -0.19999999999999996,
            "bin_start": -0.3,
            "count": 0
           },
           {
            "bin_end": -0.09999999999999998,
            "bin_start": -0.19999999999999996,
            "count": 0
           },
           {
            "bin_end": 0,
            "bin_start": -0.09999999999999998,
            "count": 0
           },
           {
            "bin_end": 0.10000000000000009,
            "bin_start": 0,
            "count": 5
           },
           {
            "bin_end": 0.20000000000000007,
            "bin_start": 0.10000000000000009,
            "count": 0
           },
           {
            "bin_end": 0.30000000000000004,
            "bin_start": 0.20000000000000007,
            "count": 0
           },
           {
            "bin_end": 0.4,
            "bin_start": 0.30000000000000004,
            "count": 0
           },
           {
            "bin_end": 0.5,
            "bin_start": 0.4,
            "count": 0
           }
          ],
          "max": "0",
          "min": "0",
          "nan_count": 0,
          "unique_count": 1
         }
        },
        {
         "dtype": "int64",
         "name": "other_energy_sources",
         "stats": {
          "histogram": [
           {
            "bin_end": -0.4,
            "bin_start": -0.5,
            "count": 0
           },
           {
            "bin_end": -0.3,
            "bin_start": -0.4,
            "count": 0
           },
           {
            "bin_end": -0.19999999999999996,
            "bin_start": -0.3,
            "count": 0
           },
           {
            "bin_end": -0.09999999999999998,
            "bin_start": -0.19999999999999996,
            "count": 0
           },
           {
            "bin_end": 0,
            "bin_start": -0.09999999999999998,
            "count": 0
           },
           {
            "bin_end": 0.10000000000000009,
            "bin_start": 0,
            "count": 5
           },
           {
            "bin_end": 0.20000000000000007,
            "bin_start": 0.10000000000000009,
            "count": 0
           },
           {
            "bin_end": 0.30000000000000004,
            "bin_start": 0.20000000000000007,
            "count": 0
           },
           {
            "bin_end": 0.4,
            "bin_start": 0.30000000000000004,
            "count": 0
           },
           {
            "bin_end": 0.5,
            "bin_start": 0.4,
            "count": 0
           }
          ],
          "max": "0",
          "min": "0",
          "nan_count": 0,
          "unique_count": 1
         }
        },
        {
         "dtype": "int64",
         "name": "member_states",
         "stats": {
          "histogram": [
           {
            "bin_end": 0.1,
            "bin_start": 0,
            "count": 3
           },
           {
            "bin_end": 0.2,
            "bin_start": 0.1,
            "count": 0
           },
           {
            "bin_end": 0.30000000000000004,
            "bin_start": 0.2,
            "count": 0
           },
           {
            "bin_end": 0.4,
            "bin_start": 0.30000000000000004,
            "count": 0
           },
           {
            "bin_end": 0.5,
            "bin_start": 0.4,
            "count": 0
           },
           {
            "bin_end": 0.6000000000000001,
            "bin_start": 0.5,
            "count": 0
           },
           {
            "bin_end": 0.7000000000000001,
            "bin_start": 0.6000000000000001,
            "count": 0
           },
           {
            "bin_end": 0.8,
            "bin_start": 0.7000000000000001,
            "count": 0
           },
           {
            "bin_end": 0.9,
            "bin_start": 0.8,
            "count": 0
           },
           {
            "bin_end": 1,
            "bin_start": 0.9,
            "count": 2
           }
          ],
          "max": "1",
          "min": "0",
          "nan_count": 0,
          "unique_count": 2
         }
        },
        {
         "dtype": "int64",
         "name": "irrelevant",
         "stats": {
          "histogram": [
           {
            "bin_end": 0.1,
            "bin_start": 0,
            "count": 4
           },
           {
            "bin_end": 0.2,
            "bin_start": 0.1,
            "count": 0
           },
           {
            "bin_end": 0.30000000000000004,
            "bin_start": 0.2,
            "count": 0
           },
           {
            "bin_end": 0.4,
            "bin_start": 0.30000000000000004,
            "count": 0
           },
           {
            "bin_end": 0.5,
            "bin_start": 0.4,
            "count": 0
           },
           {
            "bin_end": 0.6000000000000001,
            "bin_start": 0.5,
            "count": 0
           },
           {
            "bin_end": 0.7000000000000001,
            "bin_start": 0.6000000000000001,
            "count": 0
           },
           {
            "bin_end": 0.8,
            "bin_start": 0.7000000000000001,
            "count": 0
           },
           {
            "bin_end": 0.9,
            "bin_start": 0.8,
            "count": 0
           },
           {
            "bin_end": 1,
            "bin_start": 0.9,
            "count": 1
           }
          ],
          "max": "1",
          "min": "0",
          "nan_count": 0,
          "unique_count": 2
         }
        },
        {
         "dtype": "int64",
         "name": "_deepnote_index_column"
        }
       ],
       "row_count": 5,
       "rows": [
        {
         "_deepnote_index_column": 0,
         "activism_calls_to_action": 0,
         "energy_transition": 1,
         "eu_entities": 0,
         "eu_taxonomy_green_deal": 0,
         "expert_opinion": 0,
         "finance_energy_crisis": 0,
         "greenwashing": 0,
         "investment_and_industry": 0,
         "irrelevant": 0,
         "member_states": 0,
         "nuclear_risks_regulations": 0,
         "other_energy_sources": 0,
         "sustainable_nuclear": 0,
         "tweet": "Congratulations to  Rutte &amp; his 4th government in a row. 🇸🇰 &amp; 🇳🇱 are fervent #EU partners &amp; allies within . There're many areas to be explored for a mutually enriching cooperation like #GreenTransition incl. #nuclear, post #COVID19 recovery or #democracy &amp; #values.🤝",
         "ukraine_russia": 0
        },
        {
         "_deepnote_index_column": 1,
         "activism_calls_to_action": 0,
         "energy_transition": 0,
         "eu_entities": 1,
         "eu_taxonomy_green_deal": 0,
         "expert_opinion": 0,
         "finance_energy_crisis": 0,
         "greenwashing": 0,
         "investment_and_industry": 0,
         "irrelevant": 0,
         "member_states": 1,
         "nuclear_risks_regulations": 0,
         "other_energy_sources": 0,
         "sustainable_nuclear": 0,
         "tweet": "Ahead of the V4-France Summit I talked to  on how to move forward w/ #EU agenda. Looking forward to cooperate w/ 🇨🇵 during  on democracy incl. #ProtectionOfJournalists, EU framework on #AntiMoneyLaundering &amp; #nuclear = our 🇪🇺 priorities. ",
         "ukraine_russia": 0
        },
        {
         "_deepnote_index_column": 2,
         "activism_calls_to_action": 0,
         "energy_transition": 0,
         "eu_entities": 1,
         "eu_taxonomy_green_deal": 0,
         "expert_opinion": 0,
         "finance_energy_crisis": 0,
         "greenwashing": 0,
         "investment_and_industry": 0,
         "irrelevant": 0,
         "member_states": 0,
         "nuclear_risks_regulations": 0,
         "other_energy_sources": 0,
         "sustainable_nuclear": 0,
         "tweet": "“The only way to achieve energy independence is with Nuclear power. We need to defeat the anti-nuclear majority in the European Parliament.”",
         "ukraine_russia": 1
        },
        {
         "_deepnote_index_column": 3,
         "activism_calls_to_action": 0,
         "energy_transition": 0,
         "eu_entities": 1,
         "eu_taxonomy_green_deal": 1,
         "expert_opinion": 0,
         "finance_energy_crisis": 0,
         "greenwashing": 0,
         "investment_and_industry": 0,
         "irrelevant": 0,
         "member_states": 1,
         "nuclear_risks_regulations": 0,
         "other_energy_sources": 0,
         "sustainable_nuclear": 0,
         "tweet": "Swedish MEP  has written in  this week about the missing piece of the #EuropeanGreenDeal - Nuclear Energy. \n\n ",
         "ukraine_russia": 0
        },
        {
         "_deepnote_index_column": 4,
         "activism_calls_to_action": 0,
         "energy_transition": 0,
         "eu_entities": 1,
         "eu_taxonomy_green_deal": 0,
         "expert_opinion": 0,
         "finance_energy_crisis": 0,
         "greenwashing": 0,
         "investment_and_industry": 0,
         "irrelevant": 1,
         "member_states": 0,
         "nuclear_risks_regulations": 0,
         "other_energy_sources": 0,
         "sustainable_nuclear": 0,
         "tweet": "#ECPM MEP  points out important omissions in the EP report on the EU strategy towards #Iran after the #nuclear deal: ",
         "ukraine_russia": 0
        }
       ]
      },
      "text/html": [
       "<div>\n",
       "<style scoped>\n",
       "    .dataframe tbody tr th:only-of-type {\n",
       "        vertical-align: middle;\n",
       "    }\n",
       "\n",
       "    .dataframe tbody tr th {\n",
       "        vertical-align: top;\n",
       "    }\n",
       "\n",
       "    .dataframe thead th {\n",
       "        text-align: right;\n",
       "    }\n",
       "</style>\n",
       "<table border=\"1\" class=\"dataframe\">\n",
       "  <thead>\n",
       "    <tr style=\"text-align: right;\">\n",
       "      <th></th>\n",
       "      <th>tweet</th>\n",
       "      <th>sustainable_nuclear</th>\n",
       "      <th>eu_taxonomy_green_deal</th>\n",
       "      <th>energy_transition</th>\n",
       "      <th>finance_energy_crisis</th>\n",
       "      <th>greenwashing</th>\n",
       "      <th>eu_entities</th>\n",
       "      <th>nuclear_risks_regulations</th>\n",
       "      <th>ukraine_russia</th>\n",
       "      <th>investment_and_industry</th>\n",
       "      <th>expert_opinion</th>\n",
       "      <th>activism_calls_to_action</th>\n",
       "      <th>other_energy_sources</th>\n",
       "      <th>member_states</th>\n",
       "      <th>irrelevant</th>\n",
       "    </tr>\n",
       "  </thead>\n",
       "  <tbody>\n",
       "    <tr>\n",
       "      <th>0</th>\n",
       "      <td>Congratulations to  Rutte &amp;amp; his 4th govern...</td>\n",
       "      <td>0</td>\n",
       "      <td>0</td>\n",
       "      <td>1</td>\n",
       "      <td>0</td>\n",
       "      <td>0</td>\n",
       "      <td>0</td>\n",
       "      <td>0</td>\n",
       "      <td>0</td>\n",
       "      <td>0</td>\n",
       "      <td>0</td>\n",
       "      <td>0</td>\n",
       "      <td>0</td>\n",
       "      <td>0</td>\n",
       "      <td>0</td>\n",
       "    </tr>\n",
       "    <tr>\n",
       "      <th>1</th>\n",
       "      <td>Ahead of the V4-France Summit I talked to  on ...</td>\n",
       "      <td>0</td>\n",
       "      <td>0</td>\n",
       "      <td>0</td>\n",
       "      <td>0</td>\n",
       "      <td>0</td>\n",
       "      <td>1</td>\n",
       "      <td>0</td>\n",
       "      <td>0</td>\n",
       "      <td>0</td>\n",
       "      <td>0</td>\n",
       "      <td>0</td>\n",
       "      <td>0</td>\n",
       "      <td>1</td>\n",
       "      <td>0</td>\n",
       "    </tr>\n",
       "    <tr>\n",
       "      <th>2</th>\n",
       "      <td>“The only way to achieve energy independence i...</td>\n",
       "      <td>0</td>\n",
       "      <td>0</td>\n",
       "      <td>0</td>\n",
       "      <td>0</td>\n",
       "      <td>0</td>\n",
       "      <td>1</td>\n",
       "      <td>0</td>\n",
       "      <td>1</td>\n",
       "      <td>0</td>\n",
       "      <td>0</td>\n",
       "      <td>0</td>\n",
       "      <td>0</td>\n",
       "      <td>0</td>\n",
       "      <td>0</td>\n",
       "    </tr>\n",
       "    <tr>\n",
       "      <th>3</th>\n",
       "      <td>Swedish MEP  has written in  this week about t...</td>\n",
       "      <td>0</td>\n",
       "      <td>1</td>\n",
       "      <td>0</td>\n",
       "      <td>0</td>\n",
       "      <td>0</td>\n",
       "      <td>1</td>\n",
       "      <td>0</td>\n",
       "      <td>0</td>\n",
       "      <td>0</td>\n",
       "      <td>0</td>\n",
       "      <td>0</td>\n",
       "      <td>0</td>\n",
       "      <td>1</td>\n",
       "      <td>0</td>\n",
       "    </tr>\n",
       "    <tr>\n",
       "      <th>4</th>\n",
       "      <td>#ECPM MEP  points out important omissions in t...</td>\n",
       "      <td>0</td>\n",
       "      <td>0</td>\n",
       "      <td>0</td>\n",
       "      <td>0</td>\n",
       "      <td>0</td>\n",
       "      <td>1</td>\n",
       "      <td>0</td>\n",
       "      <td>0</td>\n",
       "      <td>0</td>\n",
       "      <td>0</td>\n",
       "      <td>0</td>\n",
       "      <td>0</td>\n",
       "      <td>0</td>\n",
       "      <td>1</td>\n",
       "    </tr>\n",
       "  </tbody>\n",
       "</table>\n",
       "</div>"
      ],
      "text/plain": [
       "                                               tweet  sustainable_nuclear  \\\n",
       "0  Congratulations to  Rutte &amp; his 4th govern...                    0   \n",
       "1  Ahead of the V4-France Summit I talked to  on ...                    0   \n",
       "2  “The only way to achieve energy independence i...                    0   \n",
       "3  Swedish MEP  has written in  this week about t...                    0   \n",
       "4  #ECPM MEP  points out important omissions in t...                    0   \n",
       "\n",
       "   eu_taxonomy_green_deal  energy_transition  finance_energy_crisis  \\\n",
       "0                       0                  1                      0   \n",
       "1                       0                  0                      0   \n",
       "2                       0                  0                      0   \n",
       "3                       1                  0                      0   \n",
       "4                       0                  0                      0   \n",
       "\n",
       "   greenwashing  eu_entities  nuclear_risks_regulations  ukraine_russia  \\\n",
       "0             0            0                          0               0   \n",
       "1             0            1                          0               0   \n",
       "2             0            1                          0               1   \n",
       "3             0            1                          0               0   \n",
       "4             0            1                          0               0   \n",
       "\n",
       "   investment_and_industry  expert_opinion  activism_calls_to_action  \\\n",
       "0                        0               0                         0   \n",
       "1                        0               0                         0   \n",
       "2                        0               0                         0   \n",
       "3                        0               0                         0   \n",
       "4                        0               0                         0   \n",
       "\n",
       "   other_energy_sources  member_states  irrelevant  \n",
       "0                     0              0           0  \n",
       "1                     0              1           0  \n",
       "2                     0              0           0  \n",
       "3                     0              1           0  \n",
       "4                     0              0           1  "
      ]
     },
     "execution_count": 12,
     "metadata": {},
     "output_type": "execute_result"
    }
   ],
   "source": [
    "# Classify each tweet using custom function,\n",
    "# return dict of classified tweets\n",
    "classified_dict = {tweet: classify_tweet(tweet, custom_terms_v2) for tweet in tweets_list}\n",
    "\n",
    "# Convert classified tweets to DF for ease\n",
    "# of analysis/export\n",
    "df_classified = (\n",
    "    pd.DataFrame\n",
    "        .from_dict(classified_dict, orient = 'index')\n",
    "        .reset_index()\n",
    "        .rename(columns = {'index':'tweet'})\n",
    "    )\n",
    "\n",
    "# Quick glimpse\n",
    "df_classified.head()"
   ]
  },
  {
   "cell_type": "code",
   "execution_count": null,
   "metadata": {
    "cell_id": "92163e2231024b4f99eb6b1055182548",
    "deepnote_cell_height": 395,
    "deepnote_cell_type": "code",
    "deepnote_to_be_reexecuted": false,
    "execution_millis": 49,
    "execution_start": 1654513797267,
    "source_hash": "a8804045",
    "tags": []
   },
   "outputs": [
    {
     "data": {
      "application/vnd.deepnote.dataframe.v3+json": {
       "column_count": 1,
       "columns": [
        {
         "dtype": "object",
         "name": "tweet",
         "stats": {
          "categories": [
           {
            "count": 1,
            "name": "“The only way to achieve energy independence is with Nuclear power. We need to defeat the anti-nuclear majority in the European Parliament.”"
           },
           {
            "count": 1,
            "name": "Ok - I asked here how we could replace Russian gas, coal, and oil, given we had a new EU emergency fund like NextGenEU.\n\nSome say we can’t, really. Because of heating. Some say, extend nuclear.\n\nI will look further into this, but here are some first answers I got.\n\n👇🏽⛽️🧵 "
           },
           {
            "count": 3,
            "name": "3 others"
           }
          ],
          "nan_count": 0,
          "unique_count": 5
         }
        },
        {
         "dtype": "int64",
         "name": "_deepnote_index_column"
        }
       ],
       "row_count": 5,
       "rows": [
        {
         "_deepnote_index_column": 2,
         "tweet": "“The only way to achieve energy independence is with Nuclear power. We need to defeat the anti-nuclear majority in the European Parliament.”"
        },
        {
         "_deepnote_index_column": 8,
         "tweet": "Ok - I asked here how we could replace Russian gas, coal, and oil, given we had a new EU emergency fund like NextGenEU.\n\nSome say we can’t, really. Because of heating. Some say, extend nuclear.\n\nI will look further into this, but here are some first answers I got.\n\n👇🏽⛽️🧵 "
        },
        {
         "_deepnote_index_column": 9,
         "tweet": "European Parliament just voted for a full and immediate embargo on Russian gas, oil, coal and nuclear fuel. At a very large majority.  and  will you hear the voice of the European citizens? Act now."
        },
        {
         "_deepnote_index_column": 11,
         "tweet": "During ⁦⁩ visit to the #CzechRepublic (starting today), I hope #US support to our energy security will be high on the agenda. Central Europe needs to import less Russian gas + oil and to diversify more other energy supplies, incl. nuclear. "
        },
        {
         "_deepnote_index_column": 34,
         "tweet": "The time for immediate further sanctions - embargo on Russian oil, coal and nuclear fuel- is now! Gas embargo - ASAP. EU cannot finance the genocide implemented by Russia! \n#Sanctions shall only be lifted when the last occupant leaves Ukrainian territory."
        }
       ]
      },
      "text/html": [
       "<div>\n",
       "<style scoped>\n",
       "    .dataframe tbody tr th:only-of-type {\n",
       "        vertical-align: middle;\n",
       "    }\n",
       "\n",
       "    .dataframe tbody tr th {\n",
       "        vertical-align: top;\n",
       "    }\n",
       "\n",
       "    .dataframe thead th {\n",
       "        text-align: right;\n",
       "    }\n",
       "</style>\n",
       "<table border=\"1\" class=\"dataframe\">\n",
       "  <thead>\n",
       "    <tr style=\"text-align: right;\">\n",
       "      <th></th>\n",
       "      <th>tweet</th>\n",
       "    </tr>\n",
       "  </thead>\n",
       "  <tbody>\n",
       "    <tr>\n",
       "      <th>2</th>\n",
       "      <td>“The only way to achieve energy independence i...</td>\n",
       "    </tr>\n",
       "    <tr>\n",
       "      <th>8</th>\n",
       "      <td>Ok - I asked here how we could replace Russian...</td>\n",
       "    </tr>\n",
       "    <tr>\n",
       "      <th>9</th>\n",
       "      <td>European Parliament just voted for a full and ...</td>\n",
       "    </tr>\n",
       "    <tr>\n",
       "      <th>11</th>\n",
       "      <td>During ⁦⁩ visit to the #CzechRepublic (startin...</td>\n",
       "    </tr>\n",
       "    <tr>\n",
       "      <th>34</th>\n",
       "      <td>The time for immediate further sanctions - emb...</td>\n",
       "    </tr>\n",
       "  </tbody>\n",
       "</table>\n",
       "</div>"
      ],
      "text/plain": [
       "                                                tweet\n",
       "2   “The only way to achieve energy independence i...\n",
       "8   Ok - I asked here how we could replace Russian...\n",
       "9   European Parliament just voted for a full and ...\n",
       "11  During ⁦⁩ visit to the #CzechRepublic (startin...\n",
       "34  The time for immediate further sanctions - emb..."
      ]
     },
     "execution_count": 13,
     "metadata": {},
     "output_type": "execute_result"
    }
   ],
   "source": [
    "df_classified.loc[df_classified['ukraine_russia'] == 1, ['tweet']].head()"
   ]
  },
  {
   "cell_type": "code",
   "execution_count": null,
   "metadata": {
    "cell_id": "9138c9988f5544dbac657b619b1dc51a",
    "deepnote_cell_height": 117,
    "deepnote_cell_type": "code",
    "deepnote_to_be_reexecuted": false,
    "execution_millis": 0,
    "execution_start": 1654513797313,
    "source_hash": "1fdac45e",
    "tags": []
   },
   "outputs": [],
   "source": [
    "df_classified['unclassified'] = 0\n",
    "\n",
    "df_classified.loc[df_classified.sum(axis = 1, numeric_only = True) == 0, ['unclassified']] = 1"
   ]
  },
  {
   "cell_type": "code",
   "execution_count": null,
   "metadata": {
    "cell_id": "6eb99ea88ecb4c648c3822b865417382",
    "deepnote_cell_height": 424.1875,
    "deepnote_cell_type": "code",
    "deepnote_to_be_reexecuted": false,
    "execution_millis": 3,
    "execution_start": 1654513797356,
    "source_hash": "f8a87563",
    "tags": []
   },
   "outputs": [
    {
     "data": {
      "text/plain": [
       "sustainable_nuclear           271\n",
       "expert_opinion                285\n",
       "greenwashing                  372\n",
       "irrelevant                    389\n",
       "activism_calls_to_action      599\n",
       "nuclear_risks_regulations     602\n",
       "finance_energy_crisis        1013\n",
       "unclassified                 1119\n",
       "eu_entities                  1312\n",
       "ukraine_russia               1520\n",
       "eu_taxonomy_green_deal       1919\n",
       "investment_and_industry      2204\n",
       "energy_transition            2380\n",
       "member_states                2487\n",
       "other_energy_sources         2795\n",
       "dtype: int64"
      ]
     },
     "execution_count": 15,
     "metadata": {},
     "output_type": "execute_result"
    }
   ],
   "source": [
    "topic_dist = df_classified.sum(numeric_only = True).sort_values(ascending = True)\n",
    "topic_dist"
   ]
  },
  {
   "cell_type": "code",
   "execution_count": null,
   "metadata": {
    "cell_id": "9c37df8e4ca04e1f8ddd8e3a772190ca",
    "deepnote_cell_height": 99,
    "deepnote_cell_type": "code",
    "deepnote_to_be_reexecuted": false,
    "execution_millis": 175629341,
    "execution_start": 1654513797357,
    "source_hash": "31071696",
    "tags": []
   },
   "outputs": [],
   "source": [
    "import matplotlib.pyplot as plt\n",
    "plt.style.use('seaborn-whitegrid')"
   ]
  },
  {
   "cell_type": "code",
   "execution_count": null,
   "metadata": {
    "cell_id": "c8098a09dc6b44a8a643a13d05b4e7ad",
    "deepnote_cell_height": 559,
    "deepnote_cell_type": "code",
    "deepnote_output_heights": [
     372
    ],
    "deepnote_to_be_reexecuted": false,
    "execution_millis": 1005,
    "execution_start": 1654513797419,
    "source_hash": "23aceb88",
    "tags": []
   },
   "outputs": [
    {
     "data": {
      "image/png": "[encoded data removed]",
      "text/plain": [
       "<Figure size 720x432 with 1 Axes>"
      ]
     },
     "metadata": {
      "image/png": {
       "height": 370,
       "width": 703
      },
      "needs_background": "light"
     },
     "output_type": "display_data"
    }
   ],
   "source": [
    "plt.figure(figsize = (10,6))\n",
    "topic_dist.plot(kind = 'barh')\n",
    "plt.title('Number of tweets within each category')\n",
    "sns.despine(bottom = True)\n",
    "\n",
    "plt.show()"
   ]
  },
  {
   "cell_type": "code",
   "execution_count": null,
   "metadata": {
    "cell_id": "c59239cc2816485f89c207b94565bb12",
    "deepnote_cell_height": 81,
    "deepnote_cell_type": "code",
    "deepnote_to_be_reexecuted": false,
    "execution_millis": 10324,
    "execution_start": 1654513804211,
    "source_hash": "6dac987e",
    "tags": []
   },
   "outputs": [],
   "source": [
    "df_classified.to_excel('classified_tweets_v2.xlsx')"
   ]
  },
  {
   "cell_type": "markdown",
   "metadata": {
    "cell_id": "cbc5bb6b4daa4061b72bd9863888e3d1",
    "deepnote_cell_height": 82,
    "deepnote_cell_type": "markdown",
    "tags": []
   },
   "source": [
    "# Manual coding and performance metrics"
   ]
  },
  {
   "cell_type": "code",
   "execution_count": null,
   "metadata": {
    "cell_id": "3c659cb5052f4abbac0bdf7d6a4e2349",
    "deepnote_cell_height": 315,
    "deepnote_cell_type": "code",
    "deepnote_to_be_reexecuted": false,
    "execution_millis": 18,
    "execution_start": 1654513814544,
    "source_hash": "2b3c3cc2",
    "tags": []
   },
   "outputs": [],
   "source": [
    "def sample_classified_tweets(df_classified, n = 50):\n",
    "    '''\n",
    "    Draw random sample of n classified tweets for manual\n",
    "    coding of true positive rate. Samples written to\n",
    "    separate .csv files.\n",
    "    '''\n",
    "\n",
    "    for topic in df_classified.drop(columns = ['tweet']).columns:\n",
    "\n",
    "        # Filter full DF by given topic\n",
    "        df_topic = df_classified.loc[df_classified[topic] == 1]\n",
    "\n",
    "        # Export to .csv\n",
    "        df_topic.sample(n = n).to_csv(f'validation_sets/validation_set_{topic}.csv')"
   ]
  },
  {
   "cell_type": "code",
   "execution_count": null,
   "metadata": {
    "cell_id": "862b6387ebad44faab6f536113ad94d9",
    "deepnote_cell_height": 81,
    "deepnote_cell_type": "code",
    "deepnote_to_be_reexecuted": false,
    "execution_millis": 96,
    "execution_start": 1654513815850,
    "source_hash": "24f9e8d",
    "tags": []
   },
   "outputs": [],
   "source": [
    "sample_classified_tweets(df_classified)"
   ]
  },
  {
   "cell_type": "code",
   "execution_count": null,
   "metadata": {
    "cell_id": "21aa0f401a2d4022b78a32d91f3ea977",
    "deepnote_cell_height": 369,
    "deepnote_cell_type": "code",
    "deepnote_to_be_reexecuted": false,
    "execution_millis": 2,
    "execution_start": 1654513818747,
    "source_hash": "238fe0bf",
    "tags": []
   },
   "outputs": [],
   "source": [
    "topics = [\n",
    "    'sustainable_nuclear',\n",
    "    'expert_opinion',\n",
    "    'greenwashing',\n",
    "    'irrelevant',\n",
    "    'activism_calls_to_action',\n",
    "    'nuclear_risks_regulations',\n",
    "    'finance_energy_crisis',\n",
    "    #'unclassified',\n",
    "    'eu_entities',\n",
    "    'ukraine_russia',\n",
    "    'eu_taxonomy_green_deal',\n",
    "    'investment_and_industry',\n",
    "    'energy_transition',\n",
    "    'member_states',\n",
    "    'other_energy_sources'\n",
    "]"
   ]
  },
  {
   "cell_type": "code",
   "execution_count": null,
   "metadata": {
    "cell_id": "519017d9113e461c8e21e5650eb92d40",
    "deepnote_cell_height": 981,
    "deepnote_cell_type": "code",
    "deepnote_table_loading": false,
    "deepnote_table_state": {
     "filters": [],
     "pageIndex": 0,
     "pageSize": 100,
     "sortBy": []
    },
    "deepnote_to_be_reexecuted": false,
    "execution_millis": 23,
    "execution_start": 1654513819619,
    "source_hash": "8afa3fe6",
    "tags": []
   },
   "outputs": [],
   "source": [
    "def plot_precision_scores(topcis):\n",
    "    '''\n",
    "    Plot dict classifier precision score\n",
    "    per topic directly from coded\n",
    "    validation sheets.\n",
    "\n",
    "    ---\n",
    "    topics (list): Selected topics to plot.\n",
    "    '''\n",
    "\n",
    "    prec_scores = []\n",
    "\n",
    "    for topic in topics:\n",
    "\n",
    "        try:\n",
    "            valid = pd.read_csv(f'validation_sets_coded/coded_validation_set_{topic}.csv')[:50]['valid']\\\n",
    "            .astype(int).sum()\n",
    "\n",
    "            precision = valid / 50\n",
    "            prec_scores.append(precision)\n",
    "\n",
    "        except FileNotFoundError:\n",
    "            print(f'NOTE: {topic} not yet validated!') \n",
    "            prec_scores.append(np.nan)\n",
    "\n",
    "    metric_table = pd.DataFrame(\n",
    "        zip(topics, prec_scores),\n",
    "        columns = ['Topic', 'Precision']\n",
    "        ).sort_values('Precision', ascending = False)\n",
    "\n",
    "    plt.figure(figsize = (10,6))\n",
    "\n",
    "    p = sns.barplot(\n",
    "        x = metric_table['Precision'],\n",
    "        y = metric_table['Topic'],\n",
    "        color = '#1f77b4'\n",
    "        )\n",
    "\n",
    "    plt.axvline(\n",
    "        x = np.nanmean(prec_scores),\n",
    "        color = 'lightblue',\n",
    "        linestyle = '-',\n",
    "        linewidth = 1.5\n",
    "        )\n",
    "\n",
    "    plt.title('Dictionary classifier — precision per topic')\n",
    "    plt.xlim(0,1)\n",
    "    plt.xticks([0, .25, .5, .75, np.nanmean(prec_scores), 1]) # nanmean() to account for unvalidated topics\n",
    "    plt.bar_label(p.containers[0], padding = 3, fmt = '%.3f')\n",
    "    sns.despine(right = False, bottom = True)\n",
    "    p.xaxis.set_major_formatter('{x:.3f}')"
   ]
  },
  {
   "cell_type": "code",
   "execution_count": null,
   "metadata": {
    "cell_id": "f8e4becb08ea41f4bf88fdfd79c75200",
    "deepnote_cell_height": 483,
    "deepnote_cell_type": "code",
    "deepnote_output_heights": [
     386
    ],
    "deepnote_to_be_reexecuted": false,
    "execution_millis": 905,
    "execution_start": 1654513821317,
    "source_hash": "33fe7b94",
    "tags": []
   },
   "outputs": [
    {
     "data": {
      "image/png": "[encoded data removed]",
      "text/plain": [
       "<Figure size 720x432 with 1 Axes>"
      ]
     },
     "metadata": {
      "image/png": {
       "height": 384,
       "width": 748
      },
      "needs_background": "light"
     },
     "output_type": "display_data"
    }
   ],
   "source": [
    "plot_precision_scores(topics)"
   ]
  },
  {
   "cell_type": "markdown",
   "metadata": {
    "cell_id": "b0ced85eed314eefade47a74cd0e24c2",
    "deepnote_cell_height": 82,
    "deepnote_cell_type": "markdown",
    "tags": []
   },
   "source": [
    "# Second iteration of classification"
   ]
  },
  {
   "cell_type": "code",
   "execution_count": 6,
   "metadata": {
    "cell_id": "a5c01bfde884482ab915eef85766d49d",
    "deepnote_cell_height": 117,
    "deepnote_cell_type": "code",
    "deepnote_to_be_reexecuted": false,
    "execution_millis": 32,
    "execution_start": 1654513826004,
    "source_hash": "556cd37d",
    "tags": []
   },
   "outputs": [],
   "source": [
    "# loading the dataset containing the tweets and metadate in the network graph\n",
    "\n",
    "df_2 = pd.read_pickle('../Data/df_tweets_selected_users.p')"
   ]
  },
  {
   "cell_type": "code",
   "execution_count": null,
   "metadata": {
    "cell_id": "f63e897a11e4465d9c293c3a299e78a6",
    "deepnote_cell_height": 81,
    "deepnote_cell_type": "code",
    "deepnote_table_loading": false,
    "deepnote_table_state": {
     "filters": [],
     "pageIndex": 793,
     "pageSize": 10,
     "sortBy": []
    },
    "deepnote_to_be_reexecuted": false,
    "execution_millis": 10,
    "execution_start": 1654513827344,
    "source_hash": "8ca437f9",
    "tags": []
   },
   "outputs": [],
   "source": [
    "df_2 = df_2.reset_index()"
   ]
  },
  {
   "cell_type": "code",
   "execution_count": null,
   "metadata": {
    "cell_id": "99aa3c9adc404c6b96d9bdd78ca695a7",
    "deepnote_cell_height": 431,
    "deepnote_cell_type": "code",
    "deepnote_table_loading": false,
    "deepnote_table_state": {
     "filters": [],
     "pageIndex": 793,
     "pageSize": 10,
     "sortBy": []
    },
    "deepnote_to_be_reexecuted": false,
    "execution_millis": 69,
    "execution_start": 1654513827389,
    "source_hash": "7bffe8d4",
    "tags": []
   },
   "outputs": [
    {
     "data": {
      "application/vnd.deepnote.dataframe.v3+json": {
       "column_count": 12,
       "columns": [
        {
         "dtype": "int64",
         "name": "user.id",
         "stats": {
          "histogram": [
           {
            "bin_end": 96282061747836200,
            "bin_start": 1498076587,
            "count": 3
           },
           {
            "bin_end": 192564121997595780,
            "bin_start": 96282061747836200,
            "count": 0
           },
           {
            "bin_end": 288846182247355400,
            "bin_start": 192564121997595780,
            "count": 0
           },
           {
            "bin_end": 385128242497115000,
            "bin_start": 288846182247355400,
            "count": 0
           },
           {
            "bin_end": 481410302746874600,
            "bin_start": 385128242497115000,
            "count": 0
           },
           {
            "bin_end": 577692362996634100,
            "bin_start": 481410302746874600,
            "count": 0
           },
           {
            "bin_end": 673974423246393700,
            "bin_start": 577692362996634100,
            "count": 0
           },
           {
            "bin_end": 770256483496153300,
            "bin_start": 673974423246393700,
            "count": 0
           },
           {
            "bin_end": 866538543745913000,
            "bin_start": 770256483496153300,
            "count": 0
           },
           {
            "bin_end": 962820603995672600,
            "bin_start": 866538543745913000,
            "count": 2
           }
          ],
          "max": "962820603995672577",
          "min": "1498076587",
          "nan_count": 0,
          "unique_count": 3
         }
        },
        {
         "dtype": "object",
         "name": "user.name",
         "stats": {
          "categories": [
           {
            "count": 2,
            "name": "Eduard Heger"
           },
           {
            "count": 2,
            "name": "ECR Party"
           },
           {
            "count": 1,
            "name": "ECPM"
           }
          ],
          "nan_count": 0,
          "unique_count": 3
         }
        },
        {
         "dtype": "object",
         "name": "user.screen_name",
         "stats": {
          "categories": [
           {
            "count": 2,
            "name": "eduardheger"
           },
           {
            "count": 2,
            "name": "ECRparty"
           },
           {
            "count": 1,
            "name": "ECPM_official"
           }
          ],
          "nan_count": 0,
          "unique_count": 3
         }
        },
        {
         "dtype": "int64",
         "name": "id",
         "stats": {
          "histogram": [
           {
            "bin_end": 859876184842237600,
            "bin_start": 790917675241369600,
            "count": 1
           },
           {
            "bin_end": 928834694443105500,
            "bin_start": 859876184842237600,
            "count": 0
           },
           {
            "bin_end": 997793204043973400,
            "bin_start": 928834694443105500,
            "count": 0
           },
           {
            "bin_end": 1066751713644841300,
            "bin_start": 997793204043973400,
            "count": 0
           },
           {
            "bin_end": 1135710223245709300,
            "bin_start": 1066751713644841300,
            "count": 0
           },
           {
            "bin_end": 1204668732846577200,
            "bin_start": 1135710223245709300,
            "count": 0
           },
           {
            "bin_end": 1273627242447445200,
            "bin_start": 1204668732846577200,
            "count": 2
           },
           {
            "bin_end": 1342585752048313000,
            "bin_start": 1273627242447445200,
            "count": 0
           },
           {
            "bin_end": 1411544261649181200,
            "bin_start": 1342585752048313000,
            "count": 0
           },
           {
            "bin_end": 1480502771250049000,
            "bin_start": 1411544261649181200,
            "count": 2
           }
          ],
          "max": "1480502771250049028",
          "min": "790917675241369600",
          "nan_count": 0,
          "unique_count": 5
         }
        },
        {
         "dtype": "datetime64[ns, UTC]",
         "name": "created_at",
         "stats": {
          "histogram": [
           {
            "bin_end": 1493845431900000000,
            "bin_start": 1477404442000000000,
            "count": 1
           },
           {
            "bin_end": 1510286421800000000,
            "bin_start": 1493845431900000000,
            "count": 0
           },
           {
            "bin_end": 1526727411700000000,
            "bin_start": 1510286421800000000,
            "count": 0
           },
           {
            "bin_end": 1543168401600000000,
            "bin_start": 1526727411700000000,
            "count": 0
           },
           {
            "bin_end": 1559609391500000000,
            "bin_start": 1543168401600000000,
            "count": 0
           },
           {
            "bin_end": 1576050381400000000,
            "bin_start": 1559609391500000000,
            "count": 0
           },
           {
            "bin_end": 1592491371300000000,
            "bin_start": 1576050381400000000,
            "count": 2
           },
           {
            "bin_end": 1608932361200000000,
            "bin_start": 1592491371300000000,
            "count": 0
           },
           {
            "bin_end": 1625373351100000000,
            "bin_start": 1608932361200000000,
            "count": 0
           },
           {
            "bin_end": 1641814341000000000,
            "bin_start": 1625373351100000000,
            "count": 2
           }
          ],
          "max": "2022-01-10 11:32:21+00:00",
          "min": "2016-10-25 14:07:22+00:00",
          "nan_count": 0,
          "unique_count": 5
         }
        },
        {
         "dtype": "int64",
         "name": "favorite_count",
         "stats": {
          "histogram": [
           {
            "bin_end": 6,
            "bin_start": 0,
            "count": 3
           },
           {
            "bin_end": 12,
            "bin_start": 6,
            "count": 0
           },
           {
            "bin_end": 18,
            "bin_start": 12,
            "count": 0
           },
           {
            "bin_end": 24,
            "bin_start": 18,
            "count": 1
           },
           {
            "bin_end": 30,
            "bin_start": 24,
            "count": 0
           },
           {
            "bin_end": 36,
            "bin_start": 30,
            "count": 0
           },
           {
            "bin_end": 42,
            "bin_start": 36,
            "count": 0
           },
           {
            "bin_end": 48,
            "bin_start": 42,
            "count": 0
           },
           {
            "bin_end": 54,
            "bin_start": 48,
            "count": 0
           },
           {
            "bin_end": 60,
            "bin_start": 54,
            "count": 1
           }
          ],
          "max": "60",
          "min": "0",
          "nan_count": 0,
          "unique_count": 4
         }
        },
        {
         "dtype": "int64",
         "name": "retweet_count",
         "stats": {
          "histogram": [
           {
            "bin_end": 1.8,
            "bin_start": 0,
            "count": 2
           },
           {
            "bin_end": 3.6,
            "bin_start": 1.8,
            "count": 1
           },
           {
            "bin_end": 5.4,
            "bin_start": 3.6,
            "count": 0
           },
           {
            "bin_end": 7.2,
            "bin_start": 5.4,
            "count": 0
           },
           {
            "bin_end": 9,
            "bin_start": 7.2,
            "count": 1
           },
           {
            "bin_end": 10.8,
            "bin_start": 9,
            "count": 0
           },
           {
            "bin_end": 12.6,
            "bin_start": 10.8,
            "count": 0
           },
           {
            "bin_end": 14.4,
            "bin_start": 12.6,
            "count": 0
           },
           {
            "bin_end": 16.2,
            "bin_start": 14.4,
            "count": 0
           },
           {
            "bin_end": 18,
            "bin_start": 16.2,
            "count": 1
           }
          ],
          "max": "18",
          "min": "0",
          "nan_count": 0,
          "unique_count": 4
         }
        },
        {
         "dtype": "object",
         "name": "text",
         "stats": {
          "categories": [
           {
            "count": 1,
            "name": "Congratulations to @MinPres Rutte &amp; his 4th government in a row. 🇸🇰 &amp; 🇳🇱 are fervent #EU partners &amp; allies within @NATO. There're many areas to be explored for a mutually enriching cooperation like #GreenTransition incl. #nuclear, post #COVID19 recovery or #democracy &amp; #values.🤝"
           },
           {
            "count": 1,
            "name": "Ahead of the V4-France Summit I talked to @EmmanuelMacron on how to move forward w/ #EU agenda. Looking forward to cooperate w/ 🇨🇵 during @Europe2022FR on democracy incl. #ProtectionOfJournalists, EU framework on #AntiMoneyLaundering &amp; #nuclear = our 🇪🇺 priorities. https://t.co/7fKz22YraC"
           },
           {
            "count": 3,
            "name": "3 others"
           }
          ],
          "nan_count": 0,
          "unique_count": 5
         }
        },
        {
         "dtype": "object",
         "name": "mentions",
         "stats": {
          "categories": [
           {
            "count": 1,
            "name": "['MinPres', 'NATO']"
           },
           {
            "count": 1,
            "name": "['EmmanuelMacron', 'Europe2022FR']"
           },
           {
            "count": 3,
            "name": "3 others"
           }
          ],
          "nan_count": 0,
          "unique_count": 5
         }
        },
        {
         "dtype": "object",
         "name": "retweeted",
         "stats": {
          "categories": [
           {
            "count": 5,
            "name": "Missing"
           }
          ],
          "nan_count": 5,
          "unique_count": 0
         }
        },
        {
         "dtype": "object",
         "name": "category",
         "stats": {
          "categories": [
           {
            "count": 3,
            "name": "europarties"
           },
           {
            "count": 2,
            "name": "prime_ministers"
           }
          ],
          "nan_count": 0,
          "unique_count": 2
         }
        },
        {
         "dtype": "object",
         "name": "collapsed_category",
         "stats": {
          "categories": [
           {
            "count": 3,
            "name": "meps & europarties"
           },
           {
            "count": 2,
            "name": "politicians"
           }
          ],
          "nan_count": 0,
          "unique_count": 2
         }
        },
        {
         "dtype": "int64",
         "name": "_deepnote_index_column"
        }
       ],
       "row_count": 5,
       "rows": [
        {
         "_deepnote_index_column": 0,
         "category": "prime_ministers",
         "collapsed_category": "politicians",
         "created_at": "2022-01-10T11:32:21.000000",
         "favorite_count": 20,
         "id": 1480502771250049000,
         "mentions": "['MinPres', 'NATO']",
         "retweet_count": 8,
         "retweeted": "nan",
         "text": "Congratulations to @MinPres Rutte &amp; his 4th government in a row. 🇸🇰 &amp; 🇳🇱 are fervent #EU partners &amp; allies within @NATO. There're many areas to be explored for a mutually enriching cooperation like #GreenTransition incl. #nuclear, post #COVID19 recovery or #democracy &amp; #values.🤝",
         "user.id": 962820603995672600,
         "user.name": "Eduard Heger",
         "user.screen_name": "eduardheger"
        },
        {
         "_deepnote_index_column": 1,
         "category": "prime_ministers",
         "collapsed_category": "politicians",
         "created_at": "2021-12-13T20:07:45.000000",
         "favorite_count": 60,
         "id": 1470485614252466200,
         "mentions": "['EmmanuelMacron', 'Europe2022FR']",
         "retweet_count": 18,
         "retweeted": "nan",
         "text": "Ahead of the V4-France Summit I talked to @EmmanuelMacron on how to move forward w/ #EU agenda. Looking forward to cooperate w/ 🇨🇵 during @Europe2022FR on democracy incl. #ProtectionOfJournalists, EU framework on #AntiMoneyLaundering &amp; #nuclear = our 🇪🇺 priorities. https://t.co/7fKz22YraC",
         "user.id": 962820603995672600,
         "user.name": "Eduard Heger",
         "user.screen_name": "eduardheger"
        },
        {
         "_deepnote_index_column": 2,
         "category": "europarties",
         "collapsed_category": "meps & europarties",
         "created_at": "2020-05-21T12:35:36.000000",
         "favorite_count": 0,
         "id": 1263448354287235000,
         "mentions": "[]",
         "retweet_count": 0,
         "retweeted": "nan",
         "text": "“The only way to achieve energy independence is with Nuclear power. We need to defeat the anti-nuclear majority in the European Parliament.”",
         "user.id": 1498076587,
         "user.name": "ECR Party",
         "user.screen_name": "ECRparty"
        },
        {
         "_deepnote_index_column": 3,
         "category": "europarties",
         "collapsed_category": "meps & europarties",
         "created_at": "2020-05-18T08:05:52.000000",
         "favorite_count": 5,
         "id": 1262293314033856500,
         "mentions": "['JessicaStegrud', 'New_Europe']",
         "retweet_count": 2,
         "retweeted": "nan",
         "text": "Swedish MEP @JessicaStegrud has written in @New_Europe this week about the missing piece of the #EuropeanGreenDeal - Nuclear Energy. \n\nhttps://t.co/B7bYxvbtbc https://t.co/goOmrA7Vb3",
         "user.id": 1498076587,
         "user.name": "ECR Party",
         "user.screen_name": "ECRparty"
        },
        {
         "_deepnote_index_column": 4,
         "category": "europarties",
         "collapsed_category": "meps & europarties",
         "created_at": "2016-10-25T14:07:22.000000",
         "favorite_count": 0,
         "id": 790917675241369600,
         "mentions": "['BasBelderMEP']",
         "retweet_count": 0,
         "retweeted": "nan",
         "text": "#ECPM MEP @BasBelderMEP points out important omissions in the EP report on the EU strategy towards #Iran after the #nuclear deal: https://t.co/ttuyEO8zjF",
         "user.id": 2152547844,
         "user.name": "ECPM",
         "user.screen_name": "ECPM_official"
        }
       ]
      },
      "text/html": [
       "<div>\n",
       "<style scoped>\n",
       "    .dataframe tbody tr th:only-of-type {\n",
       "        vertical-align: middle;\n",
       "    }\n",
       "\n",
       "    .dataframe tbody tr th {\n",
       "        vertical-align: top;\n",
       "    }\n",
       "\n",
       "    .dataframe thead th {\n",
       "        text-align: right;\n",
       "    }\n",
       "</style>\n",
       "<table border=\"1\" class=\"dataframe\">\n",
       "  <thead>\n",
       "    <tr style=\"text-align: right;\">\n",
       "      <th></th>\n",
       "      <th>user.id</th>\n",
       "      <th>user.name</th>\n",
       "      <th>user.screen_name</th>\n",
       "      <th>id</th>\n",
       "      <th>created_at</th>\n",
       "      <th>favorite_count</th>\n",
       "      <th>retweet_count</th>\n",
       "      <th>text</th>\n",
       "      <th>mentions</th>\n",
       "      <th>retweeted</th>\n",
       "      <th>category</th>\n",
       "      <th>collapsed_category</th>\n",
       "    </tr>\n",
       "  </thead>\n",
       "  <tbody>\n",
       "    <tr>\n",
       "      <th>0</th>\n",
       "      <td>962820603995672577</td>\n",
       "      <td>Eduard Heger</td>\n",
       "      <td>eduardheger</td>\n",
       "      <td>1480502771250049028</td>\n",
       "      <td>2022-01-10 11:32:21+00:00</td>\n",
       "      <td>20</td>\n",
       "      <td>8</td>\n",
       "      <td>Congratulations to @MinPres Rutte &amp;amp; his 4t...</td>\n",
       "      <td>[MinPres, NATO]</td>\n",
       "      <td>NaN</td>\n",
       "      <td>prime_ministers</td>\n",
       "      <td>politicians</td>\n",
       "    </tr>\n",
       "    <tr>\n",
       "      <th>1</th>\n",
       "      <td>962820603995672577</td>\n",
       "      <td>Eduard Heger</td>\n",
       "      <td>eduardheger</td>\n",
       "      <td>1470485614252466179</td>\n",
       "      <td>2021-12-13 20:07:45+00:00</td>\n",
       "      <td>60</td>\n",
       "      <td>18</td>\n",
       "      <td>Ahead of the V4-France Summit I talked to @Emm...</td>\n",
       "      <td>[EmmanuelMacron, Europe2022FR]</td>\n",
       "      <td>NaN</td>\n",
       "      <td>prime_ministers</td>\n",
       "      <td>politicians</td>\n",
       "    </tr>\n",
       "    <tr>\n",
       "      <th>2</th>\n",
       "      <td>1498076587</td>\n",
       "      <td>ECR Party</td>\n",
       "      <td>ECRparty</td>\n",
       "      <td>1263448354287235076</td>\n",
       "      <td>2020-05-21 12:35:36+00:00</td>\n",
       "      <td>0</td>\n",
       "      <td>0</td>\n",
       "      <td>“The only way to achieve energy independence i...</td>\n",
       "      <td>[]</td>\n",
       "      <td>NaN</td>\n",
       "      <td>europarties</td>\n",
       "      <td>meps &amp; europarties</td>\n",
       "    </tr>\n",
       "    <tr>\n",
       "      <th>3</th>\n",
       "      <td>1498076587</td>\n",
       "      <td>ECR Party</td>\n",
       "      <td>ECRparty</td>\n",
       "      <td>1262293314033856513</td>\n",
       "      <td>2020-05-18 08:05:52+00:00</td>\n",
       "      <td>5</td>\n",
       "      <td>2</td>\n",
       "      <td>Swedish MEP @JessicaStegrud has written in @Ne...</td>\n",
       "      <td>[JessicaStegrud, New_Europe]</td>\n",
       "      <td>NaN</td>\n",
       "      <td>europarties</td>\n",
       "      <td>meps &amp; europarties</td>\n",
       "    </tr>\n",
       "    <tr>\n",
       "      <th>4</th>\n",
       "      <td>2152547844</td>\n",
       "      <td>ECPM</td>\n",
       "      <td>ECPM_official</td>\n",
       "      <td>790917675241369600</td>\n",
       "      <td>2016-10-25 14:07:22+00:00</td>\n",
       "      <td>0</td>\n",
       "      <td>0</td>\n",
       "      <td>#ECPM MEP @BasBelderMEP points out important o...</td>\n",
       "      <td>[BasBelderMEP]</td>\n",
       "      <td>NaN</td>\n",
       "      <td>europarties</td>\n",
       "      <td>meps &amp; europarties</td>\n",
       "    </tr>\n",
       "  </tbody>\n",
       "</table>\n",
       "</div>"
      ],
      "text/plain": [
       "              user.id     user.name user.screen_name                   id  \\\n",
       "0  962820603995672577  Eduard Heger      eduardheger  1480502771250049028   \n",
       "1  962820603995672577  Eduard Heger      eduardheger  1470485614252466179   \n",
       "2          1498076587     ECR Party         ECRparty  1263448354287235076   \n",
       "3          1498076587     ECR Party         ECRparty  1262293314033856513   \n",
       "4          2152547844          ECPM    ECPM_official   790917675241369600   \n",
       "\n",
       "                 created_at  favorite_count  retweet_count  \\\n",
       "0 2022-01-10 11:32:21+00:00              20              8   \n",
       "1 2021-12-13 20:07:45+00:00              60             18   \n",
       "2 2020-05-21 12:35:36+00:00               0              0   \n",
       "3 2020-05-18 08:05:52+00:00               5              2   \n",
       "4 2016-10-25 14:07:22+00:00               0              0   \n",
       "\n",
       "                                                text  \\\n",
       "0  Congratulations to @MinPres Rutte &amp; his 4t...   \n",
       "1  Ahead of the V4-France Summit I talked to @Emm...   \n",
       "2  “The only way to achieve energy independence i...   \n",
       "3  Swedish MEP @JessicaStegrud has written in @Ne...   \n",
       "4  #ECPM MEP @BasBelderMEP points out important o...   \n",
       "\n",
       "                         mentions retweeted         category  \\\n",
       "0                 [MinPres, NATO]       NaN  prime_ministers   \n",
       "1  [EmmanuelMacron, Europe2022FR]       NaN  prime_ministers   \n",
       "2                              []       NaN      europarties   \n",
       "3    [JessicaStegrud, New_Europe]       NaN      europarties   \n",
       "4                  [BasBelderMEP]       NaN      europarties   \n",
       "\n",
       "   collapsed_category  \n",
       "0         politicians  \n",
       "1         politicians  \n",
       "2  meps & europarties  \n",
       "3  meps & europarties  \n",
       "4  meps & europarties  "
      ]
     },
     "execution_count": 26,
     "metadata": {},
     "output_type": "execute_result"
    }
   ],
   "source": [
    "df_2 = df_2.drop(['index'],axis=1)\n",
    "\n",
    "df_2.head()"
   ]
  },
  {
   "cell_type": "code",
   "execution_count": null,
   "metadata": {
    "cell_id": "067327d898c242aaba3c887abbfdbe1e",
    "deepnote_cell_height": 118.1875,
    "deepnote_cell_type": "code",
    "deepnote_to_be_reexecuted": false,
    "execution_millis": 2,
    "execution_start": 1654513829574,
    "source_hash": "62190022",
    "tags": []
   },
   "outputs": [
    {
     "data": {
      "text/plain": [
       "7938"
      ]
     },
     "execution_count": 27,
     "metadata": {},
     "output_type": "execute_result"
    }
   ],
   "source": [
    "len(df_2)"
   ]
  },
  {
   "cell_type": "code",
   "execution_count": null,
   "metadata": {
    "cell_id": "46d450c315494cce8f98fb01cd00bc12",
    "deepnote_cell_height": 99,
    "deepnote_cell_type": "code",
    "deepnote_to_be_reexecuted": false,
    "execution_millis": 3,
    "execution_start": 1654513830736,
    "source_hash": "448b2d64",
    "tags": []
   },
   "outputs": [],
   "source": [
    "# make a list of all tweets in the dataset\n",
    "s_tweets_2 = df_2['text'].tolist()"
   ]
  },
  {
   "cell_type": "code",
   "execution_count": null,
   "metadata": {
    "cell_id": "2cd4af399cba46d88384bd787892553a",
    "deepnote_cell_height": 81,
    "deepnote_cell_type": "code",
    "deepnote_to_be_reexecuted": false,
    "execution_millis": 32,
    "execution_start": 1654513831507,
    "source_hash": "51dad49a",
    "tags": []
   },
   "outputs": [],
   "source": [
    "import regex as re"
   ]
  },
  {
   "cell_type": "code",
   "execution_count": null,
   "metadata": {
    "cell_id": "12969742828347d0b191c5276a89f3e6",
    "deepnote_cell_height": 369,
    "deepnote_cell_type": "code",
    "deepnote_to_be_reexecuted": false,
    "execution_millis": 813,
    "execution_start": 1654513832740,
    "source_hash": "f10a3ce2",
    "tags": []
   },
   "outputs": [],
   "source": [
    "# Define RegEx patterns for cleaning\n",
    "twitter_pattern = r'@[a-zA-Z0-9_]{1,16}'                 # Remove twitter handles\n",
    "retweet_pattern = r'RT'                                  # Remove retweet indicators\n",
    "short_URL_pattern = r'https:\\/\\/t\\.co\\/[a-zA-Z0-9\\-\\.]+' # Remove shortened \"https://t.co/...\" Twitter URLs\n",
    "other_URL_pattern = r'https:\\/\\/[A-z0-9?\\.\\/-_=!]+'      # Remove other URLs\n",
    "\n",
    "pattern_list = [\n",
    "    twitter_pattern,\n",
    "    retweet_pattern,\n",
    "    short_URL_pattern,\n",
    "    other_URL_pattern\n",
    "    ]\n",
    "\n",
    "# Apply patterns to list of tweets\n",
    "for i in range(0,len(s_tweets_2)):\n",
    "    for pattern in pattern_list:\n",
    "        s_tweets_2[i] = re.sub(pattern, '',s_tweets_2[i])"
   ]
  },
  {
   "cell_type": "code",
   "execution_count": null,
   "metadata": {
    "cell_id": "cdb88355c7d74f6a81a3faa21c432db0",
    "deepnote_cell_height": 117,
    "deepnote_cell_type": "code",
    "deepnote_to_be_reexecuted": false,
    "execution_millis": 19,
    "execution_start": 1654513833563,
    "source_hash": "f4e91074",
    "tags": []
   },
   "outputs": [],
   "source": [
    "# Make a DataFrame with all the cleaned tweets\n",
    "df_categorized= pd.DataFrame(s_tweets_2, columns=['tweet'])\n"
   ]
  },
  {
   "cell_type": "code",
   "execution_count": null,
   "metadata": {
    "cell_id": "08b9185e2ef54741bd271df03ad5b23a",
    "deepnote_cell_height": 99,
    "deepnote_cell_type": "code",
    "deepnote_to_be_reexecuted": false,
    "execution_millis": 2976,
    "execution_start": 1654513833603,
    "source_hash": "205f502",
    "tags": []
   },
   "outputs": [],
   "source": [
    "# Apply the categorization function to the DataFrame\n",
    "df_categorized = df_categorized['tweet'].apply(lambda x : classify_tweet(x, custom_terms_v2))"
   ]
  },
  {
   "cell_type": "code",
   "execution_count": null,
   "metadata": {
    "cell_id": "59e63f26a64845bca7c1cadd121cbee0",
    "deepnote_cell_height": 99,
    "deepnote_cell_type": "code",
    "deepnote_to_be_reexecuted": false,
    "execution_millis": 59,
    "execution_start": 1654513836580,
    "source_hash": "16c9b6c2",
    "tags": []
   },
   "outputs": [],
   "source": [
    "# Expand the categories to their own proper column in the DataFrame\n",
    "df_categorized = pd.DataFrame.from_records(df_categorized)"
   ]
  },
  {
   "cell_type": "code",
   "execution_count": null,
   "metadata": {
    "cell_id": "b9f7b784572147cba9f0783b00d16fa1",
    "deepnote_cell_height": 395,
    "deepnote_cell_type": "code",
    "deepnote_to_be_reexecuted": false,
    "execution_millis": 79,
    "execution_start": 1654513837931,
    "source_hash": "4ee98871",
    "tags": []
   },
   "outputs": [
    {
     "data": {
      "application/vnd.deepnote.dataframe.v3+json": {
       "column_count": 14,
       "columns": [
        {
         "dtype": "int64",
         "name": "sustainable_nuclear",
         "stats": {
          "histogram": [
           {
            "bin_end": -0.4,
            "bin_start": -0.5,
            "count": 0
           },
           {
            "bin_end": -0.3,
            "bin_start": -0.4,
            "count": 0
           },
           {
            "bin_end": -0.19999999999999996,
            "bin_start": -0.3,
            "count": 0
           },
           {
            "bin_end": -0.09999999999999998,
            "bin_start": -0.19999999999999996,
            "count": 0
           },
           {
            "bin_end": 0,
            "bin_start": -0.09999999999999998,
            "count": 0
           },
           {
            "bin_end": 0.10000000000000009,
            "bin_start": 0,
            "count": 5
           },
           {
            "bin_end": 0.20000000000000007,
            "bin_start": 0.10000000000000009,
            "count": 0
           },
           {
            "bin_end": 0.30000000000000004,
            "bin_start": 0.20000000000000007,
            "count": 0
           },
           {
            "bin_end": 0.4,
            "bin_start": 0.30000000000000004,
            "count": 0
           },
           {
            "bin_end": 0.5,
            "bin_start": 0.4,
            "count": 0
           }
          ],
          "max": "0",
          "min": "0",
          "nan_count": 0,
          "unique_count": 1
         }
        },
        {
         "dtype": "int64",
         "name": "eu_taxonomy_green_deal",
         "stats": {
          "histogram": [
           {
            "bin_end": 0.1,
            "bin_start": 0,
            "count": 4
           },
           {
            "bin_end": 0.2,
            "bin_start": 0.1,
            "count": 0
           },
           {
            "bin_end": 0.30000000000000004,
            "bin_start": 0.2,
            "count": 0
           },
           {
            "bin_end": 0.4,
            "bin_start": 0.30000000000000004,
            "count": 0
           },
           {
            "bin_end": 0.5,
            "bin_start": 0.4,
            "count": 0
           },
           {
            "bin_end": 0.6000000000000001,
            "bin_start": 0.5,
            "count": 0
           },
           {
            "bin_end": 0.7000000000000001,
            "bin_start": 0.6000000000000001,
            "count": 0
           },
           {
            "bin_end": 0.8,
            "bin_start": 0.7000000000000001,
            "count": 0
           },
           {
            "bin_end": 0.9,
            "bin_start": 0.8,
            "count": 0
           },
           {
            "bin_end": 1,
            "bin_start": 0.9,
            "count": 1
           }
          ],
          "max": "1",
          "min": "0",
          "nan_count": 0,
          "unique_count": 2
         }
        },
        {
         "dtype": "int64",
         "name": "energy_transition",
         "stats": {
          "histogram": [
           {
            "bin_end": 0.1,
            "bin_start": 0,
            "count": 4
           },
           {
            "bin_end": 0.2,
            "bin_start": 0.1,
            "count": 0
           },
           {
            "bin_end": 0.30000000000000004,
            "bin_start": 0.2,
            "count": 0
           },
           {
            "bin_end": 0.4,
            "bin_start": 0.30000000000000004,
            "count": 0
           },
           {
            "bin_end": 0.5,
            "bin_start": 0.4,
            "count": 0
           },
           {
            "bin_end": 0.6000000000000001,
            "bin_start": 0.5,
            "count": 0
           },
           {
            "bin_end": 0.7000000000000001,
            "bin_start": 0.6000000000000001,
            "count": 0
           },
           {
            "bin_end": 0.8,
            "bin_start": 0.7000000000000001,
            "count": 0
           },
           {
            "bin_end": 0.9,
            "bin_start": 0.8,
            "count": 0
           },
           {
            "bin_end": 1,
            "bin_start": 0.9,
            "count": 1
           }
          ],
          "max": "1",
          "min": "0",
          "nan_count": 0,
          "unique_count": 2
         }
        },
        {
         "dtype": "int64",
         "name": "finance_energy_crisis",
         "stats": {
          "histogram": [
           {
            "bin_end": -0.4,
            "bin_start": -0.5,
            "count": 0
           },
           {
            "bin_end": -0.3,
            "bin_start": -0.4,
            "count": 0
           },
           {
            "bin_end": -0.19999999999999996,
            "bin_start": -0.3,
            "count": 0
           },
           {
            "bin_end": -0.09999999999999998,
            "bin_start": -0.19999999999999996,
            "count": 0
           },
           {
            "bin_end": 0,
            "bin_start": -0.09999999999999998,
            "count": 0
           },
           {
            "bin_end": 0.10000000000000009,
            "bin_start": 0,
            "count": 5
           },
           {
            "bin_end": 0.20000000000000007,
            "bin_start": 0.10000000000000009,
            "count": 0
           },
           {
            "bin_end": 0.30000000000000004,
            "bin_start": 0.20000000000000007,
            "count": 0
           },
           {
            "bin_end": 0.4,
            "bin_start": 0.30000000000000004,
            "count": 0
           },
           {
            "bin_end": 0.5,
            "bin_start": 0.4,
            "count": 0
           }
          ],
          "max": "0",
          "min": "0",
          "nan_count": 0,
          "unique_count": 1
         }
        },
        {
         "dtype": "int64",
         "name": "greenwashing",
         "stats": {
          "histogram": [
           {
            "bin_end": -0.4,
            "bin_start": -0.5,
            "count": 0
           },
           {
            "bin_end": -0.3,
            "bin_start": -0.4,
            "count": 0
           },
           {
            "bin_end": -0.19999999999999996,
            "bin_start": -0.3,
            "count": 0
           },
           {
            "bin_end": -0.09999999999999998,
            "bin_start": -0.19999999999999996,
            "count": 0
           },
           {
            "bin_end": 0,
            "bin_start": -0.09999999999999998,
            "count": 0
           },
           {
            "bin_end": 0.10000000000000009,
            "bin_start": 0,
            "count": 5
           },
           {
            "bin_end": 0.20000000000000007,
            "bin_start": 0.10000000000000009,
            "count": 0
           },
           {
            "bin_end": 0.30000000000000004,
            "bin_start": 0.20000000000000007,
            "count": 0
           },
           {
            "bin_end": 0.4,
            "bin_start": 0.30000000000000004,
            "count": 0
           },
           {
            "bin_end": 0.5,
            "bin_start": 0.4,
            "count": 0
           }
          ],
          "max": "0",
          "min": "0",
          "nan_count": 0,
          "unique_count": 1
         }
        },
        {
         "dtype": "int64",
         "name": "eu_entities",
         "stats": {
          "histogram": [
           {
            "bin_end": 0.1,
            "bin_start": 0,
            "count": 1
           },
           {
            "bin_end": 0.2,
            "bin_start": 0.1,
            "count": 0
           },
           {
            "bin_end": 0.30000000000000004,
            "bin_start": 0.2,
            "count": 0
           },
           {
            "bin_end": 0.4,
            "bin_start": 0.30000000000000004,
            "count": 0
           },
           {
            "bin_end": 0.5,
            "bin_start": 0.4,
            "count": 0
           },
           {
            "bin_end": 0.6000000000000001,
            "bin_start": 0.5,
            "count": 0
           },
           {
            "bin_end": 0.7000000000000001,
            "bin_start": 0.6000000000000001,
            "count": 0
           },
           {
            "bin_end": 0.8,
            "bin_start": 0.7000000000000001,
            "count": 0
           },
           {
            "bin_end": 0.9,
            "bin_start": 0.8,
            "count": 0
           },
           {
            "bin_end": 1,
            "bin_start": 0.9,
            "count": 4
           }
          ],
          "max": "1",
          "min": "0",
          "nan_count": 0,
          "unique_count": 2
         }
        },
        {
         "dtype": "int64",
         "name": "nuclear_risks_regulations",
         "stats": {
          "histogram": [
           {
            "bin_end": -0.4,
            "bin_start": -0.5,
            "count": 0
           },
           {
            "bin_end": -0.3,
            "bin_start": -0.4,
            "count": 0
           },
           {
            "bin_end": -0.19999999999999996,
            "bin_start": -0.3,
            "count": 0
           },
           {
            "bin_end": -0.09999999999999998,
            "bin_start": -0.19999999999999996,
            "count": 0
           },
           {
            "bin_end": 0,
            "bin_start": -0.09999999999999998,
            "count": 0
           },
           {
            "bin_end": 0.10000000000000009,
            "bin_start": 0,
            "count": 5
           },
           {
            "bin_end": 0.20000000000000007,
            "bin_start": 0.10000000000000009,
            "count": 0
           },
           {
            "bin_end": 0.30000000000000004,
            "bin_start": 0.20000000000000007,
            "count": 0
           },
           {
            "bin_end": 0.4,
            "bin_start": 0.30000000000000004,
            "count": 0
           },
           {
            "bin_end": 0.5,
            "bin_start": 0.4,
            "count": 0
           }
          ],
          "max": "0",
          "min": "0",
          "nan_count": 0,
          "unique_count": 1
         }
        },
        {
         "dtype": "int64",
         "name": "ukraine_russia",
         "stats": {
          "histogram": [
           {
            "bin_end": 0.1,
            "bin_start": 0,
            "count": 4
           },
           {
            "bin_end": 0.2,
            "bin_start": 0.1,
            "count": 0
           },
           {
            "bin_end": 0.30000000000000004,
            "bin_start": 0.2,
            "count": 0
           },
           {
            "bin_end": 0.4,
            "bin_start": 0.30000000000000004,
            "count": 0
           },
           {
            "bin_end": 0.5,
            "bin_start": 0.4,
            "count": 0
           },
           {
            "bin_end": 0.6000000000000001,
            "bin_start": 0.5,
            "count": 0
           },
           {
            "bin_end": 0.7000000000000001,
            "bin_start": 0.6000000000000001,
            "count": 0
           },
           {
            "bin_end": 0.8,
            "bin_start": 0.7000000000000001,
            "count": 0
           },
           {
            "bin_end": 0.9,
            "bin_start": 0.8,
            "count": 0
           },
           {
            "bin_end": 1,
            "bin_start": 0.9,
            "count": 1
           }
          ],
          "max": "1",
          "min": "0",
          "nan_count": 0,
          "unique_count": 2
         }
        },
        {
         "dtype": "int64",
         "name": "investment_and_industry",
         "stats": {
          "histogram": [
           {
            "bin_end": -0.4,
            "bin_start": -0.5,
            "count": 0
           },
           {
            "bin_end": -0.3,
            "bin_start": -0.4,
            "count": 0
           },
           {
            "bin_end": -0.19999999999999996,
            "bin_start": -0.3,
            "count": 0
           },
           {
            "bin_end": -0.09999999999999998,
            "bin_start": -0.19999999999999996,
            "count": 0
           },
           {
            "bin_end": 0,
            "bin_start": -0.09999999999999998,
            "count": 0
           },
           {
            "bin_end": 0.10000000000000009,
            "bin_start": 0,
            "count": 5
           },
           {
            "bin_end": 0.20000000000000007,
            "bin_start": 0.10000000000000009,
            "count": 0
           },
           {
            "bin_end": 0.30000000000000004,
            "bin_start": 0.20000000000000007,
            "count": 0
           },
           {
            "bin_end": 0.4,
            "bin_start": 0.30000000000000004,
            "count": 0
           },
           {
            "bin_end": 0.5,
            "bin_start": 0.4,
            "count": 0
           }
          ],
          "max": "0",
          "min": "0",
          "nan_count": 0,
          "unique_count": 1
         }
        },
        {
         "dtype": "int64",
         "name": "expert_opinion",
         "stats": {
          "histogram": [
           {
            "bin_end": -0.4,
            "bin_start": -0.5,
            "count": 0
           },
           {
            "bin_end": -0.3,
            "bin_start": -0.4,
            "count": 0
           },
           {
            "bin_end": -0.19999999999999996,
            "bin_start": -0.3,
            "count": 0
           },
           {
            "bin_end": -0.09999999999999998,
            "bin_start": -0.19999999999999996,
            "count": 0
           },
           {
            "bin_end": 0,
            "bin_start": -0.09999999999999998,
            "count": 0
           },
           {
            "bin_end": 0.10000000000000009,
            "bin_start": 0,
            "count": 5
           },
           {
            "bin_end": 0.20000000000000007,
            "bin_start": 0.10000000000000009,
            "count": 0
           },
           {
            "bin_end": 0.30000000000000004,
            "bin_start": 0.20000000000000007,
            "count": 0
           },
           {
            "bin_end": 0.4,
            "bin_start": 0.30000000000000004,
            "count": 0
           },
           {
            "bin_end": 0.5,
            "bin_start": 0.4,
            "count": 0
           }
          ],
          "max": "0",
          "min": "0",
          "nan_count": 0,
          "unique_count": 1
         }
        },
        {
         "dtype": "int64",
         "name": "activism_calls_to_action",
         "stats": {
          "histogram": [
           {
            "bin_end": -0.4,
            "bin_start": -0.5,
            "count": 0
           },
           {
            "bin_end": -0.3,
            "bin_start": -0.4,
            "count": 0
           },
           {
            "bin_end": -0.19999999999999996,
            "bin_start": -0.3,
            "count": 0
           },
           {
            "bin_end": -0.09999999999999998,
            "bin_start": -0.19999999999999996,
            "count": 0
           },
           {
            "bin_end": 0,
            "bin_start": -0.09999999999999998,
            "count": 0
           },
           {
            "bin_end": 0.10000000000000009,
            "bin_start": 0,
            "count": 5
           },
           {
            "bin_end": 0.20000000000000007,
            "bin_start": 0.10000000000000009,
            "count": 0
           },
           {
            "bin_end": 0.30000000000000004,
            "bin_start": 0.20000000000000007,
            "count": 0
           },
           {
            "bin_end": 0.4,
            "bin_start": 0.30000000000000004,
            "count": 0
           },
           {
            "bin_end": 0.5,
            "bin_start": 0.4,
            "count": 0
           }
          ],
          "max": "0",
          "min": "0",
          "nan_count": 0,
          "unique_count": 1
         }
        },
        {
         "dtype": "int64",
         "name": "other_energy_sources",
         "stats": {
          "histogram": [
           {
            "bin_end": -0.4,
            "bin_start": -0.5,
            "count": 0
           },
           {
            "bin_end": -0.3,
            "bin_start": -0.4,
            "count": 0
           },
           {
            "bin_end": -0.19999999999999996,
            "bin_start": -0.3,
            "count": 0
           },
           {
            "bin_end": -0.09999999999999998,
            "bin_start": -0.19999999999999996,
            "count": 0
           },
           {
            "bin_end": 0,
            "bin_start": -0.09999999999999998,
            "count": 0
           },
           {
            "bin_end": 0.10000000000000009,
            "bin_start": 0,
            "count": 5
           },
           {
            "bin_end": 0.20000000000000007,
            "bin_start": 0.10000000000000009,
            "count": 0
           },
           {
            "bin_end": 0.30000000000000004,
            "bin_start": 0.20000000000000007,
            "count": 0
           },
           {
            "bin_end": 0.4,
            "bin_start": 0.30000000000000004,
            "count": 0
           },
           {
            "bin_end": 0.5,
            "bin_start": 0.4,
            "count": 0
           }
          ],
          "max": "0",
          "min": "0",
          "nan_count": 0,
          "unique_count": 1
         }
        },
        {
         "dtype": "int64",
         "name": "member_states",
         "stats": {
          "histogram": [
           {
            "bin_end": 0.1,
            "bin_start": 0,
            "count": 3
           },
           {
            "bin_end": 0.2,
            "bin_start": 0.1,
            "count": 0
           },
           {
            "bin_end": 0.30000000000000004,
            "bin_start": 0.2,
            "count": 0
           },
           {
            "bin_end": 0.4,
            "bin_start": 0.30000000000000004,
            "count": 0
           },
           {
            "bin_end": 0.5,
            "bin_start": 0.4,
            "count": 0
           },
           {
            "bin_end": 0.6000000000000001,
            "bin_start": 0.5,
            "count": 0
           },
           {
            "bin_end": 0.7000000000000001,
            "bin_start": 0.6000000000000001,
            "count": 0
           },
           {
            "bin_end": 0.8,
            "bin_start": 0.7000000000000001,
            "count": 0
           },
           {
            "bin_end": 0.9,
            "bin_start": 0.8,
            "count": 0
           },
           {
            "bin_end": 1,
            "bin_start": 0.9,
            "count": 2
           }
          ],
          "max": "1",
          "min": "0",
          "nan_count": 0,
          "unique_count": 2
         }
        },
        {
         "dtype": "int64",
         "name": "irrelevant",
         "stats": {
          "histogram": [
           {
            "bin_end": 0.1,
            "bin_start": 0,
            "count": 4
           },
           {
            "bin_end": 0.2,
            "bin_start": 0.1,
            "count": 0
           },
           {
            "bin_end": 0.30000000000000004,
            "bin_start": 0.2,
            "count": 0
           },
           {
            "bin_end": 0.4,
            "bin_start": 0.30000000000000004,
            "count": 0
           },
           {
            "bin_end": 0.5,
            "bin_start": 0.4,
            "count": 0
           },
           {
            "bin_end": 0.6000000000000001,
            "bin_start": 0.5,
            "count": 0
           },
           {
            "bin_end": 0.7000000000000001,
            "bin_start": 0.6000000000000001,
            "count": 0
           },
           {
            "bin_end": 0.8,
            "bin_start": 0.7000000000000001,
            "count": 0
           },
           {
            "bin_end": 0.9,
            "bin_start": 0.8,
            "count": 0
           },
           {
            "bin_end": 1,
            "bin_start": 0.9,
            "count": 1
           }
          ],
          "max": "1",
          "min": "0",
          "nan_count": 0,
          "unique_count": 2
         }
        },
        {
         "dtype": "int64",
         "name": "_deepnote_index_column"
        }
       ],
       "row_count": 5,
       "rows": [
        {
         "_deepnote_index_column": 0,
         "activism_calls_to_action": 0,
         "energy_transition": 1,
         "eu_entities": 0,
         "eu_taxonomy_green_deal": 0,
         "expert_opinion": 0,
         "finance_energy_crisis": 0,
         "greenwashing": 0,
         "investment_and_industry": 0,
         "irrelevant": 0,
         "member_states": 0,
         "nuclear_risks_regulations": 0,
         "other_energy_sources": 0,
         "sustainable_nuclear": 0,
         "ukraine_russia": 0
        },
        {
         "_deepnote_index_column": 1,
         "activism_calls_to_action": 0,
         "energy_transition": 0,
         "eu_entities": 1,
         "eu_taxonomy_green_deal": 0,
         "expert_opinion": 0,
         "finance_energy_crisis": 0,
         "greenwashing": 0,
         "investment_and_industry": 0,
         "irrelevant": 0,
         "member_states": 1,
         "nuclear_risks_regulations": 0,
         "other_energy_sources": 0,
         "sustainable_nuclear": 0,
         "ukraine_russia": 0
        },
        {
         "_deepnote_index_column": 2,
         "activism_calls_to_action": 0,
         "energy_transition": 0,
         "eu_entities": 1,
         "eu_taxonomy_green_deal": 0,
         "expert_opinion": 0,
         "finance_energy_crisis": 0,
         "greenwashing": 0,
         "investment_and_industry": 0,
         "irrelevant": 0,
         "member_states": 0,
         "nuclear_risks_regulations": 0,
         "other_energy_sources": 0,
         "sustainable_nuclear": 0,
         "ukraine_russia": 1
        },
        {
         "_deepnote_index_column": 3,
         "activism_calls_to_action": 0,
         "energy_transition": 0,
         "eu_entities": 1,
         "eu_taxonomy_green_deal": 1,
         "expert_opinion": 0,
         "finance_energy_crisis": 0,
         "greenwashing": 0,
         "investment_and_industry": 0,
         "irrelevant": 0,
         "member_states": 1,
         "nuclear_risks_regulations": 0,
         "other_energy_sources": 0,
         "sustainable_nuclear": 0,
         "ukraine_russia": 0
        },
        {
         "_deepnote_index_column": 4,
         "activism_calls_to_action": 0,
         "energy_transition": 0,
         "eu_entities": 1,
         "eu_taxonomy_green_deal": 0,
         "expert_opinion": 0,
         "finance_energy_crisis": 0,
         "greenwashing": 0,
         "investment_and_industry": 0,
         "irrelevant": 1,
         "member_states": 0,
         "nuclear_risks_regulations": 0,
         "other_energy_sources": 0,
         "sustainable_nuclear": 0,
         "ukraine_russia": 0
        }
       ]
      },
      "text/html": [
       "<div>\n",
       "<style scoped>\n",
       "    .dataframe tbody tr th:only-of-type {\n",
       "        vertical-align: middle;\n",
       "    }\n",
       "\n",
       "    .dataframe tbody tr th {\n",
       "        vertical-align: top;\n",
       "    }\n",
       "\n",
       "    .dataframe thead th {\n",
       "        text-align: right;\n",
       "    }\n",
       "</style>\n",
       "<table border=\"1\" class=\"dataframe\">\n",
       "  <thead>\n",
       "    <tr style=\"text-align: right;\">\n",
       "      <th></th>\n",
       "      <th>sustainable_nuclear</th>\n",
       "      <th>eu_taxonomy_green_deal</th>\n",
       "      <th>energy_transition</th>\n",
       "      <th>finance_energy_crisis</th>\n",
       "      <th>greenwashing</th>\n",
       "      <th>eu_entities</th>\n",
       "      <th>nuclear_risks_regulations</th>\n",
       "      <th>ukraine_russia</th>\n",
       "      <th>investment_and_industry</th>\n",
       "      <th>expert_opinion</th>\n",
       "      <th>activism_calls_to_action</th>\n",
       "      <th>other_energy_sources</th>\n",
       "      <th>member_states</th>\n",
       "      <th>irrelevant</th>\n",
       "    </tr>\n",
       "  </thead>\n",
       "  <tbody>\n",
       "    <tr>\n",
       "      <th>0</th>\n",
       "      <td>0</td>\n",
       "      <td>0</td>\n",
       "      <td>1</td>\n",
       "      <td>0</td>\n",
       "      <td>0</td>\n",
       "      <td>0</td>\n",
       "      <td>0</td>\n",
       "      <td>0</td>\n",
       "      <td>0</td>\n",
       "      <td>0</td>\n",
       "      <td>0</td>\n",
       "      <td>0</td>\n",
       "      <td>0</td>\n",
       "      <td>0</td>\n",
       "    </tr>\n",
       "    <tr>\n",
       "      <th>1</th>\n",
       "      <td>0</td>\n",
       "      <td>0</td>\n",
       "      <td>0</td>\n",
       "      <td>0</td>\n",
       "      <td>0</td>\n",
       "      <td>1</td>\n",
       "      <td>0</td>\n",
       "      <td>0</td>\n",
       "      <td>0</td>\n",
       "      <td>0</td>\n",
       "      <td>0</td>\n",
       "      <td>0</td>\n",
       "      <td>1</td>\n",
       "      <td>0</td>\n",
       "    </tr>\n",
       "    <tr>\n",
       "      <th>2</th>\n",
       "      <td>0</td>\n",
       "      <td>0</td>\n",
       "      <td>0</td>\n",
       "      <td>0</td>\n",
       "      <td>0</td>\n",
       "      <td>1</td>\n",
       "      <td>0</td>\n",
       "      <td>1</td>\n",
       "      <td>0</td>\n",
       "      <td>0</td>\n",
       "      <td>0</td>\n",
       "      <td>0</td>\n",
       "      <td>0</td>\n",
       "      <td>0</td>\n",
       "    </tr>\n",
       "    <tr>\n",
       "      <th>3</th>\n",
       "      <td>0</td>\n",
       "      <td>1</td>\n",
       "      <td>0</td>\n",
       "      <td>0</td>\n",
       "      <td>0</td>\n",
       "      <td>1</td>\n",
       "      <td>0</td>\n",
       "      <td>0</td>\n",
       "      <td>0</td>\n",
       "      <td>0</td>\n",
       "      <td>0</td>\n",
       "      <td>0</td>\n",
       "      <td>1</td>\n",
       "      <td>0</td>\n",
       "    </tr>\n",
       "    <tr>\n",
       "      <th>4</th>\n",
       "      <td>0</td>\n",
       "      <td>0</td>\n",
       "      <td>0</td>\n",
       "      <td>0</td>\n",
       "      <td>0</td>\n",
       "      <td>1</td>\n",
       "      <td>0</td>\n",
       "      <td>0</td>\n",
       "      <td>0</td>\n",
       "      <td>0</td>\n",
       "      <td>0</td>\n",
       "      <td>0</td>\n",
       "      <td>0</td>\n",
       "      <td>1</td>\n",
       "    </tr>\n",
       "  </tbody>\n",
       "</table>\n",
       "</div>"
      ],
      "text/plain": [
       "   sustainable_nuclear  eu_taxonomy_green_deal  energy_transition  \\\n",
       "0                    0                       0                  1   \n",
       "1                    0                       0                  0   \n",
       "2                    0                       0                  0   \n",
       "3                    0                       1                  0   \n",
       "4                    0                       0                  0   \n",
       "\n",
       "   finance_energy_crisis  greenwashing  eu_entities  \\\n",
       "0                      0             0            0   \n",
       "1                      0             0            1   \n",
       "2                      0             0            1   \n",
       "3                      0             0            1   \n",
       "4                      0             0            1   \n",
       "\n",
       "   nuclear_risks_regulations  ukraine_russia  investment_and_industry  \\\n",
       "0                          0               0                        0   \n",
       "1                          0               0                        0   \n",
       "2                          0               1                        0   \n",
       "3                          0               0                        0   \n",
       "4                          0               0                        0   \n",
       "\n",
       "   expert_opinion  activism_calls_to_action  other_energy_sources  \\\n",
       "0               0                         0                     0   \n",
       "1               0                         0                     0   \n",
       "2               0                         0                     0   \n",
       "3               0                         0                     0   \n",
       "4               0                         0                     0   \n",
       "\n",
       "   member_states  irrelevant  \n",
       "0              0           0  \n",
       "1              1           0  \n",
       "2              0           0  \n",
       "3              1           0  \n",
       "4              0           1  "
      ]
     },
     "execution_count": 34,
     "metadata": {},
     "output_type": "execute_result"
    }
   ],
   "source": [
    "df_categorized.head()"
   ]
  },
  {
   "cell_type": "code",
   "execution_count": null,
   "metadata": {
    "cell_id": "35820194d38f4c37b8dca914f3cf75db",
    "deepnote_cell_height": 135,
    "deepnote_cell_type": "code",
    "deepnote_to_be_reexecuted": false,
    "execution_millis": 13,
    "execution_start": 1654513839505,
    "source_hash": "c03ab005",
    "tags": []
   },
   "outputs": [],
   "source": [
    "# Add column with tweets that haven't been classified\n",
    "df_categorized['unclassified'] = 0\n",
    "\n",
    "df_categorized.loc[df_categorized.sum(axis = 1, numeric_only = True) == 0, ['unclassified']] = 1"
   ]
  },
  {
   "cell_type": "code",
   "execution_count": null,
   "metadata": {
    "cell_id": "e5d6f6a7e7f442a2bbf22873dc2d5810",
    "deepnote_cell_height": 118.1875,
    "deepnote_cell_type": "code",
    "deepnote_to_be_reexecuted": false,
    "execution_millis": 14,
    "execution_start": 1654513839525,
    "source_hash": "877fe080",
    "tags": []
   },
   "outputs": [
    {
     "data": {
      "text/plain": [
       "7938"
      ]
     },
     "execution_count": 36,
     "metadata": {},
     "output_type": "execute_result"
    }
   ],
   "source": [
    "len(df_categorized)"
   ]
  },
  {
   "cell_type": "code",
   "execution_count": null,
   "metadata": {
    "cell_id": "a551d02ca829467faca4d7d5c57107b3",
    "deepnote_cell_height": 449,
    "deepnote_cell_type": "code",
    "deepnote_to_be_reexecuted": false,
    "execution_millis": 165,
    "execution_start": 1654513840866,
    "source_hash": "c847265e",
    "tags": []
   },
   "outputs": [
    {
     "data": {
      "application/vnd.deepnote.dataframe.v3+json": {
       "column_count": 27,
       "columns": [
        {
         "dtype": "int64",
         "name": "user.id",
         "stats": {
          "histogram": [
           {
            "bin_end": 96282061747836200,
            "bin_start": 1498076587,
            "count": 3
           },
           {
            "bin_end": 192564121997595780,
            "bin_start": 96282061747836200,
            "count": 0
           },
           {
            "bin_end": 288846182247355400,
            "bin_start": 192564121997595780,
            "count": 0
           },
           {
            "bin_end": 385128242497115000,
            "bin_start": 288846182247355400,
            "count": 0
           },
           {
            "bin_end": 481410302746874600,
            "bin_start": 385128242497115000,
            "count": 0
           },
           {
            "bin_end": 577692362996634100,
            "bin_start": 481410302746874600,
            "count": 0
           },
           {
            "bin_end": 673974423246393700,
            "bin_start": 577692362996634100,
            "count": 0
           },
           {
            "bin_end": 770256483496153300,
            "bin_start": 673974423246393700,
            "count": 0
           },
           {
            "bin_end": 866538543745913000,
            "bin_start": 770256483496153300,
            "count": 0
           },
           {
            "bin_end": 962820603995672600,
            "bin_start": 866538543745913000,
            "count": 2
           }
          ],
          "max": "962820603995672577",
          "min": "1498076587",
          "nan_count": 0,
          "unique_count": 3
         }
        },
        {
         "dtype": "object",
         "name": "user.name",
         "stats": {
          "categories": [
           {
            "count": 2,
            "name": "Eduard Heger"
           },
           {
            "count": 2,
            "name": "ECR Party"
           },
           {
            "count": 1,
            "name": "ECPM"
           }
          ],
          "nan_count": 0,
          "unique_count": 3
         }
        },
        {
         "dtype": "object",
         "name": "user.screen_name",
         "stats": {
          "categories": [
           {
            "count": 2,
            "name": "eduardheger"
           },
           {
            "count": 2,
            "name": "ECRparty"
           },
           {
            "count": 1,
            "name": "ECPM_official"
           }
          ],
          "nan_count": 0,
          "unique_count": 3
         }
        },
        {
         "dtype": "int64",
         "name": "id",
         "stats": {
          "histogram": [
           {
            "bin_end": 859876184842237600,
            "bin_start": 790917675241369600,
            "count": 1
           },
           {
            "bin_end": 928834694443105500,
            "bin_start": 859876184842237600,
            "count": 0
           },
           {
            "bin_end": 997793204043973400,
            "bin_start": 928834694443105500,
            "count": 0
           },
           {
            "bin_end": 1066751713644841300,
            "bin_start": 997793204043973400,
            "count": 0
           },
           {
            "bin_end": 1135710223245709300,
            "bin_start": 1066751713644841300,
            "count": 0
           },
           {
            "bin_end": 1204668732846577200,
            "bin_start": 1135710223245709300,
            "count": 0
           },
           {
            "bin_end": 1273627242447445200,
            "bin_start": 1204668732846577200,
            "count": 2
           },
           {
            "bin_end": 1342585752048313000,
            "bin_start": 1273627242447445200,
            "count": 0
           },
           {
            "bin_end": 1411544261649181200,
            "bin_start": 1342585752048313000,
            "count": 0
           },
           {
            "bin_end": 1480502771250049000,
            "bin_start": 1411544261649181200,
            "count": 2
           }
          ],
          "max": "1480502771250049028",
          "min": "790917675241369600",
          "nan_count": 0,
          "unique_count": 5
         }
        },
        {
         "dtype": "datetime64[ns, UTC]",
         "name": "created_at",
         "stats": {
          "histogram": [
           {
            "bin_end": 1493845431900000000,
            "bin_start": 1477404442000000000,
            "count": 1
           },
           {
            "bin_end": 1510286421800000000,
            "bin_start": 1493845431900000000,
            "count": 0
           },
           {
            "bin_end": 1526727411700000000,
            "bin_start": 1510286421800000000,
            "count": 0
           },
           {
            "bin_end": 1543168401600000000,
            "bin_start": 1526727411700000000,
            "count": 0
           },
           {
            "bin_end": 1559609391500000000,
            "bin_start": 1543168401600000000,
            "count": 0
           },
           {
            "bin_end": 1576050381400000000,
            "bin_start": 1559609391500000000,
            "count": 0
           },
           {
            "bin_end": 1592491371300000000,
            "bin_start": 1576050381400000000,
            "count": 2
           },
           {
            "bin_end": 1608932361200000000,
            "bin_start": 1592491371300000000,
            "count": 0
           },
           {
            "bin_end": 1625373351100000000,
            "bin_start": 1608932361200000000,
            "count": 0
           },
           {
            "bin_end": 1641814341000000000,
            "bin_start": 1625373351100000000,
            "count": 2
           }
          ],
          "max": "2022-01-10 11:32:21+00:00",
          "min": "2016-10-25 14:07:22+00:00",
          "nan_count": 0,
          "unique_count": 5
         }
        },
        {
         "dtype": "int64",
         "name": "favorite_count",
         "stats": {
          "histogram": [
           {
            "bin_end": 6,
            "bin_start": 0,
            "count": 3
           },
           {
            "bin_end": 12,
            "bin_start": 6,
            "count": 0
           },
           {
            "bin_end": 18,
            "bin_start": 12,
            "count": 0
           },
           {
            "bin_end": 24,
            "bin_start": 18,
            "count": 1
           },
           {
            "bin_end": 30,
            "bin_start": 24,
            "count": 0
           },
           {
            "bin_end": 36,
            "bin_start": 30,
            "count": 0
           },
           {
            "bin_end": 42,
            "bin_start": 36,
            "count": 0
           },
           {
            "bin_end": 48,
            "bin_start": 42,
            "count": 0
           },
           {
            "bin_end": 54,
            "bin_start": 48,
            "count": 0
           },
           {
            "bin_end": 60,
            "bin_start": 54,
            "count": 1
           }
          ],
          "max": "60",
          "min": "0",
          "nan_count": 0,
          "unique_count": 4
         }
        },
        {
         "dtype": "int64",
         "name": "retweet_count",
         "stats": {
          "histogram": [
           {
            "bin_end": 1.8,
            "bin_start": 0,
            "count": 2
           },
           {
            "bin_end": 3.6,
            "bin_start": 1.8,
            "count": 1
           },
           {
            "bin_end": 5.4,
            "bin_start": 3.6,
            "count": 0
           },
           {
            "bin_end": 7.2,
            "bin_start": 5.4,
            "count": 0
           },
           {
            "bin_end": 9,
            "bin_start": 7.2,
            "count": 1
           },
           {
            "bin_end": 10.8,
            "bin_start": 9,
            "count": 0
           },
           {
            "bin_end": 12.6,
            "bin_start": 10.8,
            "count": 0
           },
           {
            "bin_end": 14.4,
            "bin_start": 12.6,
            "count": 0
           },
           {
            "bin_end": 16.2,
            "bin_start": 14.4,
            "count": 0
           },
           {
            "bin_end": 18,
            "bin_start": 16.2,
            "count": 1
           }
          ],
          "max": "18",
          "min": "0",
          "nan_count": 0,
          "unique_count": 4
         }
        },
        {
         "dtype": "object",
         "name": "text",
         "stats": {
          "categories": [
           {
            "count": 1,
            "name": "Congratulations to @MinPres Rutte &amp; his 4th government in a row. 🇸🇰 &amp; 🇳🇱 are fervent #EU partners &amp; allies within @NATO. There're many areas to be explored for a mutually enriching cooperation like #GreenTransition incl. #nuclear, post #COVID19 recovery or #democracy &amp; #values.🤝"
           },
           {
            "count": 1,
            "name": "Ahead of the V4-France Summit I talked to @EmmanuelMacron on how to move forward w/ #EU agenda. Looking forward to cooperate w/ 🇨🇵 during @Europe2022FR on democracy incl. #ProtectionOfJournalists, EU framework on #AntiMoneyLaundering &amp; #nuclear = our 🇪🇺 priorities. https://t.co/7fKz22YraC"
           },
           {
            "count": 3,
            "name": "3 others"
           }
          ],
          "nan_count": 0,
          "unique_count": 5
         }
        },
        {
         "dtype": "object",
         "name": "mentions",
         "stats": {
          "categories": [
           {
            "count": 1,
            "name": "['MinPres', 'NATO']"
           },
           {
            "count": 1,
            "name": "['EmmanuelMacron', 'Europe2022FR']"
           },
           {
            "count": 3,
            "name": "3 others"
           }
          ],
          "nan_count": 0,
          "unique_count": 5
         }
        },
        {
         "dtype": "object",
         "name": "retweeted",
         "stats": {
          "categories": [
           {
            "count": 5,
            "name": "Missing"
           }
          ],
          "nan_count": 5,
          "unique_count": 0
         }
        },
        {
         "dtype": "object",
         "name": "category",
         "stats": {
          "categories": [
           {
            "count": 3,
            "name": "europarties"
           },
           {
            "count": 2,
            "name": "prime_ministers"
           }
          ],
          "nan_count": 0,
          "unique_count": 2
         }
        },
        {
         "dtype": "object",
         "name": "collapsed_category",
         "stats": {
          "categories": [
           {
            "count": 3,
            "name": "meps & europarties"
           },
           {
            "count": 2,
            "name": "politicians"
           }
          ],
          "nan_count": 0,
          "unique_count": 2
         }
        },
        {
         "dtype": "int64",
         "name": "sustainable_nuclear",
         "stats": {
          "histogram": [
           {
            "bin_end": -0.4,
            "bin_start": -0.5,
            "count": 0
           },
           {
            "bin_end": -0.3,
            "bin_start": -0.4,
            "count": 0
           },
           {
            "bin_end": -0.19999999999999996,
            "bin_start": -0.3,
            "count": 0
           },
           {
            "bin_end": -0.09999999999999998,
            "bin_start": -0.19999999999999996,
            "count": 0
           },
           {
            "bin_end": 0,
            "bin_start": -0.09999999999999998,
            "count": 0
           },
           {
            "bin_end": 0.10000000000000009,
            "bin_start": 0,
            "count": 5
           },
           {
            "bin_end": 0.20000000000000007,
            "bin_start": 0.10000000000000009,
            "count": 0
           },
           {
            "bin_end": 0.30000000000000004,
            "bin_start": 0.20000000000000007,
            "count": 0
           },
           {
            "bin_end": 0.4,
            "bin_start": 0.30000000000000004,
            "count": 0
           },
           {
            "bin_end": 0.5,
            "bin_start": 0.4,
            "count": 0
           }
          ],
          "max": "0",
          "min": "0",
          "nan_count": 0,
          "unique_count": 1
         }
        },
        {
         "dtype": "int64",
         "name": "eu_taxonomy_green_deal",
         "stats": {
          "histogram": [
           {
            "bin_end": 0.1,
            "bin_start": 0,
            "count": 4
           },
           {
            "bin_end": 0.2,
            "bin_start": 0.1,
            "count": 0
           },
           {
            "bin_end": 0.30000000000000004,
            "bin_start": 0.2,
            "count": 0
           },
           {
            "bin_end": 0.4,
            "bin_start": 0.30000000000000004,
            "count": 0
           },
           {
            "bin_end": 0.5,
            "bin_start": 0.4,
            "count": 0
           },
           {
            "bin_end": 0.6000000000000001,
            "bin_start": 0.5,
            "count": 0
           },
           {
            "bin_end": 0.7000000000000001,
            "bin_start": 0.6000000000000001,
            "count": 0
           },
           {
            "bin_end": 0.8,
            "bin_start": 0.7000000000000001,
            "count": 0
           },
           {
            "bin_end": 0.9,
            "bin_start": 0.8,
            "count": 0
           },
           {
            "bin_end": 1,
            "bin_start": 0.9,
            "count": 1
           }
          ],
          "max": "1",
          "min": "0",
          "nan_count": 0,
          "unique_count": 2
         }
        },
        {
         "dtype": "int64",
         "name": "energy_transition",
         "stats": {
          "histogram": [
           {
            "bin_end": 0.1,
            "bin_start": 0,
            "count": 4
           },
           {
            "bin_end": 0.2,
            "bin_start": 0.1,
            "count": 0
           },
           {
            "bin_end": 0.30000000000000004,
            "bin_start": 0.2,
            "count": 0
           },
           {
            "bin_end": 0.4,
            "bin_start": 0.30000000000000004,
            "count": 0
           },
           {
            "bin_end": 0.5,
            "bin_start": 0.4,
            "count": 0
           },
           {
            "bin_end": 0.6000000000000001,
            "bin_start": 0.5,
            "count": 0
           },
           {
            "bin_end": 0.7000000000000001,
            "bin_start": 0.6000000000000001,
            "count": 0
           },
           {
            "bin_end": 0.8,
            "bin_start": 0.7000000000000001,
            "count": 0
           },
           {
            "bin_end": 0.9,
            "bin_start": 0.8,
            "count": 0
           },
           {
            "bin_end": 1,
            "bin_start": 0.9,
            "count": 1
           }
          ],
          "max": "1",
          "min": "0",
          "nan_count": 0,
          "unique_count": 2
         }
        },
        {
         "dtype": "int64",
         "name": "finance_energy_crisis",
         "stats": {
          "histogram": [
           {
            "bin_end": -0.4,
            "bin_start": -0.5,
            "count": 0
           },
           {
            "bin_end": -0.3,
            "bin_start": -0.4,
            "count": 0
           },
           {
            "bin_end": -0.19999999999999996,
            "bin_start": -0.3,
            "count": 0
           },
           {
            "bin_end": -0.09999999999999998,
            "bin_start": -0.19999999999999996,
            "count": 0
           },
           {
            "bin_end": 0,
            "bin_start": -0.09999999999999998,
            "count": 0
           },
           {
            "bin_end": 0.10000000000000009,
            "bin_start": 0,
            "count": 5
           },
           {
            "bin_end": 0.20000000000000007,
            "bin_start": 0.10000000000000009,
            "count": 0
           },
           {
            "bin_end": 0.30000000000000004,
            "bin_start": 0.20000000000000007,
            "count": 0
           },
           {
            "bin_end": 0.4,
            "bin_start": 0.30000000000000004,
            "count": 0
           },
           {
            "bin_end": 0.5,
            "bin_start": 0.4,
            "count": 0
           }
          ],
          "max": "0",
          "min": "0",
          "nan_count": 0,
          "unique_count": 1
         }
        },
        {
         "dtype": "int64",
         "name": "greenwashing",
         "stats": {
          "histogram": [
           {
            "bin_end": -0.4,
            "bin_start": -0.5,
            "count": 0
           },
           {
            "bin_end": -0.3,
            "bin_start": -0.4,
            "count": 0
           },
           {
            "bin_end": -0.19999999999999996,
            "bin_start": -0.3,
            "count": 0
           },
           {
            "bin_end": -0.09999999999999998,
            "bin_start": -0.19999999999999996,
            "count": 0
           },
           {
            "bin_end": 0,
            "bin_start": -0.09999999999999998,
            "count": 0
           },
           {
            "bin_end": 0.10000000000000009,
            "bin_start": 0,
            "count": 5
           },
           {
            "bin_end": 0.20000000000000007,
            "bin_start": 0.10000000000000009,
            "count": 0
           },
           {
            "bin_end": 0.30000000000000004,
            "bin_start": 0.20000000000000007,
            "count": 0
           },
           {
            "bin_end": 0.4,
            "bin_start": 0.30000000000000004,
            "count": 0
           },
           {
            "bin_end": 0.5,
            "bin_start": 0.4,
            "count": 0
           }
          ],
          "max": "0",
          "min": "0",
          "nan_count": 0,
          "unique_count": 1
         }
        },
        {
         "dtype": "int64",
         "name": "eu_entities",
         "stats": {
          "histogram": [
           {
            "bin_end": 0.1,
            "bin_start": 0,
            "count": 1
           },
           {
            "bin_end": 0.2,
            "bin_start": 0.1,
            "count": 0
           },
           {
            "bin_end": 0.30000000000000004,
            "bin_start": 0.2,
            "count": 0
           },
           {
            "bin_end": 0.4,
            "bin_start": 0.30000000000000004,
            "count": 0
           },
           {
            "bin_end": 0.5,
            "bin_start": 0.4,
            "count": 0
           },
           {
            "bin_end": 0.6000000000000001,
            "bin_start": 0.5,
            "count": 0
           },
           {
            "bin_end": 0.7000000000000001,
            "bin_start": 0.6000000000000001,
            "count": 0
           },
           {
            "bin_end": 0.8,
            "bin_start": 0.7000000000000001,
            "count": 0
           },
           {
            "bin_end": 0.9,
            "bin_start": 0.8,
            "count": 0
           },
           {
            "bin_end": 1,
            "bin_start": 0.9,
            "count": 4
           }
          ],
          "max": "1",
          "min": "0",
          "nan_count": 0,
          "unique_count": 2
         }
        },
        {
         "dtype": "int64",
         "name": "nuclear_risks_regulations",
         "stats": {
          "histogram": [
           {
            "bin_end": -0.4,
            "bin_start": -0.5,
            "count": 0
           },
           {
            "bin_end": -0.3,
            "bin_start": -0.4,
            "count": 0
           },
           {
            "bin_end": -0.19999999999999996,
            "bin_start": -0.3,
            "count": 0
           },
           {
            "bin_end": -0.09999999999999998,
            "bin_start": -0.19999999999999996,
            "count": 0
           },
           {
            "bin_end": 0,
            "bin_start": -0.09999999999999998,
            "count": 0
           },
           {
            "bin_end": 0.10000000000000009,
            "bin_start": 0,
            "count": 5
           },
           {
            "bin_end": 0.20000000000000007,
            "bin_start": 0.10000000000000009,
            "count": 0
           },
           {
            "bin_end": 0.30000000000000004,
            "bin_start": 0.20000000000000007,
            "count": 0
           },
           {
            "bin_end": 0.4,
            "bin_start": 0.30000000000000004,
            "count": 0
           },
           {
            "bin_end": 0.5,
            "bin_start": 0.4,
            "count": 0
           }
          ],
          "max": "0",
          "min": "0",
          "nan_count": 0,
          "unique_count": 1
         }
        },
        {
         "dtype": "int64",
         "name": "ukraine_russia",
         "stats": {
          "histogram": [
           {
            "bin_end": 0.1,
            "bin_start": 0,
            "count": 4
           },
           {
            "bin_end": 0.2,
            "bin_start": 0.1,
            "count": 0
           },
           {
            "bin_end": 0.30000000000000004,
            "bin_start": 0.2,
            "count": 0
           },
           {
            "bin_end": 0.4,
            "bin_start": 0.30000000000000004,
            "count": 0
           },
           {
            "bin_end": 0.5,
            "bin_start": 0.4,
            "count": 0
           },
           {
            "bin_end": 0.6000000000000001,
            "bin_start": 0.5,
            "count": 0
           },
           {
            "bin_end": 0.7000000000000001,
            "bin_start": 0.6000000000000001,
            "count": 0
           },
           {
            "bin_end": 0.8,
            "bin_start": 0.7000000000000001,
            "count": 0
           },
           {
            "bin_end": 0.9,
            "bin_start": 0.8,
            "count": 0
           },
           {
            "bin_end": 1,
            "bin_start": 0.9,
            "count": 1
           }
          ],
          "max": "1",
          "min": "0",
          "nan_count": 0,
          "unique_count": 2
         }
        },
        {
         "dtype": "int64",
         "name": "investment_and_industry",
         "stats": {
          "histogram": [
           {
            "bin_end": -0.4,
            "bin_start": -0.5,
            "count": 0
           },
           {
            "bin_end": -0.3,
            "bin_start": -0.4,
            "count": 0
           },
           {
            "bin_end": -0.19999999999999996,
            "bin_start": -0.3,
            "count": 0
           },
           {
            "bin_end": -0.09999999999999998,
            "bin_start": -0.19999999999999996,
            "count": 0
           },
           {
            "bin_end": 0,
            "bin_start": -0.09999999999999998,
            "count": 0
           },
           {
            "bin_end": 0.10000000000000009,
            "bin_start": 0,
            "count": 5
           },
           {
            "bin_end": 0.20000000000000007,
            "bin_start": 0.10000000000000009,
            "count": 0
           },
           {
            "bin_end": 0.30000000000000004,
            "bin_start": 0.20000000000000007,
            "count": 0
           },
           {
            "bin_end": 0.4,
            "bin_start": 0.30000000000000004,
            "count": 0
           },
           {
            "bin_end": 0.5,
            "bin_start": 0.4,
            "count": 0
           }
          ],
          "max": "0",
          "min": "0",
          "nan_count": 0,
          "unique_count": 1
         }
        },
        {
         "dtype": "int64",
         "name": "expert_opinion",
         "stats": {
          "histogram": [
           {
            "bin_end": -0.4,
            "bin_start": -0.5,
            "count": 0
           },
           {
            "bin_end": -0.3,
            "bin_start": -0.4,
            "count": 0
           },
           {
            "bin_end": -0.19999999999999996,
            "bin_start": -0.3,
            "count": 0
           },
           {
            "bin_end": -0.09999999999999998,
            "bin_start": -0.19999999999999996,
            "count": 0
           },
           {
            "bin_end": 0,
            "bin_start": -0.09999999999999998,
            "count": 0
           },
           {
            "bin_end": 0.10000000000000009,
            "bin_start": 0,
            "count": 5
           },
           {
            "bin_end": 0.20000000000000007,
            "bin_start": 0.10000000000000009,
            "count": 0
           },
           {
            "bin_end": 0.30000000000000004,
            "bin_start": 0.20000000000000007,
            "count": 0
           },
           {
            "bin_end": 0.4,
            "bin_start": 0.30000000000000004,
            "count": 0
           },
           {
            "bin_end": 0.5,
            "bin_start": 0.4,
            "count": 0
           }
          ],
          "max": "0",
          "min": "0",
          "nan_count": 0,
          "unique_count": 1
         }
        },
        {
         "dtype": "int64",
         "name": "activism_calls_to_action",
         "stats": {
          "histogram": [
           {
            "bin_end": -0.4,
            "bin_start": -0.5,
            "count": 0
           },
           {
            "bin_end": -0.3,
            "bin_start": -0.4,
            "count": 0
           },
           {
            "bin_end": -0.19999999999999996,
            "bin_start": -0.3,
            "count": 0
           },
           {
            "bin_end": -0.09999999999999998,
            "bin_start": -0.19999999999999996,
            "count": 0
           },
           {
            "bin_end": 0,
            "bin_start": -0.09999999999999998,
            "count": 0
           },
           {
            "bin_end": 0.10000000000000009,
            "bin_start": 0,
            "count": 5
           },
           {
            "bin_end": 0.20000000000000007,
            "bin_start": 0.10000000000000009,
            "count": 0
           },
           {
            "bin_end": 0.30000000000000004,
            "bin_start": 0.20000000000000007,
            "count": 0
           },
           {
            "bin_end": 0.4,
            "bin_start": 0.30000000000000004,
            "count": 0
           },
           {
            "bin_end": 0.5,
            "bin_start": 0.4,
            "count": 0
           }
          ],
          "max": "0",
          "min": "0",
          "nan_count": 0,
          "unique_count": 1
         }
        },
        {
         "dtype": "int64",
         "name": "other_energy_sources",
         "stats": {
          "histogram": [
           {
            "bin_end": -0.4,
            "bin_start": -0.5,
            "count": 0
           },
           {
            "bin_end": -0.3,
            "bin_start": -0.4,
            "count": 0
           },
           {
            "bin_end": -0.19999999999999996,
            "bin_start": -0.3,
            "count": 0
           },
           {
            "bin_end": -0.09999999999999998,
            "bin_start": -0.19999999999999996,
            "count": 0
           },
           {
            "bin_end": 0,
            "bin_start": -0.09999999999999998,
            "count": 0
           },
           {
            "bin_end": 0.10000000000000009,
            "bin_start": 0,
            "count": 5
           },
           {
            "bin_end": 0.20000000000000007,
            "bin_start": 0.10000000000000009,
            "count": 0
           },
           {
            "bin_end": 0.30000000000000004,
            "bin_start": 0.20000000000000007,
            "count": 0
           },
           {
            "bin_end": 0.4,
            "bin_start": 0.30000000000000004,
            "count": 0
           },
           {
            "bin_end": 0.5,
            "bin_start": 0.4,
            "count": 0
           }
          ],
          "max": "0",
          "min": "0",
          "nan_count": 0,
          "unique_count": 1
         }
        },
        {
         "dtype": "int64",
         "name": "member_states",
         "stats": {
          "histogram": [
           {
            "bin_end": 0.1,
            "bin_start": 0,
            "count": 3
           },
           {
            "bin_end": 0.2,
            "bin_start": 0.1,
            "count": 0
           },
           {
            "bin_end": 0.30000000000000004,
            "bin_start": 0.2,
            "count": 0
           },
           {
            "bin_end": 0.4,
            "bin_start": 0.30000000000000004,
            "count": 0
           },
           {
            "bin_end": 0.5,
            "bin_start": 0.4,
            "count": 0
           },
           {
            "bin_end": 0.6000000000000001,
            "bin_start": 0.5,
            "count": 0
           },
           {
            "bin_end": 0.7000000000000001,
            "bin_start": 0.6000000000000001,
            "count": 0
           },
           {
            "bin_end": 0.8,
            "bin_start": 0.7000000000000001,
            "count": 0
           },
           {
            "bin_end": 0.9,
            "bin_start": 0.8,
            "count": 0
           },
           {
            "bin_end": 1,
            "bin_start": 0.9,
            "count": 2
           }
          ],
          "max": "1",
          "min": "0",
          "nan_count": 0,
          "unique_count": 2
         }
        },
        {
         "dtype": "int64",
         "name": "irrelevant",
         "stats": {
          "histogram": [
           {
            "bin_end": 0.1,
            "bin_start": 0,
            "count": 4
           },
           {
            "bin_end": 0.2,
            "bin_start": 0.1,
            "count": 0
           },
           {
            "bin_end": 0.30000000000000004,
            "bin_start": 0.2,
            "count": 0
           },
           {
            "bin_end": 0.4,
            "bin_start": 0.30000000000000004,
            "count": 0
           },
           {
            "bin_end": 0.5,
            "bin_start": 0.4,
            "count": 0
           },
           {
            "bin_end": 0.6000000000000001,
            "bin_start": 0.5,
            "count": 0
           },
           {
            "bin_end": 0.7000000000000001,
            "bin_start": 0.6000000000000001,
            "count": 0
           },
           {
            "bin_end": 0.8,
            "bin_start": 0.7000000000000001,
            "count": 0
           },
           {
            "bin_end": 0.9,
            "bin_start": 0.8,
            "count": 0
           },
           {
            "bin_end": 1,
            "bin_start": 0.9,
            "count": 1
           }
          ],
          "max": "1",
          "min": "0",
          "nan_count": 0,
          "unique_count": 2
         }
        },
        {
         "dtype": "int64",
         "name": "unclassified",
         "stats": {
          "histogram": [
           {
            "bin_end": -0.4,
            "bin_start": -0.5,
            "count": 0
           },
           {
            "bin_end": -0.3,
            "bin_start": -0.4,
            "count": 0
           },
           {
            "bin_end": -0.19999999999999996,
            "bin_start": -0.3,
            "count": 0
           },
           {
            "bin_end": -0.09999999999999998,
            "bin_start": -0.19999999999999996,
            "count": 0
           },
           {
            "bin_end": 0,
            "bin_start": -0.09999999999999998,
            "count": 0
           },
           {
            "bin_end": 0.10000000000000009,
            "bin_start": 0,
            "count": 5
           },
           {
            "bin_end": 0.20000000000000007,
            "bin_start": 0.10000000000000009,
            "count": 0
           },
           {
            "bin_end": 0.30000000000000004,
            "bin_start": 0.20000000000000007,
            "count": 0
           },
           {
            "bin_end": 0.4,
            "bin_start": 0.30000000000000004,
            "count": 0
           },
           {
            "bin_end": 0.5,
            "bin_start": 0.4,
            "count": 0
           }
          ],
          "max": "0",
          "min": "0",
          "nan_count": 0,
          "unique_count": 1
         }
        },
        {
         "dtype": "int64",
         "name": "_deepnote_index_column"
        }
       ],
       "row_count": 5,
       "rows": [
        {
         "_deepnote_index_column": 0,
         "activism_calls_to_action": 0,
         "category": "prime_ministers",
         "collapsed_category": "politicians",
         "created_at": "2022-01-10T11:32:21.000000",
         "energy_transition": 1,
         "eu_entities": 0,
         "eu_taxonomy_green_deal": 0,
         "expert_opinion": 0,
         "favorite_count": 20,
         "finance_energy_crisis": 0,
         "greenwashing": 0,
         "id": 1480502771250049000,
         "investment_and_industry": 0,
         "irrelevant": 0,
         "member_states": 0,
         "mentions": "['MinPres', 'NATO']",
         "nuclear_risks_regulations": 0,
         "other_energy_sources": 0,
         "retweet_count": 8,
         "retweeted": "nan",
         "sustainable_nuclear": 0,
         "text": "Congratulations to @MinPres Rutte &amp; his 4th government in a row. 🇸🇰 &amp; 🇳🇱 are fervent #EU partners &amp; allies within @NATO. There're many areas to be explored for a mutually enriching cooperation like #GreenTransition incl. #nuclear, post #COVID19 recovery or #democracy &amp; #values.🤝",
         "ukraine_russia": 0,
         "unclassified": 0,
         "user.id": 962820603995672600,
         "user.name": "Eduard Heger",
         "user.screen_name": "eduardheger"
        },
        {
         "_deepnote_index_column": 1,
         "activism_calls_to_action": 0,
         "category": "prime_ministers",
         "collapsed_category": "politicians",
         "created_at": "2021-12-13T20:07:45.000000",
         "energy_transition": 0,
         "eu_entities": 1,
         "eu_taxonomy_green_deal": 0,
         "expert_opinion": 0,
         "favorite_count": 60,
         "finance_energy_crisis": 0,
         "greenwashing": 0,
         "id": 1470485614252466200,
         "investment_and_industry": 0,
         "irrelevant": 0,
         "member_states": 1,
         "mentions": "['EmmanuelMacron', 'Europe2022FR']",
         "nuclear_risks_regulations": 0,
         "other_energy_sources": 0,
         "retweet_count": 18,
         "retweeted": "nan",
         "sustainable_nuclear": 0,
         "text": "Ahead of the V4-France Summit I talked to @EmmanuelMacron on how to move forward w/ #EU agenda. Looking forward to cooperate w/ 🇨🇵 during @Europe2022FR on democracy incl. #ProtectionOfJournalists, EU framework on #AntiMoneyLaundering &amp; #nuclear = our 🇪🇺 priorities. https://t.co/7fKz22YraC",
         "ukraine_russia": 0,
         "unclassified": 0,
         "user.id": 962820603995672600,
         "user.name": "Eduard Heger",
         "user.screen_name": "eduardheger"
        },
        {
         "_deepnote_index_column": 2,
         "activism_calls_to_action": 0,
         "category": "europarties",
         "collapsed_category": "meps & europarties",
         "created_at": "2020-05-21T12:35:36.000000",
         "energy_transition": 0,
         "eu_entities": 1,
         "eu_taxonomy_green_deal": 0,
         "expert_opinion": 0,
         "favorite_count": 0,
         "finance_energy_crisis": 0,
         "greenwashing": 0,
         "id": 1263448354287235000,
         "investment_and_industry": 0,
         "irrelevant": 0,
         "member_states": 0,
         "mentions": "[]",
         "nuclear_risks_regulations": 0,
         "other_energy_sources": 0,
         "retweet_count": 0,
         "retweeted": "nan",
         "sustainable_nuclear": 0,
         "text": "“The only way to achieve energy independence is with Nuclear power. We need to defeat the anti-nuclear majority in the European Parliament.”",
         "ukraine_russia": 1,
         "unclassified": 0,
         "user.id": 1498076587,
         "user.name": "ECR Party",
         "user.screen_name": "ECRparty"
        },
        {
         "_deepnote_index_column": 3,
         "activism_calls_to_action": 0,
         "category": "europarties",
         "collapsed_category": "meps & europarties",
         "created_at": "2020-05-18T08:05:52.000000",
         "energy_transition": 0,
         "eu_entities": 1,
         "eu_taxonomy_green_deal": 1,
         "expert_opinion": 0,
         "favorite_count": 5,
         "finance_energy_crisis": 0,
         "greenwashing": 0,
         "id": 1262293314033856500,
         "investment_and_industry": 0,
         "irrelevant": 0,
         "member_states": 1,
         "mentions": "['JessicaStegrud', 'New_Europe']",
         "nuclear_risks_regulations": 0,
         "other_energy_sources": 0,
         "retweet_count": 2,
         "retweeted": "nan",
         "sustainable_nuclear": 0,
         "text": "Swedish MEP @JessicaStegrud has written in @New_Europe this week about the missing piece of the #EuropeanGreenDeal - Nuclear Energy. \n\nhttps://t.co/B7bYxvbtbc https://t.co/goOmrA7Vb3",
         "ukraine_russia": 0,
         "unclassified": 0,
         "user.id": 1498076587,
         "user.name": "ECR Party",
         "user.screen_name": "ECRparty"
        },
        {
         "_deepnote_index_column": 4,
         "activism_calls_to_action": 0,
         "category": "europarties",
         "collapsed_category": "meps & europarties",
         "created_at": "2016-10-25T14:07:22.000000",
         "energy_transition": 0,
         "eu_entities": 1,
         "eu_taxonomy_green_deal": 0,
         "expert_opinion": 0,
         "favorite_count": 0,
         "finance_energy_crisis": 0,
         "greenwashing": 0,
         "id": 790917675241369600,
         "investment_and_industry": 0,
         "irrelevant": 1,
         "member_states": 0,
         "mentions": "['BasBelderMEP']",
         "nuclear_risks_regulations": 0,
         "other_energy_sources": 0,
         "retweet_count": 0,
         "retweeted": "nan",
         "sustainable_nuclear": 0,
         "text": "#ECPM MEP @BasBelderMEP points out important omissions in the EP report on the EU strategy towards #Iran after the #nuclear deal: https://t.co/ttuyEO8zjF",
         "ukraine_russia": 0,
         "unclassified": 0,
         "user.id": 2152547844,
         "user.name": "ECPM",
         "user.screen_name": "ECPM_official"
        }
       ]
      },
      "text/html": [
       "<div>\n",
       "<style scoped>\n",
       "    .dataframe tbody tr th:only-of-type {\n",
       "        vertical-align: middle;\n",
       "    }\n",
       "\n",
       "    .dataframe tbody tr th {\n",
       "        vertical-align: top;\n",
       "    }\n",
       "\n",
       "    .dataframe thead th {\n",
       "        text-align: right;\n",
       "    }\n",
       "</style>\n",
       "<table border=\"1\" class=\"dataframe\">\n",
       "  <thead>\n",
       "    <tr style=\"text-align: right;\">\n",
       "      <th></th>\n",
       "      <th>user.id</th>\n",
       "      <th>user.name</th>\n",
       "      <th>user.screen_name</th>\n",
       "      <th>id</th>\n",
       "      <th>created_at</th>\n",
       "      <th>favorite_count</th>\n",
       "      <th>retweet_count</th>\n",
       "      <th>text</th>\n",
       "      <th>mentions</th>\n",
       "      <th>retweeted</th>\n",
       "      <th>...</th>\n",
       "      <th>eu_entities</th>\n",
       "      <th>nuclear_risks_regulations</th>\n",
       "      <th>ukraine_russia</th>\n",
       "      <th>investment_and_industry</th>\n",
       "      <th>expert_opinion</th>\n",
       "      <th>activism_calls_to_action</th>\n",
       "      <th>other_energy_sources</th>\n",
       "      <th>member_states</th>\n",
       "      <th>irrelevant</th>\n",
       "      <th>unclassified</th>\n",
       "    </tr>\n",
       "  </thead>\n",
       "  <tbody>\n",
       "    <tr>\n",
       "      <th>0</th>\n",
       "      <td>962820603995672577</td>\n",
       "      <td>Eduard Heger</td>\n",
       "      <td>eduardheger</td>\n",
       "      <td>1480502771250049028</td>\n",
       "      <td>2022-01-10 11:32:21+00:00</td>\n",
       "      <td>20</td>\n",
       "      <td>8</td>\n",
       "      <td>Congratulations to @MinPres Rutte &amp;amp; his 4t...</td>\n",
       "      <td>[MinPres, NATO]</td>\n",
       "      <td>NaN</td>\n",
       "      <td>...</td>\n",
       "      <td>0</td>\n",
       "      <td>0</td>\n",
       "      <td>0</td>\n",
       "      <td>0</td>\n",
       "      <td>0</td>\n",
       "      <td>0</td>\n",
       "      <td>0</td>\n",
       "      <td>0</td>\n",
       "      <td>0</td>\n",
       "      <td>0</td>\n",
       "    </tr>\n",
       "    <tr>\n",
       "      <th>1</th>\n",
       "      <td>962820603995672577</td>\n",
       "      <td>Eduard Heger</td>\n",
       "      <td>eduardheger</td>\n",
       "      <td>1470485614252466179</td>\n",
       "      <td>2021-12-13 20:07:45+00:00</td>\n",
       "      <td>60</td>\n",
       "      <td>18</td>\n",
       "      <td>Ahead of the V4-France Summit I talked to @Emm...</td>\n",
       "      <td>[EmmanuelMacron, Europe2022FR]</td>\n",
       "      <td>NaN</td>\n",
       "      <td>...</td>\n",
       "      <td>1</td>\n",
       "      <td>0</td>\n",
       "      <td>0</td>\n",
       "      <td>0</td>\n",
       "      <td>0</td>\n",
       "      <td>0</td>\n",
       "      <td>0</td>\n",
       "      <td>1</td>\n",
       "      <td>0</td>\n",
       "      <td>0</td>\n",
       "    </tr>\n",
       "    <tr>\n",
       "      <th>2</th>\n",
       "      <td>1498076587</td>\n",
       "      <td>ECR Party</td>\n",
       "      <td>ECRparty</td>\n",
       "      <td>1263448354287235076</td>\n",
       "      <td>2020-05-21 12:35:36+00:00</td>\n",
       "      <td>0</td>\n",
       "      <td>0</td>\n",
       "      <td>“The only way to achieve energy independence i...</td>\n",
       "      <td>[]</td>\n",
       "      <td>NaN</td>\n",
       "      <td>...</td>\n",
       "      <td>1</td>\n",
       "      <td>0</td>\n",
       "      <td>1</td>\n",
       "      <td>0</td>\n",
       "      <td>0</td>\n",
       "      <td>0</td>\n",
       "      <td>0</td>\n",
       "      <td>0</td>\n",
       "      <td>0</td>\n",
       "      <td>0</td>\n",
       "    </tr>\n",
       "    <tr>\n",
       "      <th>3</th>\n",
       "      <td>1498076587</td>\n",
       "      <td>ECR Party</td>\n",
       "      <td>ECRparty</td>\n",
       "      <td>1262293314033856513</td>\n",
       "      <td>2020-05-18 08:05:52+00:00</td>\n",
       "      <td>5</td>\n",
       "      <td>2</td>\n",
       "      <td>Swedish MEP @JessicaStegrud has written in @Ne...</td>\n",
       "      <td>[JessicaStegrud, New_Europe]</td>\n",
       "      <td>NaN</td>\n",
       "      <td>...</td>\n",
       "      <td>1</td>\n",
       "      <td>0</td>\n",
       "      <td>0</td>\n",
       "      <td>0</td>\n",
       "      <td>0</td>\n",
       "      <td>0</td>\n",
       "      <td>0</td>\n",
       "      <td>1</td>\n",
       "      <td>0</td>\n",
       "      <td>0</td>\n",
       "    </tr>\n",
       "    <tr>\n",
       "      <th>4</th>\n",
       "      <td>2152547844</td>\n",
       "      <td>ECPM</td>\n",
       "      <td>ECPM_official</td>\n",
       "      <td>790917675241369600</td>\n",
       "      <td>2016-10-25 14:07:22+00:00</td>\n",
       "      <td>0</td>\n",
       "      <td>0</td>\n",
       "      <td>#ECPM MEP @BasBelderMEP points out important o...</td>\n",
       "      <td>[BasBelderMEP]</td>\n",
       "      <td>NaN</td>\n",
       "      <td>...</td>\n",
       "      <td>1</td>\n",
       "      <td>0</td>\n",
       "      <td>0</td>\n",
       "      <td>0</td>\n",
       "      <td>0</td>\n",
       "      <td>0</td>\n",
       "      <td>0</td>\n",
       "      <td>0</td>\n",
       "      <td>1</td>\n",
       "      <td>0</td>\n",
       "    </tr>\n",
       "  </tbody>\n",
       "</table>\n",
       "<p>5 rows × 27 columns</p>\n",
       "</div>"
      ],
      "text/plain": [
       "              user.id     user.name user.screen_name                   id  \\\n",
       "0  962820603995672577  Eduard Heger      eduardheger  1480502771250049028   \n",
       "1  962820603995672577  Eduard Heger      eduardheger  1470485614252466179   \n",
       "2          1498076587     ECR Party         ECRparty  1263448354287235076   \n",
       "3          1498076587     ECR Party         ECRparty  1262293314033856513   \n",
       "4          2152547844          ECPM    ECPM_official   790917675241369600   \n",
       "\n",
       "                 created_at  favorite_count  retweet_count  \\\n",
       "0 2022-01-10 11:32:21+00:00              20              8   \n",
       "1 2021-12-13 20:07:45+00:00              60             18   \n",
       "2 2020-05-21 12:35:36+00:00               0              0   \n",
       "3 2020-05-18 08:05:52+00:00               5              2   \n",
       "4 2016-10-25 14:07:22+00:00               0              0   \n",
       "\n",
       "                                                text  \\\n",
       "0  Congratulations to @MinPres Rutte &amp; his 4t...   \n",
       "1  Ahead of the V4-France Summit I talked to @Emm...   \n",
       "2  “The only way to achieve energy independence i...   \n",
       "3  Swedish MEP @JessicaStegrud has written in @Ne...   \n",
       "4  #ECPM MEP @BasBelderMEP points out important o...   \n",
       "\n",
       "                         mentions retweeted  ... eu_entities  \\\n",
       "0                 [MinPres, NATO]       NaN  ...           0   \n",
       "1  [EmmanuelMacron, Europe2022FR]       NaN  ...           1   \n",
       "2                              []       NaN  ...           1   \n",
       "3    [JessicaStegrud, New_Europe]       NaN  ...           1   \n",
       "4                  [BasBelderMEP]       NaN  ...           1   \n",
       "\n",
       "  nuclear_risks_regulations  ukraine_russia  investment_and_industry  \\\n",
       "0                         0               0                        0   \n",
       "1                         0               0                        0   \n",
       "2                         0               1                        0   \n",
       "3                         0               0                        0   \n",
       "4                         0               0                        0   \n",
       "\n",
       "   expert_opinion  activism_calls_to_action  other_energy_sources  \\\n",
       "0               0                         0                     0   \n",
       "1               0                         0                     0   \n",
       "2               0                         0                     0   \n",
       "3               0                         0                     0   \n",
       "4               0                         0                     0   \n",
       "\n",
       "   member_states  irrelevant  unclassified  \n",
       "0              0           0             0  \n",
       "1              1           0             0  \n",
       "2              0           0             0  \n",
       "3              1           0             0  \n",
       "4              0           1             0  \n",
       "\n",
       "[5 rows x 27 columns]"
      ]
     },
     "execution_count": 37,
     "metadata": {},
     "output_type": "execute_result"
    }
   ],
   "source": [
    "# join the DataFrame with metadata with the DataFrame with tweet categories\n",
    "df_2 =df_2.join(df_categorized)\n",
    "\n",
    "df_2.head(5)"
   ]
  },
  {
   "cell_type": "code",
   "execution_count": null,
   "metadata": {
    "cell_id": "42e6ad228a4949a08d854b7c8de98317",
    "deepnote_cell_height": 189,
    "deepnote_cell_type": "code",
    "deepnote_to_be_reexecuted": false,
    "execution_millis": 1,
    "execution_start": 1654513843555,
    "source_hash": "4536658",
    "tags": []
   },
   "outputs": [],
   "source": [
    "# create datatime variable using the created_at string from the metadata\n",
    "\n",
    "import datetime\n",
    "\n",
    "def short_date(x):\n",
    "    return datetime.datetime.strptime(str(x),'%Y-%m-%d %H:%M:%S%z').strftime('%Y-%m-%d')\n"
   ]
  },
  {
   "cell_type": "code",
   "execution_count": null,
   "metadata": {
    "cell_id": "11a7aa3ddca24d78a33abeaff12a6f18",
    "deepnote_cell_height": 485,
    "deepnote_cell_type": "code",
    "deepnote_to_be_reexecuted": false,
    "execution_millis": 802,
    "execution_start": 1654513844356,
    "source_hash": "40b30b48",
    "tags": []
   },
   "outputs": [
    {
     "data": {
      "application/vnd.deepnote.dataframe.v3+json": {
       "column_count": 27,
       "columns": [
        {
         "dtype": "int64",
         "name": "user.id",
         "stats": {
          "histogram": [
           {
            "bin_end": 96282061747836200,
            "bin_start": 1498076587,
            "count": 3
           },
           {
            "bin_end": 192564121997595780,
            "bin_start": 96282061747836200,
            "count": 0
           },
           {
            "bin_end": 288846182247355400,
            "bin_start": 192564121997595780,
            "count": 0
           },
           {
            "bin_end": 385128242497115000,
            "bin_start": 288846182247355400,
            "count": 0
           },
           {
            "bin_end": 481410302746874600,
            "bin_start": 385128242497115000,
            "count": 0
           },
           {
            "bin_end": 577692362996634100,
            "bin_start": 481410302746874600,
            "count": 0
           },
           {
            "bin_end": 673974423246393700,
            "bin_start": 577692362996634100,
            "count": 0
           },
           {
            "bin_end": 770256483496153300,
            "bin_start": 673974423246393700,
            "count": 0
           },
           {
            "bin_end": 866538543745913000,
            "bin_start": 770256483496153300,
            "count": 0
           },
           {
            "bin_end": 962820603995672600,
            "bin_start": 866538543745913000,
            "count": 2
           }
          ],
          "max": "962820603995672577",
          "min": "1498076587",
          "nan_count": 0,
          "unique_count": 3
         }
        },
        {
         "dtype": "object",
         "name": "user.name",
         "stats": {
          "categories": [
           {
            "count": 2,
            "name": "Eduard Heger"
           },
           {
            "count": 2,
            "name": "ECR Party"
           },
           {
            "count": 1,
            "name": "ECPM"
           }
          ],
          "nan_count": 0,
          "unique_count": 3
         }
        },
        {
         "dtype": "object",
         "name": "user.screen_name",
         "stats": {
          "categories": [
           {
            "count": 2,
            "name": "eduardheger"
           },
           {
            "count": 2,
            "name": "ECRparty"
           },
           {
            "count": 1,
            "name": "ECPM_official"
           }
          ],
          "nan_count": 0,
          "unique_count": 3
         }
        },
        {
         "dtype": "int64",
         "name": "id",
         "stats": {
          "histogram": [
           {
            "bin_end": 859876184842237600,
            "bin_start": 790917675241369600,
            "count": 1
           },
           {
            "bin_end": 928834694443105500,
            "bin_start": 859876184842237600,
            "count": 0
           },
           {
            "bin_end": 997793204043973400,
            "bin_start": 928834694443105500,
            "count": 0
           },
           {
            "bin_end": 1066751713644841300,
            "bin_start": 997793204043973400,
            "count": 0
           },
           {
            "bin_end": 1135710223245709300,
            "bin_start": 1066751713644841300,
            "count": 0
           },
           {
            "bin_end": 1204668732846577200,
            "bin_start": 1135710223245709300,
            "count": 0
           },
           {
            "bin_end": 1273627242447445200,
            "bin_start": 1204668732846577200,
            "count": 2
           },
           {
            "bin_end": 1342585752048313000,
            "bin_start": 1273627242447445200,
            "count": 0
           },
           {
            "bin_end": 1411544261649181200,
            "bin_start": 1342585752048313000,
            "count": 0
           },
           {
            "bin_end": 1480502771250049000,
            "bin_start": 1411544261649181200,
            "count": 2
           }
          ],
          "max": "1480502771250049028",
          "min": "790917675241369600",
          "nan_count": 0,
          "unique_count": 5
         }
        },
        {
         "dtype": "int64",
         "name": "favorite_count",
         "stats": {
          "histogram": [
           {
            "bin_end": 6,
            "bin_start": 0,
            "count": 3
           },
           {
            "bin_end": 12,
            "bin_start": 6,
            "count": 0
           },
           {
            "bin_end": 18,
            "bin_start": 12,
            "count": 0
           },
           {
            "bin_end": 24,
            "bin_start": 18,
            "count": 1
           },
           {
            "bin_end": 30,
            "bin_start": 24,
            "count": 0
           },
           {
            "bin_end": 36,
            "bin_start": 30,
            "count": 0
           },
           {
            "bin_end": 42,
            "bin_start": 36,
            "count": 0
           },
           {
            "bin_end": 48,
            "bin_start": 42,
            "count": 0
           },
           {
            "bin_end": 54,
            "bin_start": 48,
            "count": 0
           },
           {
            "bin_end": 60,
            "bin_start": 54,
            "count": 1
           }
          ],
          "max": "60",
          "min": "0",
          "nan_count": 0,
          "unique_count": 4
         }
        },
        {
         "dtype": "int64",
         "name": "retweet_count",
         "stats": {
          "histogram": [
           {
            "bin_end": 1.8,
            "bin_start": 0,
            "count": 2
           },
           {
            "bin_end": 3.6,
            "bin_start": 1.8,
            "count": 1
           },
           {
            "bin_end": 5.4,
            "bin_start": 3.6,
            "count": 0
           },
           {
            "bin_end": 7.2,
            "bin_start": 5.4,
            "count": 0
           },
           {
            "bin_end": 9,
            "bin_start": 7.2,
            "count": 1
           },
           {
            "bin_end": 10.8,
            "bin_start": 9,
            "count": 0
           },
           {
            "bin_end": 12.6,
            "bin_start": 10.8,
            "count": 0
           },
           {
            "bin_end": 14.4,
            "bin_start": 12.6,
            "count": 0
           },
           {
            "bin_end": 16.2,
            "bin_start": 14.4,
            "count": 0
           },
           {
            "bin_end": 18,
            "bin_start": 16.2,
            "count": 1
           }
          ],
          "max": "18",
          "min": "0",
          "nan_count": 0,
          "unique_count": 4
         }
        },
        {
         "dtype": "object",
         "name": "text",
         "stats": {
          "categories": [
           {
            "count": 1,
            "name": "Congratulations to @MinPres Rutte &amp; his 4th government in a row. 🇸🇰 &amp; 🇳🇱 are fervent #EU partners &amp; allies within @NATO. There're many areas to be explored for a mutually enriching cooperation like #GreenTransition incl. #nuclear, post #COVID19 recovery or #democracy &amp; #values.🤝"
           },
           {
            "count": 1,
            "name": "Ahead of the V4-France Summit I talked to @EmmanuelMacron on how to move forward w/ #EU agenda. Looking forward to cooperate w/ 🇨🇵 during @Europe2022FR on democracy incl. #ProtectionOfJournalists, EU framework on #AntiMoneyLaundering &amp; #nuclear = our 🇪🇺 priorities. https://t.co/7fKz22YraC"
           },
           {
            "count": 3,
            "name": "3 others"
           }
          ],
          "nan_count": 0,
          "unique_count": 5
         }
        },
        {
         "dtype": "object",
         "name": "mentions",
         "stats": {
          "categories": [
           {
            "count": 1,
            "name": "['MinPres', 'NATO']"
           },
           {
            "count": 1,
            "name": "['EmmanuelMacron', 'Europe2022FR']"
           },
           {
            "count": 3,
            "name": "3 others"
           }
          ],
          "nan_count": 0,
          "unique_count": 5
         }
        },
        {
         "dtype": "object",
         "name": "retweeted",
         "stats": {
          "categories": [
           {
            "count": 5,
            "name": "Missing"
           }
          ],
          "nan_count": 5,
          "unique_count": 0
         }
        },
        {
         "dtype": "object",
         "name": "category",
         "stats": {
          "categories": [
           {
            "count": 3,
            "name": "europarties"
           },
           {
            "count": 2,
            "name": "prime_ministers"
           }
          ],
          "nan_count": 0,
          "unique_count": 2
         }
        },
        {
         "dtype": "object",
         "name": "collapsed_category",
         "stats": {
          "categories": [
           {
            "count": 3,
            "name": "meps & europarties"
           },
           {
            "count": 2,
            "name": "politicians"
           }
          ],
          "nan_count": 0,
          "unique_count": 2
         }
        },
        {
         "dtype": "int64",
         "name": "sustainable_nuclear",
         "stats": {
          "histogram": [
           {
            "bin_end": -0.4,
            "bin_start": -0.5,
            "count": 0
           },
           {
            "bin_end": -0.3,
            "bin_start": -0.4,
            "count": 0
           },
           {
            "bin_end": -0.19999999999999996,
            "bin_start": -0.3,
            "count": 0
           },
           {
            "bin_end": -0.09999999999999998,
            "bin_start": -0.19999999999999996,
            "count": 0
           },
           {
            "bin_end": 0,
            "bin_start": -0.09999999999999998,
            "count": 0
           },
           {
            "bin_end": 0.10000000000000009,
            "bin_start": 0,
            "count": 5
           },
           {
            "bin_end": 0.20000000000000007,
            "bin_start": 0.10000000000000009,
            "count": 0
           },
           {
            "bin_end": 0.30000000000000004,
            "bin_start": 0.20000000000000007,
            "count": 0
           },
           {
            "bin_end": 0.4,
            "bin_start": 0.30000000000000004,
            "count": 0
           },
           {
            "bin_end": 0.5,
            "bin_start": 0.4,
            "count": 0
           }
          ],
          "max": "0",
          "min": "0",
          "nan_count": 0,
          "unique_count": 1
         }
        },
        {
         "dtype": "int64",
         "name": "eu_taxonomy_green_deal",
         "stats": {
          "histogram": [
           {
            "bin_end": 0.1,
            "bin_start": 0,
            "count": 4
           },
           {
            "bin_end": 0.2,
            "bin_start": 0.1,
            "count": 0
           },
           {
            "bin_end": 0.30000000000000004,
            "bin_start": 0.2,
            "count": 0
           },
           {
            "bin_end": 0.4,
            "bin_start": 0.30000000000000004,
            "count": 0
           },
           {
            "bin_end": 0.5,
            "bin_start": 0.4,
            "count": 0
           },
           {
            "bin_end": 0.6000000000000001,
            "bin_start": 0.5,
            "count": 0
           },
           {
            "bin_end": 0.7000000000000001,
            "bin_start": 0.6000000000000001,
            "count": 0
           },
           {
            "bin_end": 0.8,
            "bin_start": 0.7000000000000001,
            "count": 0
           },
           {
            "bin_end": 0.9,
            "bin_start": 0.8,
            "count": 0
           },
           {
            "bin_end": 1,
            "bin_start": 0.9,
            "count": 1
           }
          ],
          "max": "1",
          "min": "0",
          "nan_count": 0,
          "unique_count": 2
         }
        },
        {
         "dtype": "int64",
         "name": "energy_transition",
         "stats": {
          "histogram": [
           {
            "bin_end": 0.1,
            "bin_start": 0,
            "count": 4
           },
           {
            "bin_end": 0.2,
            "bin_start": 0.1,
            "count": 0
           },
           {
            "bin_end": 0.30000000000000004,
            "bin_start": 0.2,
            "count": 0
           },
           {
            "bin_end": 0.4,
            "bin_start": 0.30000000000000004,
            "count": 0
           },
           {
            "bin_end": 0.5,
            "bin_start": 0.4,
            "count": 0
           },
           {
            "bin_end": 0.6000000000000001,
            "bin_start": 0.5,
            "count": 0
           },
           {
            "bin_end": 0.7000000000000001,
            "bin_start": 0.6000000000000001,
            "count": 0
           },
           {
            "bin_end": 0.8,
            "bin_start": 0.7000000000000001,
            "count": 0
           },
           {
            "bin_end": 0.9,
            "bin_start": 0.8,
            "count": 0
           },
           {
            "bin_end": 1,
            "bin_start": 0.9,
            "count": 1
           }
          ],
          "max": "1",
          "min": "0",
          "nan_count": 0,
          "unique_count": 2
         }
        },
        {
         "dtype": "int64",
         "name": "finance_energy_crisis",
         "stats": {
          "histogram": [
           {
            "bin_end": -0.4,
            "bin_start": -0.5,
            "count": 0
           },
           {
            "bin_end": -0.3,
            "bin_start": -0.4,
            "count": 0
           },
           {
            "bin_end": -0.19999999999999996,
            "bin_start": -0.3,
            "count": 0
           },
           {
            "bin_end": -0.09999999999999998,
            "bin_start": -0.19999999999999996,
            "count": 0
           },
           {
            "bin_end": 0,
            "bin_start": -0.09999999999999998,
            "count": 0
           },
           {
            "bin_end": 0.10000000000000009,
            "bin_start": 0,
            "count": 5
           },
           {
            "bin_end": 0.20000000000000007,
            "bin_start": 0.10000000000000009,
            "count": 0
           },
           {
            "bin_end": 0.30000000000000004,
            "bin_start": 0.20000000000000007,
            "count": 0
           },
           {
            "bin_end": 0.4,
            "bin_start": 0.30000000000000004,
            "count": 0
           },
           {
            "bin_end": 0.5,
            "bin_start": 0.4,
            "count": 0
           }
          ],
          "max": "0",
          "min": "0",
          "nan_count": 0,
          "unique_count": 1
         }
        },
        {
         "dtype": "int64",
         "name": "greenwashing",
         "stats": {
          "histogram": [
           {
            "bin_end": -0.4,
            "bin_start": -0.5,
            "count": 0
           },
           {
            "bin_end": -0.3,
            "bin_start": -0.4,
            "count": 0
           },
           {
            "bin_end": -0.19999999999999996,
            "bin_start": -0.3,
            "count": 0
           },
           {
            "bin_end": -0.09999999999999998,
            "bin_start": -0.19999999999999996,
            "count": 0
           },
           {
            "bin_end": 0,
            "bin_start": -0.09999999999999998,
            "count": 0
           },
           {
            "bin_end": 0.10000000000000009,
            "bin_start": 0,
            "count": 5
           },
           {
            "bin_end": 0.20000000000000007,
            "bin_start": 0.10000000000000009,
            "count": 0
           },
           {
            "bin_end": 0.30000000000000004,
            "bin_start": 0.20000000000000007,
            "count": 0
           },
           {
            "bin_end": 0.4,
            "bin_start": 0.30000000000000004,
            "count": 0
           },
           {
            "bin_end": 0.5,
            "bin_start": 0.4,
            "count": 0
           }
          ],
          "max": "0",
          "min": "0",
          "nan_count": 0,
          "unique_count": 1
         }
        },
        {
         "dtype": "int64",
         "name": "eu_entities",
         "stats": {
          "histogram": [
           {
            "bin_end": 0.1,
            "bin_start": 0,
            "count": 1
           },
           {
            "bin_end": 0.2,
            "bin_start": 0.1,
            "count": 0
           },
           {
            "bin_end": 0.30000000000000004,
            "bin_start": 0.2,
            "count": 0
           },
           {
            "bin_end": 0.4,
            "bin_start": 0.30000000000000004,
            "count": 0
           },
           {
            "bin_end": 0.5,
            "bin_start": 0.4,
            "count": 0
           },
           {
            "bin_end": 0.6000000000000001,
            "bin_start": 0.5,
            "count": 0
           },
           {
            "bin_end": 0.7000000000000001,
            "bin_start": 0.6000000000000001,
            "count": 0
           },
           {
            "bin_end": 0.8,
            "bin_start": 0.7000000000000001,
            "count": 0
           },
           {
            "bin_end": 0.9,
            "bin_start": 0.8,
            "count": 0
           },
           {
            "bin_end": 1,
            "bin_start": 0.9,
            "count": 4
           }
          ],
          "max": "1",
          "min": "0",
          "nan_count": 0,
          "unique_count": 2
         }
        },
        {
         "dtype": "int64",
         "name": "nuclear_risks_regulations",
         "stats": {
          "histogram": [
           {
            "bin_end": -0.4,
            "bin_start": -0.5,
            "count": 0
           },
           {
            "bin_end": -0.3,
            "bin_start": -0.4,
            "count": 0
           },
           {
            "bin_end": -0.19999999999999996,
            "bin_start": -0.3,
            "count": 0
           },
           {
            "bin_end": -0.09999999999999998,
            "bin_start": -0.19999999999999996,
            "count": 0
           },
           {
            "bin_end": 0,
            "bin_start": -0.09999999999999998,
            "count": 0
           },
           {
            "bin_end": 0.10000000000000009,
            "bin_start": 0,
            "count": 5
           },
           {
            "bin_end": 0.20000000000000007,
            "bin_start": 0.10000000000000009,
            "count": 0
           },
           {
            "bin_end": 0.30000000000000004,
            "bin_start": 0.20000000000000007,
            "count": 0
           },
           {
            "bin_end": 0.4,
            "bin_start": 0.30000000000000004,
            "count": 0
           },
           {
            "bin_end": 0.5,
            "bin_start": 0.4,
            "count": 0
           }
          ],
          "max": "0",
          "min": "0",
          "nan_count": 0,
          "unique_count": 1
         }
        },
        {
         "dtype": "int64",
         "name": "ukraine_russia",
         "stats": {
          "histogram": [
           {
            "bin_end": 0.1,
            "bin_start": 0,
            "count": 4
           },
           {
            "bin_end": 0.2,
            "bin_start": 0.1,
            "count": 0
           },
           {
            "bin_end": 0.30000000000000004,
            "bin_start": 0.2,
            "count": 0
           },
           {
            "bin_end": 0.4,
            "bin_start": 0.30000000000000004,
            "count": 0
           },
           {
            "bin_end": 0.5,
            "bin_start": 0.4,
            "count": 0
           },
           {
            "bin_end": 0.6000000000000001,
            "bin_start": 0.5,
            "count": 0
           },
           {
            "bin_end": 0.7000000000000001,
            "bin_start": 0.6000000000000001,
            "count": 0
           },
           {
            "bin_end": 0.8,
            "bin_start": 0.7000000000000001,
            "count": 0
           },
           {
            "bin_end": 0.9,
            "bin_start": 0.8,
            "count": 0
           },
           {
            "bin_end": 1,
            "bin_start": 0.9,
            "count": 1
           }
          ],
          "max": "1",
          "min": "0",
          "nan_count": 0,
          "unique_count": 2
         }
        },
        {
         "dtype": "int64",
         "name": "investment_and_industry",
         "stats": {
          "histogram": [
           {
            "bin_end": -0.4,
            "bin_start": -0.5,
            "count": 0
           },
           {
            "bin_end": -0.3,
            "bin_start": -0.4,
            "count": 0
           },
           {
            "bin_end": -0.19999999999999996,
            "bin_start": -0.3,
            "count": 0
           },
           {
            "bin_end": -0.09999999999999998,
            "bin_start": -0.19999999999999996,
            "count": 0
           },
           {
            "bin_end": 0,
            "bin_start": -0.09999999999999998,
            "count": 0
           },
           {
            "bin_end": 0.10000000000000009,
            "bin_start": 0,
            "count": 5
           },
           {
            "bin_end": 0.20000000000000007,
            "bin_start": 0.10000000000000009,
            "count": 0
           },
           {
            "bin_end": 0.30000000000000004,
            "bin_start": 0.20000000000000007,
            "count": 0
           },
           {
            "bin_end": 0.4,
            "bin_start": 0.30000000000000004,
            "count": 0
           },
           {
            "bin_end": 0.5,
            "bin_start": 0.4,
            "count": 0
           }
          ],
          "max": "0",
          "min": "0",
          "nan_count": 0,
          "unique_count": 1
         }
        },
        {
         "dtype": "int64",
         "name": "expert_opinion",
         "stats": {
          "histogram": [
           {
            "bin_end": -0.4,
            "bin_start": -0.5,
            "count": 0
           },
           {
            "bin_end": -0.3,
            "bin_start": -0.4,
            "count": 0
           },
           {
            "bin_end": -0.19999999999999996,
            "bin_start": -0.3,
            "count": 0
           },
           {
            "bin_end": -0.09999999999999998,
            "bin_start": -0.19999999999999996,
            "count": 0
           },
           {
            "bin_end": 0,
            "bin_start": -0.09999999999999998,
            "count": 0
           },
           {
            "bin_end": 0.10000000000000009,
            "bin_start": 0,
            "count": 5
           },
           {
            "bin_end": 0.20000000000000007,
            "bin_start": 0.10000000000000009,
            "count": 0
           },
           {
            "bin_end": 0.30000000000000004,
            "bin_start": 0.20000000000000007,
            "count": 0
           },
           {
            "bin_end": 0.4,
            "bin_start": 0.30000000000000004,
            "count": 0
           },
           {
            "bin_end": 0.5,
            "bin_start": 0.4,
            "count": 0
           }
          ],
          "max": "0",
          "min": "0",
          "nan_count": 0,
          "unique_count": 1
         }
        },
        {
         "dtype": "int64",
         "name": "activism_calls_to_action",
         "stats": {
          "histogram": [
           {
            "bin_end": -0.4,
            "bin_start": -0.5,
            "count": 0
           },
           {
            "bin_end": -0.3,
            "bin_start": -0.4,
            "count": 0
           },
           {
            "bin_end": -0.19999999999999996,
            "bin_start": -0.3,
            "count": 0
           },
           {
            "bin_end": -0.09999999999999998,
            "bin_start": -0.19999999999999996,
            "count": 0
           },
           {
            "bin_end": 0,
            "bin_start": -0.09999999999999998,
            "count": 0
           },
           {
            "bin_end": 0.10000000000000009,
            "bin_start": 0,
            "count": 5
           },
           {
            "bin_end": 0.20000000000000007,
            "bin_start": 0.10000000000000009,
            "count": 0
           },
           {
            "bin_end": 0.30000000000000004,
            "bin_start": 0.20000000000000007,
            "count": 0
           },
           {
            "bin_end": 0.4,
            "bin_start": 0.30000000000000004,
            "count": 0
           },
           {
            "bin_end": 0.5,
            "bin_start": 0.4,
            "count": 0
           }
          ],
          "max": "0",
          "min": "0",
          "nan_count": 0,
          "unique_count": 1
         }
        },
        {
         "dtype": "int64",
         "name": "other_energy_sources",
         "stats": {
          "histogram": [
           {
            "bin_end": -0.4,
            "bin_start": -0.5,
            "count": 0
           },
           {
            "bin_end": -0.3,
            "bin_start": -0.4,
            "count": 0
           },
           {
            "bin_end": -0.19999999999999996,
            "bin_start": -0.3,
            "count": 0
           },
           {
            "bin_end": -0.09999999999999998,
            "bin_start": -0.19999999999999996,
            "count": 0
           },
           {
            "bin_end": 0,
            "bin_start": -0.09999999999999998,
            "count": 0
           },
           {
            "bin_end": 0.10000000000000009,
            "bin_start": 0,
            "count": 5
           },
           {
            "bin_end": 0.20000000000000007,
            "bin_start": 0.10000000000000009,
            "count": 0
           },
           {
            "bin_end": 0.30000000000000004,
            "bin_start": 0.20000000000000007,
            "count": 0
           },
           {
            "bin_end": 0.4,
            "bin_start": 0.30000000000000004,
            "count": 0
           },
           {
            "bin_end": 0.5,
            "bin_start": 0.4,
            "count": 0
           }
          ],
          "max": "0",
          "min": "0",
          "nan_count": 0,
          "unique_count": 1
         }
        },
        {
         "dtype": "int64",
         "name": "member_states",
         "stats": {
          "histogram": [
           {
            "bin_end": 0.1,
            "bin_start": 0,
            "count": 3
           },
           {
            "bin_end": 0.2,
            "bin_start": 0.1,
            "count": 0
           },
           {
            "bin_end": 0.30000000000000004,
            "bin_start": 0.2,
            "count": 0
           },
           {
            "bin_end": 0.4,
            "bin_start": 0.30000000000000004,
            "count": 0
           },
           {
            "bin_end": 0.5,
            "bin_start": 0.4,
            "count": 0
           },
           {
            "bin_end": 0.6000000000000001,
            "bin_start": 0.5,
            "count": 0
           },
           {
            "bin_end": 0.7000000000000001,
            "bin_start": 0.6000000000000001,
            "count": 0
           },
           {
            "bin_end": 0.8,
            "bin_start": 0.7000000000000001,
            "count": 0
           },
           {
            "bin_end": 0.9,
            "bin_start": 0.8,
            "count": 0
           },
           {
            "bin_end": 1,
            "bin_start": 0.9,
            "count": 2
           }
          ],
          "max": "1",
          "min": "0",
          "nan_count": 0,
          "unique_count": 2
         }
        },
        {
         "dtype": "int64",
         "name": "irrelevant",
         "stats": {
          "histogram": [
           {
            "bin_end": 0.1,
            "bin_start": 0,
            "count": 4
           },
           {
            "bin_end": 0.2,
            "bin_start": 0.1,
            "count": 0
           },
           {
            "bin_end": 0.30000000000000004,
            "bin_start": 0.2,
            "count": 0
           },
           {
            "bin_end": 0.4,
            "bin_start": 0.30000000000000004,
            "count": 0
           },
           {
            "bin_end": 0.5,
            "bin_start": 0.4,
            "count": 0
           },
           {
            "bin_end": 0.6000000000000001,
            "bin_start": 0.5,
            "count": 0
           },
           {
            "bin_end": 0.7000000000000001,
            "bin_start": 0.6000000000000001,
            "count": 0
           },
           {
            "bin_end": 0.8,
            "bin_start": 0.7000000000000001,
            "count": 0
           },
           {
            "bin_end": 0.9,
            "bin_start": 0.8,
            "count": 0
           },
           {
            "bin_end": 1,
            "bin_start": 0.9,
            "count": 1
           }
          ],
          "max": "1",
          "min": "0",
          "nan_count": 0,
          "unique_count": 2
         }
        },
        {
         "dtype": "int64",
         "name": "unclassified",
         "stats": {
          "histogram": [
           {
            "bin_end": -0.4,
            "bin_start": -0.5,
            "count": 0
           },
           {
            "bin_end": -0.3,
            "bin_start": -0.4,
            "count": 0
           },
           {
            "bin_end": -0.19999999999999996,
            "bin_start": -0.3,
            "count": 0
           },
           {
            "bin_end": -0.09999999999999998,
            "bin_start": -0.19999999999999996,
            "count": 0
           },
           {
            "bin_end": 0,
            "bin_start": -0.09999999999999998,
            "count": 0
           },
           {
            "bin_end": 0.10000000000000009,
            "bin_start": 0,
            "count": 5
           },
           {
            "bin_end": 0.20000000000000007,
            "bin_start": 0.10000000000000009,
            "count": 0
           },
           {
            "bin_end": 0.30000000000000004,
            "bin_start": 0.20000000000000007,
            "count": 0
           },
           {
            "bin_end": 0.4,
            "bin_start": 0.30000000000000004,
            "count": 0
           },
           {
            "bin_end": 0.5,
            "bin_start": 0.4,
            "count": 0
           }
          ],
          "max": "0",
          "min": "0",
          "nan_count": 0,
          "unique_count": 1
         }
        },
        {
         "dtype": "object",
         "name": "date",
         "stats": {
          "categories": [
           {
            "count": 1,
            "name": "2022-01-10"
           },
           {
            "count": 1,
            "name": "2021-12-13"
           },
           {
            "count": 3,
            "name": "3 others"
           }
          ],
          "nan_count": 0,
          "unique_count": 5
         }
        },
        {
         "dtype": "int64",
         "name": "_deepnote_index_column"
        }
       ],
       "row_count": 5,
       "rows": [
        {
         "_deepnote_index_column": 0,
         "activism_calls_to_action": 0,
         "category": "prime_ministers",
         "collapsed_category": "politicians",
         "date": "2022-01-10",
         "energy_transition": 1,
         "eu_entities": 0,
         "eu_taxonomy_green_deal": 0,
         "expert_opinion": 0,
         "favorite_count": 20,
         "finance_energy_crisis": 0,
         "greenwashing": 0,
         "id": 1480502771250049000,
         "investment_and_industry": 0,
         "irrelevant": 0,
         "member_states": 0,
         "mentions": "['MinPres', 'NATO']",
         "nuclear_risks_regulations": 0,
         "other_energy_sources": 0,
         "retweet_count": 8,
         "retweeted": "nan",
         "sustainable_nuclear": 0,
         "text": "Congratulations to @MinPres Rutte &amp; his 4th government in a row. 🇸🇰 &amp; 🇳🇱 are fervent #EU partners &amp; allies within @NATO. There're many areas to be explored for a mutually enriching cooperation like #GreenTransition incl. #nuclear, post #COVID19 recovery or #democracy &amp; #values.🤝",
         "ukraine_russia": 0,
         "unclassified": 0,
         "user.id": 962820603995672600,
         "user.name": "Eduard Heger",
         "user.screen_name": "eduardheger"
        },
        {
         "_deepnote_index_column": 1,
         "activism_calls_to_action": 0,
         "category": "prime_ministers",
         "collapsed_category": "politicians",
         "date": "2021-12-13",
         "energy_transition": 0,
         "eu_entities": 1,
         "eu_taxonomy_green_deal": 0,
         "expert_opinion": 0,
         "favorite_count": 60,
         "finance_energy_crisis": 0,
         "greenwashing": 0,
         "id": 1470485614252466200,
         "investment_and_industry": 0,
         "irrelevant": 0,
         "member_states": 1,
         "mentions": "['EmmanuelMacron', 'Europe2022FR']",
         "nuclear_risks_regulations": 0,
         "other_energy_sources": 0,
         "retweet_count": 18,
         "retweeted": "nan",
         "sustainable_nuclear": 0,
         "text": "Ahead of the V4-France Summit I talked to @EmmanuelMacron on how to move forward w/ #EU agenda. Looking forward to cooperate w/ 🇨🇵 during @Europe2022FR on democracy incl. #ProtectionOfJournalists, EU framework on #AntiMoneyLaundering &amp; #nuclear = our 🇪🇺 priorities. https://t.co/7fKz22YraC",
         "ukraine_russia": 0,
         "unclassified": 0,
         "user.id": 962820603995672600,
         "user.name": "Eduard Heger",
         "user.screen_name": "eduardheger"
        },
        {
         "_deepnote_index_column": 2,
         "activism_calls_to_action": 0,
         "category": "europarties",
         "collapsed_category": "meps & europarties",
         "date": "2020-05-21",
         "energy_transition": 0,
         "eu_entities": 1,
         "eu_taxonomy_green_deal": 0,
         "expert_opinion": 0,
         "favorite_count": 0,
         "finance_energy_crisis": 0,
         "greenwashing": 0,
         "id": 1263448354287235000,
         "investment_and_industry": 0,
         "irrelevant": 0,
         "member_states": 0,
         "mentions": "[]",
         "nuclear_risks_regulations": 0,
         "other_energy_sources": 0,
         "retweet_count": 0,
         "retweeted": "nan",
         "sustainable_nuclear": 0,
         "text": "“The only way to achieve energy independence is with Nuclear power. We need to defeat the anti-nuclear majority in the European Parliament.”",
         "ukraine_russia": 1,
         "unclassified": 0,
         "user.id": 1498076587,
         "user.name": "ECR Party",
         "user.screen_name": "ECRparty"
        },
        {
         "_deepnote_index_column": 3,
         "activism_calls_to_action": 0,
         "category": "europarties",
         "collapsed_category": "meps & europarties",
         "date": "2020-05-18",
         "energy_transition": 0,
         "eu_entities": 1,
         "eu_taxonomy_green_deal": 1,
         "expert_opinion": 0,
         "favorite_count": 5,
         "finance_energy_crisis": 0,
         "greenwashing": 0,
         "id": 1262293314033856500,
         "investment_and_industry": 0,
         "irrelevant": 0,
         "member_states": 1,
         "mentions": "['JessicaStegrud', 'New_Europe']",
         "nuclear_risks_regulations": 0,
         "other_energy_sources": 0,
         "retweet_count": 2,
         "retweeted": "nan",
         "sustainable_nuclear": 0,
         "text": "Swedish MEP @JessicaStegrud has written in @New_Europe this week about the missing piece of the #EuropeanGreenDeal - Nuclear Energy. \n\nhttps://t.co/B7bYxvbtbc https://t.co/goOmrA7Vb3",
         "ukraine_russia": 0,
         "unclassified": 0,
         "user.id": 1498076587,
         "user.name": "ECR Party",
         "user.screen_name": "ECRparty"
        },
        {
         "_deepnote_index_column": 4,
         "activism_calls_to_action": 0,
         "category": "europarties",
         "collapsed_category": "meps & europarties",
         "date": "2016-10-25",
         "energy_transition": 0,
         "eu_entities": 1,
         "eu_taxonomy_green_deal": 0,
         "expert_opinion": 0,
         "favorite_count": 0,
         "finance_energy_crisis": 0,
         "greenwashing": 0,
         "id": 790917675241369600,
         "investment_and_industry": 0,
         "irrelevant": 1,
         "member_states": 0,
         "mentions": "['BasBelderMEP']",
         "nuclear_risks_regulations": 0,
         "other_energy_sources": 0,
         "retweet_count": 0,
         "retweeted": "nan",
         "sustainable_nuclear": 0,
         "text": "#ECPM MEP @BasBelderMEP points out important omissions in the EP report on the EU strategy towards #Iran after the #nuclear deal: https://t.co/ttuyEO8zjF",
         "ukraine_russia": 0,
         "unclassified": 0,
         "user.id": 2152547844,
         "user.name": "ECPM",
         "user.screen_name": "ECPM_official"
        }
       ]
      },
      "text/html": [
       "<div>\n",
       "<style scoped>\n",
       "    .dataframe tbody tr th:only-of-type {\n",
       "        vertical-align: middle;\n",
       "    }\n",
       "\n",
       "    .dataframe tbody tr th {\n",
       "        vertical-align: top;\n",
       "    }\n",
       "\n",
       "    .dataframe thead th {\n",
       "        text-align: right;\n",
       "    }\n",
       "</style>\n",
       "<table border=\"1\" class=\"dataframe\">\n",
       "  <thead>\n",
       "    <tr style=\"text-align: right;\">\n",
       "      <th></th>\n",
       "      <th>user.id</th>\n",
       "      <th>user.name</th>\n",
       "      <th>user.screen_name</th>\n",
       "      <th>id</th>\n",
       "      <th>favorite_count</th>\n",
       "      <th>retweet_count</th>\n",
       "      <th>text</th>\n",
       "      <th>mentions</th>\n",
       "      <th>retweeted</th>\n",
       "      <th>category</th>\n",
       "      <th>...</th>\n",
       "      <th>nuclear_risks_regulations</th>\n",
       "      <th>ukraine_russia</th>\n",
       "      <th>investment_and_industry</th>\n",
       "      <th>expert_opinion</th>\n",
       "      <th>activism_calls_to_action</th>\n",
       "      <th>other_energy_sources</th>\n",
       "      <th>member_states</th>\n",
       "      <th>irrelevant</th>\n",
       "      <th>unclassified</th>\n",
       "      <th>date</th>\n",
       "    </tr>\n",
       "  </thead>\n",
       "  <tbody>\n",
       "    <tr>\n",
       "      <th>0</th>\n",
       "      <td>962820603995672577</td>\n",
       "      <td>Eduard Heger</td>\n",
       "      <td>eduardheger</td>\n",
       "      <td>1480502771250049028</td>\n",
       "      <td>20</td>\n",
       "      <td>8</td>\n",
       "      <td>Congratulations to @MinPres Rutte &amp;amp; his 4t...</td>\n",
       "      <td>[MinPres, NATO]</td>\n",
       "      <td>NaN</td>\n",
       "      <td>prime_ministers</td>\n",
       "      <td>...</td>\n",
       "      <td>0</td>\n",
       "      <td>0</td>\n",
       "      <td>0</td>\n",
       "      <td>0</td>\n",
       "      <td>0</td>\n",
       "      <td>0</td>\n",
       "      <td>0</td>\n",
       "      <td>0</td>\n",
       "      <td>0</td>\n",
       "      <td>2022-01-10</td>\n",
       "    </tr>\n",
       "    <tr>\n",
       "      <th>1</th>\n",
       "      <td>962820603995672577</td>\n",
       "      <td>Eduard Heger</td>\n",
       "      <td>eduardheger</td>\n",
       "      <td>1470485614252466179</td>\n",
       "      <td>60</td>\n",
       "      <td>18</td>\n",
       "      <td>Ahead of the V4-France Summit I talked to @Emm...</td>\n",
       "      <td>[EmmanuelMacron, Europe2022FR]</td>\n",
       "      <td>NaN</td>\n",
       "      <td>prime_ministers</td>\n",
       "      <td>...</td>\n",
       "      <td>0</td>\n",
       "      <td>0</td>\n",
       "      <td>0</td>\n",
       "      <td>0</td>\n",
       "      <td>0</td>\n",
       "      <td>0</td>\n",
       "      <td>1</td>\n",
       "      <td>0</td>\n",
       "      <td>0</td>\n",
       "      <td>2021-12-13</td>\n",
       "    </tr>\n",
       "    <tr>\n",
       "      <th>2</th>\n",
       "      <td>1498076587</td>\n",
       "      <td>ECR Party</td>\n",
       "      <td>ECRparty</td>\n",
       "      <td>1263448354287235076</td>\n",
       "      <td>0</td>\n",
       "      <td>0</td>\n",
       "      <td>“The only way to achieve energy independence i...</td>\n",
       "      <td>[]</td>\n",
       "      <td>NaN</td>\n",
       "      <td>europarties</td>\n",
       "      <td>...</td>\n",
       "      <td>0</td>\n",
       "      <td>1</td>\n",
       "      <td>0</td>\n",
       "      <td>0</td>\n",
       "      <td>0</td>\n",
       "      <td>0</td>\n",
       "      <td>0</td>\n",
       "      <td>0</td>\n",
       "      <td>0</td>\n",
       "      <td>2020-05-21</td>\n",
       "    </tr>\n",
       "    <tr>\n",
       "      <th>3</th>\n",
       "      <td>1498076587</td>\n",
       "      <td>ECR Party</td>\n",
       "      <td>ECRparty</td>\n",
       "      <td>1262293314033856513</td>\n",
       "      <td>5</td>\n",
       "      <td>2</td>\n",
       "      <td>Swedish MEP @JessicaStegrud has written in @Ne...</td>\n",
       "      <td>[JessicaStegrud, New_Europe]</td>\n",
       "      <td>NaN</td>\n",
       "      <td>europarties</td>\n",
       "      <td>...</td>\n",
       "      <td>0</td>\n",
       "      <td>0</td>\n",
       "      <td>0</td>\n",
       "      <td>0</td>\n",
       "      <td>0</td>\n",
       "      <td>0</td>\n",
       "      <td>1</td>\n",
       "      <td>0</td>\n",
       "      <td>0</td>\n",
       "      <td>2020-05-18</td>\n",
       "    </tr>\n",
       "    <tr>\n",
       "      <th>4</th>\n",
       "      <td>2152547844</td>\n",
       "      <td>ECPM</td>\n",
       "      <td>ECPM_official</td>\n",
       "      <td>790917675241369600</td>\n",
       "      <td>0</td>\n",
       "      <td>0</td>\n",
       "      <td>#ECPM MEP @BasBelderMEP points out important o...</td>\n",
       "      <td>[BasBelderMEP]</td>\n",
       "      <td>NaN</td>\n",
       "      <td>europarties</td>\n",
       "      <td>...</td>\n",
       "      <td>0</td>\n",
       "      <td>0</td>\n",
       "      <td>0</td>\n",
       "      <td>0</td>\n",
       "      <td>0</td>\n",
       "      <td>0</td>\n",
       "      <td>0</td>\n",
       "      <td>1</td>\n",
       "      <td>0</td>\n",
       "      <td>2016-10-25</td>\n",
       "    </tr>\n",
       "  </tbody>\n",
       "</table>\n",
       "<p>5 rows × 27 columns</p>\n",
       "</div>"
      ],
      "text/plain": [
       "              user.id     user.name user.screen_name                   id  \\\n",
       "0  962820603995672577  Eduard Heger      eduardheger  1480502771250049028   \n",
       "1  962820603995672577  Eduard Heger      eduardheger  1470485614252466179   \n",
       "2          1498076587     ECR Party         ECRparty  1263448354287235076   \n",
       "3          1498076587     ECR Party         ECRparty  1262293314033856513   \n",
       "4          2152547844          ECPM    ECPM_official   790917675241369600   \n",
       "\n",
       "   favorite_count  retweet_count  \\\n",
       "0              20              8   \n",
       "1              60             18   \n",
       "2               0              0   \n",
       "3               5              2   \n",
       "4               0              0   \n",
       "\n",
       "                                                text  \\\n",
       "0  Congratulations to @MinPres Rutte &amp; his 4t...   \n",
       "1  Ahead of the V4-France Summit I talked to @Emm...   \n",
       "2  “The only way to achieve energy independence i...   \n",
       "3  Swedish MEP @JessicaStegrud has written in @Ne...   \n",
       "4  #ECPM MEP @BasBelderMEP points out important o...   \n",
       "\n",
       "                         mentions retweeted         category  ...  \\\n",
       "0                 [MinPres, NATO]       NaN  prime_ministers  ...   \n",
       "1  [EmmanuelMacron, Europe2022FR]       NaN  prime_ministers  ...   \n",
       "2                              []       NaN      europarties  ...   \n",
       "3    [JessicaStegrud, New_Europe]       NaN      europarties  ...   \n",
       "4                  [BasBelderMEP]       NaN      europarties  ...   \n",
       "\n",
       "  nuclear_risks_regulations  ukraine_russia  investment_and_industry  \\\n",
       "0                         0               0                        0   \n",
       "1                         0               0                        0   \n",
       "2                         0               1                        0   \n",
       "3                         0               0                        0   \n",
       "4                         0               0                        0   \n",
       "\n",
       "   expert_opinion  activism_calls_to_action  other_energy_sources  \\\n",
       "0               0                         0                     0   \n",
       "1               0                         0                     0   \n",
       "2               0                         0                     0   \n",
       "3               0                         0                     0   \n",
       "4               0                         0                     0   \n",
       "\n",
       "   member_states  irrelevant  unclassified        date  \n",
       "0              0           0             0  2022-01-10  \n",
       "1              1           0             0  2021-12-13  \n",
       "2              0           0             0  2020-05-21  \n",
       "3              1           0             0  2020-05-18  \n",
       "4              0           1             0  2016-10-25  \n",
       "\n",
       "[5 rows x 27 columns]"
      ]
     },
     "execution_count": 39,
     "metadata": {},
     "output_type": "execute_result"
    }
   ],
   "source": [
    "# apply the datetime function and delete the created_at varaible, as .xlsx can't contain timezone data\n",
    "df_2['date'] = df_2['created_at'].apply(short_date)\n",
    "\n",
    "df_2 = df_2.drop(['created_at'], axis=1)\n",
    "\n",
    "df_2.head(5)"
   ]
  },
  {
   "cell_type": "code",
   "execution_count": null,
   "metadata": {
    "cell_id": "a225518321444fafbfae0c126b73ac39",
    "deepnote_cell_height": 118.1875,
    "deepnote_cell_type": "code",
    "deepnote_to_be_reexecuted": false,
    "execution_millis": 2,
    "execution_start": 1654513846732,
    "source_hash": "62190022",
    "tags": []
   },
   "outputs": [
    {
     "data": {
      "text/plain": [
       "7938"
      ]
     },
     "execution_count": 40,
     "metadata": {},
     "output_type": "execute_result"
    }
   ],
   "source": [
    "len(df_2)"
   ]
  },
  {
   "cell_type": "code",
   "execution_count": null,
   "metadata": {
    "cell_id": "d829b52538694046b46b4f9e29eb7541",
    "deepnote_cell_height": 81,
    "deepnote_cell_type": "code",
    "deepnote_to_be_reexecuted": true,
    "execution_millis": 8627,
    "execution_start": 1654355000667,
    "source_hash": "406834e6",
    "tags": []
   },
   "outputs": [],
   "source": [
    "df_2.to_excel('classified_tweets_v4.xlsx')"
   ]
  },
  {
   "cell_type": "code",
   "execution_count": null,
   "metadata": {
    "cell_id": "f2c04dca67ad46f7b4189a2453909825",
    "deepnote_cell_height": 424.1875,
    "deepnote_cell_type": "code",
    "deepnote_table_loading": false,
    "deepnote_table_state": {
     "filters": [],
     "pageIndex": 789,
     "pageSize": 10,
     "sortBy": []
    },
    "deepnote_to_be_reexecuted": false,
    "execution_millis": 130,
    "execution_start": 1654514136604,
    "source_hash": "3e19cd40",
    "tags": []
   },
   "outputs": [
    {
     "data": {
      "text/plain": [
       "sustainable_nuclear           174\n",
       "expert_opinion                252\n",
       "greenwashing                  373\n",
       "nuclear_risks_regulations     533\n",
       "activism_calls_to_action      538\n",
       "irrelevant                    798\n",
       "unclassified                  822\n",
       "finance_energy_crisis         856\n",
       "eu_entities                  1289\n",
       "ukraine_russia               1314\n",
       "eu_taxonomy_green_deal       1666\n",
       "energy_transition            1774\n",
       "investment_and_industry      1798\n",
       "member_states                1809\n",
       "other_energy_sources         2131\n",
       "dtype: int64"
      ]
     },
     "execution_count": 50,
     "metadata": {},
     "output_type": "execute_result"
    }
   ],
   "source": [
    "topic_dist_2 = df_2.sum(numeric_only = True).sort_values(ascending = True)[:-4]\n",
    "topic_dist_2"
   ]
  },
  {
   "cell_type": "code",
   "execution_count": null,
   "metadata": {
    "cell_id": "a565d61500ca4d22bfe5e130c2c05fd3",
    "deepnote_cell_height": 559,
    "deepnote_cell_type": "code",
    "deepnote_output_heights": [
     372
    ],
    "deepnote_to_be_reexecuted": false,
    "execution_millis": 1267,
    "execution_start": 1654514140363,
    "source_hash": "70870b48",
    "tags": []
   },
   "outputs": [
    {
     "data": {
      "image/png": "[encoded data removed]",
      "text/plain": [
       "<Figure size 720x432 with 1 Axes>"
      ]
     },
     "metadata": {
      "image/png": {
       "height": 370,
       "width": 703
      },
      "needs_background": "light"
     },
     "output_type": "display_data"
    }
   ],
   "source": [
    "plt.figure(figsize = (10,6))\n",
    "topic_dist_2.plot(kind = 'barh')\n",
    "plt.title('Number of tweets within each category')\n",
    "sns.despine(bottom = True)\n",
    "\n",
    "plt.show()"
   ]
  },
  {
   "cell_type": "markdown",
   "metadata": {
    "created_in_deepnote_cell": true,
    "deepnote_cell_type": "markdown",
    "tags": []
   },
   "source": [
    "<a style='text-decoration:none;line-height:16px;display:flex;color:#5B5B62;padding:10px;justify-content:end;' href='https://deepnote.com?utm_source=created-in-deepnote-cell&projectId=83a05b10-68f2-47cd-90b2-acf816447dd2' target=\"_blank\">\n",
    "<img alt='Created in deepnote.com' style='display:inline;max-height:16px;margin:0px;margin-right:7.5px;' src='data:image/svg+xml;base64,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' > </img>\n",
    "Created in <span style='font-weight:600;margin-left:4px;'>Deepnote</span></a>"
   ]
  }
 ],
 "metadata": {
  "deepnote": {},
  "deepnote_execution_queue": [],
  "deepnote_notebook_id": "20d2a221-4776-4c42-9e57-63e236941352",
  "kernelspec": {
   "display_name": "Python 3.9.1 64-bit",
   "language": "python",
   "name": "python3"
  },
  "language_info": {
   "codemirror_mode": {
    "name": "ipython",
    "version": 3
   },
   "file_extension": ".py",
   "mimetype": "text/x-python",
   "name": "python",
   "nbconvert_exporter": "python",
   "pygments_lexer": "ipython3",
   "version": "3.9.1"
  },
  "orig_nbformat": 2,
  "vscode": {
   "interpreter": {
    "hash": "aee8b7b246df8f9039afb4144a1f6fd8d2ca17a180786b69acc140d282b71a49"
   }
  }
 },
 "nbformat": 4,
 "nbformat_minor": 2
}
