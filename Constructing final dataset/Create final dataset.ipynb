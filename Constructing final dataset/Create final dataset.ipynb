{
 "cells": [
  {
   "cell_type": "code",
   "execution_count": 2,
   "metadata": {
    "cell_id": "f73d53824b8041d88df2f324c42d8d9e",
    "deepnote_cell_height": 171,
    "deepnote_cell_type": "code",
    "deepnote_to_be_reexecuted": false,
    "execution_millis": 25,
    "execution_start": 1655040984103,
    "source_hash": "3d1ebf61",
    "tags": []
   },
   "outputs": [],
   "source": [
    "from collections import namedtuple\n",
    "import pickle\n",
    "import re\n",
    "import numpy as np\n",
    "import pandas as pd\n",
    "import datetime"
   ]
  },
  {
   "cell_type": "code",
   "execution_count": 3,
   "metadata": {
    "cell_id": "25f6b36a551b4def9c22ea1925d8115a",
    "deepnote_cell_height": 81,
    "deepnote_cell_type": "code",
    "deepnote_to_be_reexecuted": false,
    "execution_millis": 4,
    "execution_start": 1655040989535,
    "source_hash": "c323573b",
    "tags": []
   },
   "outputs": [],
   "source": [
    "ExtendedUser = namedtuple('extended_user', ['user', 'tweets'])"
   ]
  },
  {
   "cell_type": "code",
   "execution_count": 4,
   "metadata": {
    "cell_id": "c32315f0-e7dd-4813-ae4e-9858689cdbeb",
    "deepnote_cell_height": 117,
    "deepnote_cell_type": "code",
    "deepnote_to_be_reexecuted": false,
    "execution_millis": 7837,
    "execution_start": 1655040990821,
    "source_hash": "e4329b9f",
    "tags": []
   },
   "outputs": [],
   "source": [
    "pickle_file = '../Data/extended_users_attempt3.p'\n",
    "with open(pickle_file, 'rb') as f:\n",
    "    extended_users = [ExtendedUser(user, tweets) for user,tweets in pickle.load(f)]"
   ]
  },
  {
   "cell_type": "code",
   "execution_count": 5,
   "metadata": {
    "cell_id": "074200dba2c144229dbd60f42f4a1810",
    "deepnote_cell_height": 261,
    "deepnote_cell_type": "code",
    "deepnote_to_be_reexecuted": false,
    "execution_millis": 39,
    "execution_start": 1655041006042,
    "source_hash": "4f68c74c",
    "tags": []
   },
   "outputs": [],
   "source": [
    "actor_types = pd.read_csv('../Data/Categorized actors.csv')\n",
    "def collapse_categories(category):\n",
    "    if category in ['meps', 'europarties']:\n",
    "        return 'meps & europarties'\n",
    "    elif category in ['politicians', 'prime_ministers', 'climate_ministers', 'eu_commissioners']:\n",
    "        return 'assorted politicians'\n",
    "    elif category in ['eu departments', 'governmental institutions']:\n",
    "        return 'public institutions'\n",
    "    else:\n",
    "        return category\n",
    "actor_types['collapsed_category'] = actor_types.category.apply(collapse_categories)"
   ]
  },
  {
   "cell_type": "code",
   "execution_count": 21,
   "metadata": {
    "cell_id": "cd6231c3dfb4470ba605ae8984b173e5",
    "deepnote_cell_height": 801,
    "deepnote_cell_type": "code",
    "deepnote_to_be_reexecuted": false,
    "execution_millis": 7941,
    "execution_start": 1655041808941,
    "source_hash": "dc36d0b",
    "tags": []
   },
   "outputs": [],
   "source": [
    "status_categories = [\n",
    "    'user.id',\n",
    "    'user.name',\n",
    "    'user.screen_name',\n",
    "    'user.location',\n",
    "    'id', \n",
    "    'created_at', \n",
    "    'favorite_count',\n",
    "    'retweet_count',\n",
    "    'entities[\"user_mentions\"]',\n",
    "    'is_quote_status',\n",
    "    'lang'\n",
    "    ]\n",
    "\n",
    "dict_tweets = {c:[] for c in status_categories}\n",
    "dict_tweets['text'] = []\n",
    "dict_tweets['retweeted'] = []\n",
    "for eu in extended_users:\n",
    "    for tweet in eu.tweets:\n",
    "        for c in status_categories:\n",
    "            dict_tweets[c].append(eval('tweet.'+c))\n",
    "        try:\n",
    "            text = tweet.retweeted_status.full_text\n",
    "            retweeted = tweet.retweeted_status.user.screen_name\n",
    "        except AttributeError: # If tweet is not a retweet\n",
    "            text = tweet.full_text\n",
    "            retweeted = np.nan\n",
    "        dict_tweets['text'].append(text)\n",
    "        dict_tweets['retweeted'].append(retweeted)\n",
    "\n",
    "df_tweets = pd.DataFrame(dict_tweets)\n",
    "df_tweets['mentions'] = [[u['screen_name'] for u in us] for us in df_tweets['entities[\"user_mentions\"]']]\n",
    "df_tweets['mentions'] = df_tweets.apply(\n",
    "    lambda x: [mention for mention in x.mentions if mention!=x.retweeted], axis=1\n",
    ")\n",
    "df_tweets = df_tweets.merge(actor_types, how = 'inner', left_on='user.screen_name', right_on='usernames')\n",
    "df_tweets = df_tweets[df_tweets.lang == 'en']\n",
    "df_tweets.drop(['usernames', 'entities[\"user_mentions\"]', 'lang'], axis=1, inplace=True)\n",
    "\n",
    "pickle.dump(\n",
    "    df_tweets,\n",
    "    open(\"../Data/df_tweets_selected_users.p\", \"wb\") \n",
    ")\n",
    "pickle.dump(\n",
    "    df_tweets[df_tweets.created_at >= '2021-10-01'],\n",
    "    open(\"../Data/df_tweets_selected_users_after_oct.p\", \"wb\")\n",
    ")"
   ]
  },
  {
   "cell_type": "markdown",
   "metadata": {
    "created_in_deepnote_cell": true,
    "deepnote_cell_type": "markdown",
    "tags": []
   },
   "source": [
    "<a style='text-decoration:none;line-height:16px;display:flex;color:#5B5B62;padding:10px;justify-content:end;' href='https://deepnote.com?utm_source=created-in-deepnote-cell&projectId=83a05b10-68f2-47cd-90b2-acf816447dd2' target=\"_blank\">\n",
    "<img alt='Created in deepnote.com' style='display:inline;max-height:16px;margin:0px;margin-right:7.5px;' src='data:image/svg+xml;base64,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' > </img>\n",
    "Created in <span style='font-weight:600;margin-left:4px;'>Deepnote</span></a>"
   ]
  }
 ],
 "metadata": {
  "deepnote": {},
  "deepnote_execution_queue": [],
  "deepnote_notebook_id": "3a07ee9c-3435-49a9-9bd8-9e42e5a6904a",
  "language_info": {
   "name": "python"
  },
  "orig_nbformat": 2
 },
 "nbformat": 4,
 "nbformat_minor": 2
}
