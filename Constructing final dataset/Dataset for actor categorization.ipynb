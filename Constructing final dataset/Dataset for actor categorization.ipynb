{
 "cells": [
  {
   "cell_type": "code",
   "execution_count": null,
   "metadata": {
    "cell_id": "912c30563e834896ba23cde802e71fee",
    "deepnote_cell_height": 153,
    "deepnote_cell_type": "code",
    "deepnote_to_be_reexecuted": false,
    "execution_millis": 2996557,
    "execution_start": 1654544216213,
    "source_hash": "90c3b80c",
    "tags": []
   },
   "outputs": [],
   "source": [
    "from collections import namedtuple\n",
    "import pickle\n",
    "import re\n",
    "import numpy as np\n",
    "import pandas as pd"
   ]
  },
  {
   "cell_type": "code",
   "execution_count": null,
   "metadata": {
    "cell_id": "8478a5867171495cac379ce77824fe1b",
    "deepnote_cell_height": 81,
    "deepnote_cell_type": "code",
    "deepnote_to_be_reexecuted": false,
    "execution_millis": 0,
    "execution_start": 1654544239559,
    "owner_user_id": "93d39cc7-b600-4a54-bb78-2893993bd5bc",
    "source_hash": "c323573b",
    "tags": []
   },
   "outputs": [],
   "source": [
    "ExtendedUser = namedtuple('extended_user', ['user', 'tweets'])"
   ]
  },
  {
   "cell_type": "code",
   "execution_count": null,
   "metadata": {
    "cell_id": "cbfb155d-f8b8-4c85-853d-29c52c843769",
    "deepnote_cell_height": 259.078125,
    "deepnote_cell_type": "code",
    "deepnote_to_be_reexecuted": false,
    "execution_millis": 2838,
    "execution_start": 1654544243786,
    "source_hash": "b5eed0e4",
    "tags": []
   },
   "outputs": [
    {
     "name": "stdout",
     "output_type": "stream",
     "text": [
      "n_users: 3895\n",
      "n_tweets: 15713\n",
      "n_unique_tweets: 10536\n"
     ]
    }
   ],
   "source": [
    "pickle_file = '../Data/extended_users_attempt3.p'\n",
    "with open(pickle_file, 'rb') as f:\n",
    "    extended_users = [ExtendedUser(user, tweets) for user,tweets in pickle.load(f)]\n",
    "print(f'n_users: {len(extended_users)}',\n",
    "      f'n_tweets: {sum(len(eu.tweets) for eu in extended_users)}',\n",
    "      f'n_unique_tweets: {len([tweet for eu in extended_users for tweet in eu.tweets if tweet.full_text[:4] != \"RT @\"])}',\n",
    "      sep=\"\\n\")"
   ]
  },
  {
   "cell_type": "code",
   "execution_count": null,
   "metadata": {
    "cell_id": "93d1638df4664710b275d244b8de5a46",
    "deepnote_cell_height": 117,
    "deepnote_cell_type": "code",
    "deepnote_to_be_reexecuted": false,
    "execution_millis": 3,
    "execution_start": 1654544249337,
    "source_hash": "c4060f5a",
    "tags": []
   },
   "outputs": [],
   "source": [
    "# Initial actor list (screen names)\n",
    "with open('../Data/actor_list.txt', 'r') as f:\n",
    "    initial_actor_list = [line.rstrip('\\n') for line in f]"
   ]
  },
  {
   "cell_type": "code",
   "execution_count": null,
   "metadata": {
    "cell_id": "486de3e1367f46f6bb2d488a9d8375b3",
    "deepnote_cell_height": 117,
    "deepnote_cell_type": "code",
    "deepnote_to_be_reexecuted": false,
    "execution_millis": 2,
    "execution_start": 1654544253805,
    "source_hash": "5b37346a",
    "tags": []
   },
   "outputs": [],
   "source": [
    "# Users already classified but not in initial actor list (display names)\n",
    "with open('../Data/already_classified.txt', 'r') as f:\n",
    "    already_classified = [line.rstrip('\\n') for line in f]"
   ]
  },
  {
   "cell_type": "code",
   "execution_count": null,
   "metadata": {
    "cell_id": "13ee263df78a4a9593373438cf36240c",
    "deepnote_cell_height": 153,
    "deepnote_cell_type": "code",
    "deepnote_to_be_reexecuted": false,
    "execution_millis": 53,
    "execution_start": 1654544255286,
    "source_hash": "c5c63106",
    "tags": []
   },
   "outputs": [],
   "source": [
    "# Remove retweets\n",
    "extended_users_RT_removed = [ExtendedUser(eu.user, \n",
    "                                         [tweet for tweet in eu.tweets if tweet.full_text[:4] != \"RT @\"]\n",
    "                                         ) for eu in extended_users\n",
    "                            ]"
   ]
  },
  {
   "cell_type": "code",
   "execution_count": null,
   "metadata": {
    "cell_id": "74526ecb44c6419991c4a50a228f9ace",
    "deepnote_cell_height": 237.6875,
    "deepnote_cell_type": "code",
    "deepnote_to_be_reexecuted": false,
    "execution_millis": 21,
    "execution_start": 1654544257127,
    "source_hash": "7fb1d84e",
    "tags": []
   },
   "outputs": [
    {
     "name": "stdout",
     "output_type": "stream",
     "text": [
      "1072\n"
     ]
    }
   ],
   "source": [
    "# Filter (non-classified) actors based on inclusion criteria\n",
    "extended_users_filtered = [\n",
    "     eu for eu in extended_users_RT_removed if len(eu.tweets) >= 1\n",
    "     and eu.user.followers_count >= 1000\n",
    "     and eu.user.screen_name not in initial_actor_list\n",
    "     and eu.user.screen_name not in already_classified\n",
    "     ]\n",
    "print( len(extended_users_filtered) )"
   ]
  },
  {
   "cell_type": "code",
   "execution_count": null,
   "metadata": {
    "cell_id": "ccf7fdfc6e484faaa2c3c2443c750a72",
    "deepnote_cell_height": 516,
    "deepnote_cell_type": "code",
    "tags": []
   },
   "outputs": [],
   "source": [
    "# Dividing dataset into four datasets with actors to be categorized \n",
    "column_names = columns=['User name', 'Display name', 'Number of tweets', 'Number of followers', 'Description', 'Profile link']\n",
    "\n",
    "users_list = [\n",
    "    (\n",
    "    eu.user.screen_name, \n",
    "    eu.user.name,\n",
    "    len(eu.tweets),\n",
    "    eu.user.followers_count,\n",
    "    eu.user.description,\n",
    "    'twitter.com/'+eu.user.screen_name\n",
    "    ) \n",
    "for eu in extended_users_filtered]\n",
    "users_df = pd.DataFrame(sorted(users_list, reverse=True, key=lambda x: x[2]), columns=column_names)\n",
    "\n",
    "n_dfs = 4\n",
    "dfs = [pd.DataFrame(columns=column_names) for i in range(n_dfs)]\n",
    "\n",
    "i = 0\n",
    "for _, user in users_df.iterrows():\n",
    "    dfs[i] = dfs[i].append(user)\n",
    "    i += 1\n",
    "    if i == 4:\n",
    "        i = 0\n",
    "for i, df in enumerate(dfs):\n",
    "    df.to_csv('cache/df'+str(i+1)+'.csv')"
   ]
  },
  {
   "cell_type": "markdown",
   "metadata": {
    "created_in_deepnote_cell": true,
    "deepnote_cell_type": "markdown",
    "tags": []
   },
   "source": [
    "<a style='text-decoration:none;line-height:16px;display:flex;color:#5B5B62;padding:10px;justify-content:end;' href='https://deepnote.com?utm_source=created-in-deepnote-cell&projectId=83a05b10-68f2-47cd-90b2-acf816447dd2' target=\"_blank\">\n",
    "<img alt='Created in deepnote.com' style='display:inline;max-height:16px;margin:0px;margin-right:7.5px;' src='data:image/svg+xml;base64,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' > </img>\n",
    "Created in <span style='font-weight:600;margin-left:4px;'>Deepnote</span></a>"
   ]
  }
 ],
 "metadata": {
  "deepnote": {},
  "deepnote_execution_queue": [],
  "deepnote_notebook_id": "54df3d80-3560-4286-a828-a0ebf9d536fa",
  "language_info": {
   "name": "python"
  },
  "orig_nbformat": 2
 },
 "nbformat": 4,
 "nbformat_minor": 2
}
