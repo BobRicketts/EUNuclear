{
 "cells": [
  {
   "cell_type": "markdown",
   "metadata": {
    "cell_id": "fabe231dfe8744dea922df32a33e8645",
    "deepnote_cell_height": 82,
    "deepnote_cell_type": "markdown",
    "tags": []
   },
   "source": [
    "# Word2Vec model development"
   ]
  },
  {
   "cell_type": "markdown",
   "metadata": {
    "cell_id": "6ad2c5c6f8624c069ac9839b5147d762",
    "deepnote_cell_height": 70,
    "deepnote_cell_type": "markdown",
    "tags": []
   },
   "source": [
    "## Imports"
   ]
  },
  {
   "cell_type": "code",
   "execution_count": null,
   "metadata": {
    "cell_id": "5ed9da8c-c568-4d02-bfe4-9feafe247463",
    "deepnote_cell_height": 842.96875,
    "deepnote_cell_type": "code",
    "deepnote_to_be_reexecuted": false,
    "execution_millis": 11322,
    "execution_start": 1652957353283,
    "source_hash": "e0a66095",
    "tags": []
   },
   "outputs": [
    {
     "name": "stderr",
     "output_type": "stream",
     "text": [
      "[nltk_data] Downloading package punkt to /root/nltk_data...\n",
      "[nltk_data]   Unzipping tokenizers/punkt.zip.\n",
      "/shared-libs/python3.7/py/lib/python3.7/site-packages/tqdm/auto.py:22: TqdmWarning: IProgress not found. Please update jupyter and ipywidgets. See https://ipywidgets.readthedocs.io/en/stable/user_install.html\n",
      "  from .autonotebook import tqdm as notebook_tqdm\n",
      "INFO - 10:49:23: generated new fontManager\n"
     ]
    }
   ],
   "source": [
    "# Preprocessing\n",
    "import re\n",
    "import nltk\n",
    "from nltk.tokenize import word_tokenize\n",
    "nltk.download('punkt')\n",
    "import spacy\n",
    "from spacy.lang.en.examples import sentences\n",
    "\n",
    "# Data wrangling & timing\n",
    "import pandas as pd\n",
    "from time import time\n",
    "from collections import defaultdict\n",
    "\n",
    "# Word2Vec\n",
    "import multiprocessing\n",
    "from gensim.models.word2vec import Word2Vec\n",
    "from gensim.models.phrases import Phrases, Phraser\n",
    "\n",
    "# Loggings to monitor Word2vec modeling\n",
    "import logging\n",
    "logging.basicConfig(format='%(levelname)s - %(asctime)s: %(message)s', datefmt= '%H:%M:%S', level=logging.INFO)\n",
    "\n",
    "# Timing\n",
    "from tqdm import tqdm\n",
    "\n",
    "# Visualisation\n",
    "import numpy as np\n",
    "import matplotlib.pyplot as plt\n",
    "%matplotlib inline\n",
    " \n",
    "import seaborn as sns\n",
    "sns.set_style('whitegrid')\n",
    "\n",
    "from sklearn.decomposition import PCA\n",
    "from sklearn.manifold import TSNE\n",
    "\n",
    "import pickle"
   ]
  },
  {
   "cell_type": "markdown",
   "metadata": {
    "cell_id": "db532baf00774bdfab7aabcc9d6e9a0b",
    "deepnote_cell_height": 70,
    "deepnote_cell_type": "markdown",
    "tags": []
   },
   "source": [
    "## Preprocessing"
   ]
  },
  {
   "cell_type": "code",
   "execution_count": null,
   "metadata": {
    "cell_id": "9d2fcd08597344dfaa94b8b1546d01e0",
    "deepnote_cell_height": 172.1875,
    "deepnote_cell_type": "code",
    "deepnote_to_be_reexecuted": false,
    "execution_millis": 76,
    "execution_start": 1652957364634,
    "source_hash": "f7cfdab8",
    "tags": []
   },
   "outputs": [
    {
     "data": {
      "text/plain": [
       "9829"
      ]
     },
     "execution_count": 4,
     "metadata": {},
     "output_type": "execute_result"
    }
   ],
   "source": [
    "with open('../Data/tweet_df_attempt3.p', 'rb') as f: \n",
    "    data = pickle.load(f)\n",
    "    \n",
    "len(data)"
   ]
  },
  {
   "cell_type": "code",
   "execution_count": null,
   "metadata": {
    "cell_id": "49a72081b5f14c798b1119a216f7b282",
    "deepnote_cell_height": 172.1875,
    "deepnote_cell_type": "code",
    "deepnote_to_be_reexecuted": false,
    "execution_millis": 9,
    "execution_start": 1652957364717,
    "source_hash": "d2df304d",
    "tags": []
   },
   "outputs": [
    {
     "data": {
      "text/plain": [
       "6598"
      ]
     },
     "execution_count": 5,
     "metadata": {},
     "output_type": "execute_result"
    }
   ],
   "source": [
    "s_tweets = data['full_text'].drop_duplicates() # remove duplicates\n",
    "s_tweets = s_tweets[~s_tweets.str.contains('RT')] # remove retweets\n",
    "\n",
    "len(s_tweets)"
   ]
  },
  {
   "cell_type": "code",
   "execution_count": null,
   "metadata": {
    "cell_id": "a69e10de2d7145bf9db02f86b22aa781",
    "deepnote_cell_height": 153,
    "deepnote_cell_type": "code",
    "deepnote_to_be_reexecuted": false,
    "execution_millis": 1,
    "execution_start": 1652957364776,
    "source_hash": "ce38990a",
    "tags": []
   },
   "outputs": [],
   "source": [
    "# Define RegEx patterns for cleaning\n",
    "twitter_pattern = r'@[a-zA-Z0-9_]{1,16}'                 # Remove twitter handles\n",
    "retweet_pattern = r'RT'                                  # Remove retweet indicators\n",
    "short_URL_pattern = r'https:\\/\\/t\\.co\\/[a-zA-Z0-9\\-\\.]+' # Remove shortened \"https://t.co/...\" Twitter URLs\n",
    "other_URL_pattern = r'https:\\/\\/[A-z0-9?\\.\\/-_=!]+'      # Remove other URLs"
   ]
  },
  {
   "cell_type": "code",
   "execution_count": null,
   "metadata": {
    "cell_id": "158908501ea245f6a08d089a6a256ad8",
    "deepnote_cell_height": 171,
    "deepnote_cell_type": "code",
    "deepnote_to_be_reexecuted": false,
    "execution_millis": 0,
    "execution_start": 1652957364777,
    "source_hash": "70d0434d",
    "tags": []
   },
   "outputs": [],
   "source": [
    "pattern_list = [\n",
    "    twitter_pattern,\n",
    "    retweet_pattern,\n",
    "    short_URL_pattern,\n",
    "    other_URL_pattern\n",
    "    ]"
   ]
  },
  {
   "cell_type": "code",
   "execution_count": null,
   "metadata": {
    "cell_id": "4fe17b207770461fbb3ffd5fecd9cf4a",
    "deepnote_cell_height": 117,
    "deepnote_cell_type": "code",
    "deepnote_to_be_reexecuted": false,
    "execution_millis": 43,
    "execution_start": 1652957364778,
    "owner_user_id": "c901f93b-c574-4d0b-981d-902b75cfc9d4",
    "source_hash": "3c78ae52",
    "tags": []
   },
   "outputs": [],
   "source": [
    "# Apply patterns\n",
    "for pattern in pattern_list:\n",
    "    s_tweets = s_tweets.str.replace(pattern, '', regex = True)"
   ]
  },
  {
   "cell_type": "code",
   "execution_count": null,
   "metadata": {
    "cell_id": "018920237fee4b3391ec04565beb4d37",
    "deepnote_cell_height": 405,
    "deepnote_cell_type": "code",
    "deepnote_to_be_reexecuted": false,
    "execution_millis": 963,
    "execution_start": 1652957364821,
    "source_hash": "42311224",
    "tags": []
   },
   "outputs": [],
   "source": [
    "# Set up English SpaCy pipeline for preprocessing\n",
    "nlp = spacy.load(\n",
    "    'en_core_web_sm',\n",
    "    disable = ['ner', 'parser'] # disabling Named Entity Recognition for speed\n",
    ")\n",
    "\n",
    "def cleaning(doc):\n",
    "    '''\n",
    "    Lemmatizes and removes stopwords.\n",
    "    Doc needs to be a spacy Doc object\n",
    "    '''\n",
    "    \n",
    "    txt = [token.lemma_ for token in doc if not token.is_stop]\n",
    "    \n",
    "    # Word2Vec uses context words to learn the vector representation of a target word,\n",
    "    # if a sentence is only one or two words long,\n",
    "    # the benefit for the training is very small\n",
    "    if len(txt) > 2:\n",
    "        return ' '.join(txt)"
   ]
  },
  {
   "cell_type": "code",
   "execution_count": null,
   "metadata": {
    "cell_id": "8b9c513ab21448388b24663dc9afb813",
    "deepnote_cell_height": 99,
    "deepnote_cell_type": "code",
    "deepnote_to_be_reexecuted": false,
    "execution_millis": 3,
    "execution_start": 1652957365794,
    "source_hash": "d4aa5d71",
    "tags": []
   },
   "outputs": [],
   "source": [
    "# Remove non-alphabetic characters\n",
    "brief_cleaning = (re.sub(\"[^A-Za-z]+\", ' ', str(tweet)).lower() for tweet in s_tweets)"
   ]
  },
  {
   "cell_type": "code",
   "execution_count": null,
   "metadata": {
    "cell_id": "e4d31559ebe7450eb1161c9c19f287c4",
    "deepnote_cell_height": 241.078125,
    "deepnote_cell_type": "code",
    "deepnote_to_be_reexecuted": false,
    "execution_millis": 24108,
    "execution_start": 1652957365804,
    "source_hash": "17c2a0ac",
    "tags": []
   },
   "outputs": [
    {
     "name": "stderr",
     "output_type": "stream",
     "text": [
      "6598it [00:24, 273.92it/s]\n",
      "Time to clean up everything: 0.4 mins\n",
      "\n"
     ]
    }
   ],
   "source": [
    "# Apply cleaning pipeline\n",
    "t = time()\n",
    "\n",
    "txt = [cleaning(doc) for doc in tqdm(nlp.pipe(brief_cleaning, batch_size = 3000))]\n",
    "\n",
    "print('\\nTime to clean up everything: {} mins'.format(round((time() - t) / 60, 2)))"
   ]
  },
  {
   "cell_type": "code",
   "execution_count": null,
   "metadata": {
    "cell_id": "db0f5a7d39aa4a7791aca04ef0cf9fca",
    "deepnote_cell_height": 81,
    "deepnote_cell_type": "code",
    "deepnote_to_be_reexecuted": false,
    "execution_millis": 1,
    "execution_start": 1652957389973,
    "source_hash": "e9fdd122",
    "tags": []
   },
   "outputs": [],
   "source": [
    "tokenised_tweets = [str(tweet).split() for tweet in txt if pd.notna(tweet)]"
   ]
  },
  {
   "cell_type": "code",
   "execution_count": null,
   "metadata": {
    "cell_id": "52a28e05ee274552abf67b13e9795e4a",
    "deepnote_cell_height": 194.96875,
    "deepnote_cell_type": "code",
    "deepnote_to_be_reexecuted": false,
    "execution_millis": 302,
    "execution_start": 1652957389974,
    "source_hash": "2a74a1a6",
    "tags": []
   },
   "outputs": [
    {
     "name": "stderr",
     "output_type": "stream",
     "text": [
      "INFO - 10:49:49: collecting all words and their counts\n",
      "INFO - 10:49:49: PROGRESS: at sentence #0, processed 0 words and 0 word types\n",
      "INFO - 10:49:50: collected 76631 token types (unigram + bigrams) from a corpus of 122342 words and 6598 sentences\n",
      "INFO - 10:49:50: merged Phrases<76631 vocab, min_count=30, threshold=10.0, max_vocab_size=40000000>\n",
      "INFO - 10:49:50: Phrases lifecycle event {'msg': 'built Phrases<76631 vocab, min_count=30, threshold=10.0, max_vocab_size=40000000> in 0.29s', 'datetime': '2022-05-19T10:49:50.240737', 'gensim': '4.2.0', 'python': '3.7.12 (default, Oct 12 2021, 03:36:26) \\n[GCC 8.3.0]', 'platform': 'Linux-5.4.95-42.163.amzn2.x86_64-x86_64-with-debian-10.11', 'event': 'created'}\n"
     ]
    }
   ],
   "source": [
    "phrases = Phrases(tokenised_tweets, min_count=30, progress_per = 10000)"
   ]
  },
  {
   "cell_type": "code",
   "execution_count": null,
   "metadata": {
    "cell_id": "a30d4c9d91bc419cae51c555b507edf3",
    "deepnote_cell_height": 135.890625,
    "deepnote_cell_type": "code",
    "deepnote_to_be_reexecuted": false,
    "execution_millis": 289,
    "execution_start": 1652957390275,
    "source_hash": "b43e6005",
    "tags": []
   },
   "outputs": [
    {
     "name": "stderr",
     "output_type": "stream",
     "text": [
      "INFO - 10:49:50: exporting phrases from Phrases<76631 vocab, min_count=30, threshold=10.0, max_vocab_size=40000000>\n",
      "INFO - 10:49:50: FrozenPhrases lifecycle event {'msg': 'exported FrozenPhrases<38 phrases, min_count=30, threshold=10.0> from Phrases<76631 vocab, min_count=30, threshold=10.0, max_vocab_size=40000000> in 0.28s', 'datetime': '2022-05-19T10:49:50.547728', 'gensim': '4.2.0', 'python': '3.7.12 (default, Oct 12 2021, 03:36:26) \\n[GCC 8.3.0]', 'platform': 'Linux-5.4.95-42.163.amzn2.x86_64-x86_64-with-debian-10.11', 'event': 'created'}\n"
     ]
    }
   ],
   "source": [
    "bigram = Phraser(phrases)"
   ]
  },
  {
   "cell_type": "code",
   "execution_count": null,
   "metadata": {
    "cell_id": "8972f5b44c95460cb0ea79b2a4af452d",
    "deepnote_cell_height": 81,
    "deepnote_cell_type": "code",
    "deepnote_to_be_reexecuted": false,
    "execution_millis": 1,
    "execution_start": 1652957390564,
    "source_hash": "f0bf8283",
    "tags": []
   },
   "outputs": [],
   "source": [
    "sentences = bigram[tokenised_tweets]"
   ]
  },
  {
   "cell_type": "markdown",
   "metadata": {
    "cell_id": "d4f2c821a900448196d11976f2e5b094",
    "deepnote_cell_height": 70,
    "deepnote_cell_type": "markdown",
    "tags": []
   },
   "source": [
    "## Word frequency"
   ]
  },
  {
   "cell_type": "code",
   "execution_count": null,
   "metadata": {
    "cell_id": "2a733238a5594b5a9fc384b13bda4d87",
    "deepnote_cell_height": 244.1875,
    "deepnote_cell_type": "code",
    "deepnote_to_be_reexecuted": false,
    "execution_millis": 366,
    "execution_start": 1652957390580,
    "source_hash": "d41bb6d7",
    "tags": []
   },
   "outputs": [
    {
     "data": {
      "text/plain": [
       "9907"
      ]
     },
     "execution_count": 16,
     "metadata": {},
     "output_type": "execute_result"
    }
   ],
   "source": [
    "word_freq = defaultdict(int)\n",
    "\n",
    "for sent in sentences:\n",
    "    \n",
    "    for i in sent:\n",
    "        word_freq[i] += 1\n",
    "        \n",
    "len(word_freq)"
   ]
  },
  {
   "cell_type": "code",
   "execution_count": null,
   "metadata": {
    "cell_id": "1d51f0b36e2a40e0a1528c594d40e1ae",
    "deepnote_cell_height": 578.875,
    "deepnote_cell_type": "code",
    "deepnote_to_be_reexecuted": false,
    "execution_millis": 121,
    "execution_start": 1652957390826,
    "source_hash": "d21096c",
    "tags": []
   },
   "outputs": [
    {
     "data": {
      "text/plain": [
       "['nuclear',\n",
       " 'eu',\n",
       " 'energy',\n",
       " 'europe',\n",
       " 's',\n",
       " 'gas',\n",
       " 'amp',\n",
       " 'european',\n",
       " 'power',\n",
       " 'taxonomy',\n",
       " 'green',\n",
       " 'new',\n",
       " 'include',\n",
       " 'eutaxonomy',\n",
       " 'need',\n",
       " 'electricity',\n",
       " 'country',\n",
       " 'reactor',\n",
       " 'climate',\n",
       " 'germany',\n",
       " 'sustainable',\n",
       " 'say',\n",
       " 'uranium',\n",
       " 'support',\n",
       " 'plan']"
      ]
     },
     "execution_count": 17,
     "metadata": {},
     "output_type": "execute_result"
    }
   ],
   "source": [
    "sorted(word_freq, key=word_freq.get, reverse=True)[:25]"
   ]
  },
  {
   "cell_type": "markdown",
   "metadata": {
    "cell_id": "fabf9ab30b7f4164be36e1f6294ca078",
    "deepnote_cell_height": 70,
    "deepnote_cell_type": "markdown",
    "tags": []
   },
   "source": [
    "## Embedding"
   ]
  },
  {
   "cell_type": "code",
   "execution_count": null,
   "metadata": {
    "cell_id": "3bf3ff5add104649b837eb0f13a4fa41",
    "deepnote_cell_height": 99,
    "deepnote_cell_type": "code",
    "deepnote_to_be_reexecuted": false,
    "execution_millis": 7127863,
    "execution_start": 1652957390841,
    "source_hash": "6239441e",
    "tags": []
   },
   "outputs": [],
   "source": [
    "# Count number of cores in machine\n",
    "cores = multiprocessing.cpu_count()"
   ]
  },
  {
   "cell_type": "code",
   "execution_count": null,
   "metadata": {
    "cell_id": "ca241b913be54f7e9d9eac4437c09c70",
    "deepnote_cell_height": 368.1875,
    "deepnote_cell_type": "code",
    "deepnote_to_be_reexecuted": false,
    "execution_millis": 2,
    "execution_start": 1652963426324,
    "source_hash": "975e8813",
    "tags": []
   },
   "outputs": [
    {
     "name": "stderr",
     "output_type": "stream",
     "text": [
      "INFO - 12:30:26: Word2Vec lifecycle event {'params': 'Word2Vec<vocab=0, vector_size=100, alpha=0.03>', 'datetime': '2022-05-19T12:30:26.276736', 'gensim': '4.2.0', 'python': '3.7.12 (default, Oct 12 2021, 03:36:26) \\n[GCC 8.3.0]', 'platform': 'Linux-5.4.95-42.163.amzn2.x86_64-x86_64-with-debian-10.11', 'event': 'created'}\n"
     ]
    }
   ],
   "source": [
    "vec_size = 100  # usually 300 is standard, but that yields very large cosine distances \n",
    "                # for pretty much all words in this small dataset\n",
    "\n",
    "nuclear2vec = Word2Vec(\n",
    "    seed = 123,\n",
    "    min_count = 5,\n",
    "    window = 2,\n",
    "    vector_size = vec_size,\n",
    "    sample = 0, \n",
    "    alpha = 0.03, \n",
    "    min_alpha = 0.0007,\n",
    "    negative = 0,\n",
    "    epochs = 10,\n",
    "    workers = cores\n",
    ")"
   ]
  },
  {
   "cell_type": "code",
   "execution_count": null,
   "metadata": {
    "cell_id": "2e15f447aa8f40f2a42240752d60fedb",
    "deepnote_cell_height": 424.53125,
    "deepnote_cell_type": "code",
    "deepnote_to_be_reexecuted": false,
    "execution_millis": 359,
    "execution_start": 1652963428139,
    "source_hash": "543e6982",
    "tags": []
   },
   "outputs": [
    {
     "name": "stderr",
     "output_type": "stream",
     "text": [
      "INFO - 12:30:28: collecting all words and their counts\n",
      "INFO - 12:30:28: PROGRESS: at sentence #0, processed 0 words, keeping 0 word types\n",
      "INFO - 12:30:28: collected 9907 word types from a corpus of 118943 raw words and 6598 sentences\n",
      "INFO - 12:30:28: Creating a fresh vocabulary\n",
      "INFO - 12:30:28: Word2Vec lifecycle event {'msg': 'effective_min_count=5 retains 2655 unique words (26.80% of original 9907, drops 7252)', 'datetime': '2022-05-19T12:30:28.437592', 'gensim': '4.2.0', 'python': '3.7.12 (default, Oct 12 2021, 03:36:26) \\n[GCC 8.3.0]', 'platform': 'Linux-5.4.95-42.163.amzn2.x86_64-x86_64-with-debian-10.11', 'event': 'prepare_vocab'}\n",
      "INFO - 12:30:28: Word2Vec lifecycle event {'msg': 'effective_min_count=5 leaves 107725 word corpus (90.57% of original 118943, drops 11218)', 'datetime': '2022-05-19T12:30:28.438741', 'gensim': '4.2.0', 'python': '3.7.12 (default, Oct 12 2021, 03:36:26) \\n[GCC 8.3.0]', 'platform': 'Linux-5.4.95-42.163.amzn2.x86_64-x86_64-with-debian-10.11', 'event': 'prepare_vocab'}\n",
      "INFO - 12:30:28: deleting the raw counts dictionary of 9907 items\n",
      "INFO - 12:30:28: sample=0 downsamples 0 most-common words\n",
      "INFO - 12:30:28: Word2Vec lifecycle event {'msg': 'downsampling leaves estimated 107725 word corpus (100.0%% of prior 107725)', 'datetime': '2022-05-19T12:30:28.477324', 'gensim': '4.2.0', 'python': '3.7.12 (default, Oct 12 2021, 03:36:26) \\n[GCC 8.3.0]', 'platform': 'Linux-5.4.95-42.163.amzn2.x86_64-x86_64-with-debian-10.11', 'event': 'prepare_vocab'}\n",
      "INFO - 12:30:28: estimated required memory for 2655 words and 100 dimensions: 2389500 bytes\n",
      "INFO - 12:30:28: resetting layer weights\n",
      "INFO - 12:30:28: Word2Vec lifecycle event {'update': False, 'trim_rule': 'None', 'datetime': '2022-05-19T12:30:28.485955', 'gensim': '4.2.0', 'python': '3.7.12 (default, Oct 12 2021, 03:36:26) \\n[GCC 8.3.0]', 'platform': 'Linux-5.4.95-42.163.amzn2.x86_64-x86_64-with-debian-10.11', 'event': 'build_vocab'}\n",
      "Time to build vocab: 0.01 mins\n"
     ]
    }
   ],
   "source": [
    "t = time()\n",
    "\n",
    "nuclear2vec.build_vocab(sentences, progress_per=10000)\n",
    "\n",
    "print('Time to build vocab: {} mins'.format(round((time() - t) / 60, 2)))"
   ]
  },
  {
   "cell_type": "code",
   "execution_count": null,
   "metadata": {
    "cell_id": "28f608d710fa4476aed46c77c346686f",
    "deepnote_cell_height": 909,
    "deepnote_cell_type": "code",
    "deepnote_to_be_reexecuted": false,
    "execution_millis": 3,
    "execution_start": 1652964648141,
    "owner_user_id": "8cf75a8b-bb84-4e86-8f47-1e138dc286dc",
    "source_hash": "36c73138",
    "tags": []
   },
   "outputs": [],
   "source": [
    "nuclear2vec_terms = { \n",
    "    'environment': {\n",
    "        'eugreendeal',\n",
    "        'green_investment',\n",
    "        'sustainable_investment'\n",
    "        },\n",
    "    'eu': {\n",
    "        'nuclearpower',\n",
    "        'energytransition',\n",
    "        'decarbonisation'\n",
    "        },\n",
    "    'sustainable': {\n",
    "        'sustainable_finance',\n",
    "        'sustainablefinance',\n",
    "        'radiation',\n",
    "        'netzero'\n",
    "        },\n",
    "    'nuclearpower': {\n",
    "        'renewables'\n",
    "        },\n",
    "    'taxonomy': {\n",
    "        'stopfakegreen',\n",
    "        'meps',\n",
    "        'mairead'\n",
    "        },\n",
    "    'lobby': {\n",
    "        'sustainablefinanceeu',\n",
    "        'leyen',\n",
    "        'chairman'\n",
    "        },\n",
    "    'europeancommission': {\n",
    "        'radioactive_waste',\n",
    "        'nuclear_waste'\n",
    "        },\n",
    "    'ukrainerussiawar': {\n",
    "        'geopolitical',\n",
    "        'russia'\n",
    "        },\n",
    "    'nuclearindustry': {\n",
    "        'netzeroneedsnuclear',\n",
    "        'iaeagc'\n",
    "        },\n",
    "    'rethinknuclear': {\n",
    "        'waste',\n",
    "        'research_reactor'\n",
    "        }\n",
    "    }"
   ]
  },
  {
   "cell_type": "code",
   "execution_count": null,
   "metadata": {
    "cell_id": "e469edc7350841fcbbc91eb8f9d5e554",
    "deepnote_cell_height": 578.875,
    "deepnote_cell_type": "code",
    "deepnote_to_be_reexecuted": false,
    "execution_millis": 15,
    "execution_start": 1652964660494,
    "source_hash": "5b618282",
    "tags": []
   },
   "outputs": [
    {
     "data": {
      "text/plain": [
       "[('waste', 0.33525562286376953),\n",
       " ('wecare', 0.31258425116539),\n",
       " ('process', 0.30842894315719604),\n",
       " ('wise', 0.28286173939704895),\n",
       " ('compliance', 0.2806806266307831),\n",
       " ('apparently', 0.2783953845500946),\n",
       " ('research_reactor', 0.27712151408195496),\n",
       " ('bind', 0.275431364774704),\n",
       " ('picture', 0.26533403992652893),\n",
       " ('crazy', 0.2638372480869293),\n",
       " ('economy', 0.26132094860076904),\n",
       " ('behalf', 0.26102545857429504),\n",
       " ('right', 0.2606754004955292),\n",
       " ('appreciate', 0.25803977251052856),\n",
       " ('finish', 0.2562810778617859),\n",
       " ('chart', 0.255765438079834),\n",
       " ('convention', 0.2500273585319519),\n",
       " ('medium', 0.24663077294826508),\n",
       " ('directive', 0.24628479778766632),\n",
       " ('conclude', 0.24444551765918732),\n",
       " ('korea', 0.24390695989131927),\n",
       " ('discharge', 0.23508155345916748),\n",
       " ('fossilfuel', 0.23314382135868073),\n",
       " ('dedicated', 0.23105821013450623),\n",
       " ('del', 0.22933493554592133)]"
      ]
     },
     "execution_count": 188,
     "metadata": {},
     "output_type": "execute_result"
    }
   ],
   "source": [
    "nuclear2vec.wv.most_similar(positive = ['rethinknuclear'], topn = 25)"
   ]
  },
  {
   "cell_type": "code",
   "execution_count": null,
   "metadata": {
    "cell_id": "d9bae335dd2844d18ca50fa7a4cbca85",
    "deepnote_cell_height": 348.53125,
    "deepnote_cell_type": "code",
    "deepnote_to_be_reexecuted": false,
    "execution_millis": 7,
    "execution_start": 1652964661815,
    "source_hash": "7f643c09",
    "tags": []
   },
   "outputs": [
    {
     "data": {
      "text/plain": [
       "{'environment': {'eugreendeal', 'green_investment', 'sustainable_investment'},\n",
       " 'eu': {'decarbonisation', 'energytransition', 'nuclearpower'},\n",
       " 'sustainable': {'netzero',\n",
       "  'radiation',\n",
       "  'sustainable_finance',\n",
       "  'sustainablefinance'},\n",
       " 'nuclearpower': {'renewables'},\n",
       " 'taxonomy': {'mairead', 'meps', 'stopfakegreen'},\n",
       " 'lobby': {'chairman', 'leyen', 'sustainablefinanceeu'},\n",
       " 'europeancommission': {'nuclear_waste', 'radioactive_waste'},\n",
       " 'ukrainerussiawar': {'geopolitical', 'russia'},\n",
       " 'nuclearindustry': {'iaeagc', 'netzeroneedsnuclear'},\n",
       " 'rethinknuclear': {'research_reactor', 'waste'}}"
      ]
     },
     "execution_count": 189,
     "metadata": {},
     "output_type": "execute_result"
    }
   ],
   "source": [
    "nuclear2vec_terms"
   ]
  },
  {
   "cell_type": "code",
   "execution_count": null,
   "metadata": {
    "cell_id": "e4c1eb8807db4694952e3281922624cb",
    "deepnote_cell_height": 81,
    "deepnote_cell_type": "code",
    "deepnote_to_be_reexecuted": false,
    "execution_millis": 5,
    "execution_start": 1652964665022,
    "source_hash": "2edc4e33",
    "tags": []
   },
   "outputs": [],
   "source": [
    "pickle.dump(nuclear2vec_terms, open('nuclear2vec_terms.p', 'wb'))"
   ]
  },
  {
   "cell_type": "code",
   "execution_count": null,
   "metadata": {
    "cell_id": "0470be938f93439cb5e1e2d9b3124e36",
    "deepnote_cell_height": 596.875,
    "deepnote_cell_type": "code",
    "deepnote_output_heights": [
     481.875
    ],
    "deepnote_to_be_reexecuted": false,
    "execution_millis": 4,
    "execution_start": 1652963740911,
    "source_hash": "d477b9d8",
    "tags": []
   },
   "outputs": [
    {
     "data": {
      "text/plain": [
       "['nuclear',\n",
       " 'eu',\n",
       " 'energy',\n",
       " 'europe',\n",
       " 's',\n",
       " 'gas',\n",
       " 'amp',\n",
       " 'european',\n",
       " 'power',\n",
       " 'taxonomy',\n",
       " 'green',\n",
       " 'include',\n",
       " 'new',\n",
       " 'eutaxonomy',\n",
       " 'need',\n",
       " 'electricity',\n",
       " 'country',\n",
       " 'reactor',\n",
       " 'climate',\n",
       " 'germany',\n",
       " 'sustainable',\n",
       " 'say',\n",
       " 'uranium',\n",
       " 'support',\n",
       " 'plan']"
      ]
     },
     "execution_count": 145,
     "metadata": {},
     "output_type": "execute_result"
    }
   ],
   "source": [
    "# Most frequent model vocab\n",
    "nuclear2vec.wv.index_to_key[:25]"
   ]
  },
  {
   "cell_type": "code",
   "execution_count": null,
   "metadata": {
    "cell_id": "6acaf4c2efb543f8a90c2d4628ba870b",
    "deepnote_cell_height": 1611,
    "deepnote_cell_type": "code",
    "deepnote_to_be_reexecuted": false,
    "execution_millis": 1,
    "execution_start": 1652963481508,
    "owner_user_id": "93d39cc7-b600-4a54-bb78-2893993bd5bc",
    "source_hash": "c844b577",
    "tags": []
   },
   "outputs": [],
   "source": [
    "def tsnescatterplot(model, word, list_names, PCA_components, top_n = 10):\n",
    "    '''\n",
    "    Plot in seaborn the results from the t-SNE dimensionality\n",
    "    reduction algorithm of the vectors of a query word, its\n",
    "    list of most similar words, and a list of words.\n",
    "    '''\n",
    "    arrays = np.empty((0, vec_size), dtype = 'f')\n",
    "    word_labels = [word]\n",
    "    color_list  = ['red']\n",
    "\n",
    "    # adds the vector of the query word\n",
    "    arrays = np.append(arrays, model.wv.__getitem__([word]), axis=0)\n",
    "    \n",
    "    # gets list of most similar words\n",
    "    close_words = model.wv.most_similar([word], topn = top_n)\n",
    "    \n",
    "    # adds the vector for each of the closest words to the array\n",
    "    for wrd_score in close_words:\n",
    "        wrd_vector = model.wv.__getitem__([wrd_score[0]])\n",
    "        word_labels.append(wrd_score[0])\n",
    "        color_list.append('blue')\n",
    "        arrays = np.append(arrays, wrd_vector, axis=0)\n",
    "    \n",
    "    # adds the vector for each of the words from list_names to the array\n",
    "    for wrd in list_names:\n",
    "        wrd_vector = model.wv.__getitem__([wrd])\n",
    "        word_labels.append(wrd)\n",
    "        color_list.append('green')\n",
    "        arrays = np.append(arrays, wrd_vector, axis=0)\n",
    "        \n",
    "    # Reduces the dimensionality from x to 50 dimensions with PCA\n",
    "    reduc = PCA(n_components = PCA_components).fit_transform(arrays)\n",
    "    \n",
    "    # Finds t-SNE coordinates for 2 dimensions\n",
    "    np.set_printoptions(suppress=True)\n",
    "    \n",
    "    Y = TSNE(\n",
    "        n_components = 2,\n",
    "        random_state = 0,\n",
    "        perplexity = 15,\n",
    "        early_exaggeration = 10,\n",
    "        square_distances = True\n",
    "        ).fit_transform(reduc)\n",
    "    \n",
    "    # Sets everything up to plot\n",
    "    df = pd.DataFrame({\n",
    "        'x': [x for x in Y[:, 0]],\n",
    "        'y': [y for y in Y[:, 1]],\n",
    "        'words': word_labels,\n",
    "        'color': color_list\n",
    "        })\n",
    "    \n",
    "    fig, _ = plt.subplots()\n",
    "    fig.set_size_inches(9, 9)\n",
    "    \n",
    "    # Basic plot\n",
    "    p1 = sns.regplot(\n",
    "        data = df,\n",
    "        x = 'x',\n",
    "        y = 'y',\n",
    "        fit_reg = False,\n",
    "        marker = 'o',\n",
    "        scatter_kws = {\n",
    "            's': 40,\n",
    "            'facecolors': df['color']\n",
    "            }\n",
    "        )\n",
    "    \n",
    "    # Adds annotations one by one with a loop\n",
    "    for line in range(0, df.shape[0]):\n",
    "         p1.text(\n",
    "             df['x'][line],\n",
    "             df['y'][line],\n",
    "             '  ' + df['words'][line],\n",
    "             horizontalalignment = 'left',\n",
    "             verticalalignment = 'bottom',\n",
    "             size = 'medium',\n",
    "             color = df['color'][line],\n",
    "             weight = 'normal'\n",
    "             ).set_size(15)\n",
    "\n",
    "    \n",
    "    plt.xlim(Y[:, 0].min()-50, Y[:, 0].max()+50)\n",
    "    plt.ylim(Y[:, 1].min()-50, Y[:, 1].max()+50)\n",
    "            \n",
    "    plt.title('t-SNE visualization for \"{}\"'.format(word))"
   ]
  },
  {
   "cell_type": "code",
   "execution_count": null,
   "metadata": {
    "cell_id": "81dc11acba55498aab6a044204834246",
    "deepnote_cell_height": 848.28125,
    "deepnote_cell_type": "code",
    "deepnote_output_heights": [
     null,
     552
    ],
    "deepnote_to_be_reexecuted": false,
    "execution_millis": 1216,
    "execution_start": 1652963482820,
    "source_hash": "ce91bd2",
    "tags": []
   },
   "outputs": [
    {
     "name": "stderr",
     "output_type": "stream",
     "text": [
      "/shared-libs/python3.7/py/lib/python3.7/site-packages/sklearn/manifold/_t_sne.py:783: FutureWarning: The default initialization in TSNE will change from 'random' to 'pca' in 1.2.\n",
      "  FutureWarning,\n",
      "/shared-libs/python3.7/py/lib/python3.7/site-packages/sklearn/manifold/_t_sne.py:793: FutureWarning: The default learning rate in TSNE will change from 200.0 to 'auto' in 1.2.\n",
      "  FutureWarning,\n"
     ]
    },
    {
     "data": {
      "image/png": "[encoded data removed]",
      "text/plain": [
       "<Figure size 648x648 with 1 Axes>"
      ]
     },
     "metadata": {
      "image/png": {
       "height": 550,
       "width": 564
      }
     },
     "output_type": "display_data"
    }
   ],
   "source": [
    "tsnescatterplot(\n",
    "    nuclear2vec,\n",
    "    'nuclear', ['gas', 'taxonomy', 'fossil', 'oil', 'sustainable'],\n",
    "    PCA_components = 25,\n",
    "    top_n = 25\n",
    "    )"
   ]
  },
  {
   "cell_type": "code",
   "execution_count": null,
   "metadata": {
    "cell_id": "e292c14b1374472cb69351e7ad6fabd3",
    "deepnote_cell_height": 118.1875,
    "deepnote_cell_type": "code",
    "deepnote_to_be_reexecuted": false,
    "execution_millis": 4,
    "execution_start": 1652963488671,
    "source_hash": "5feb0272",
    "tags": []
   },
   "outputs": [
    {
     "data": {
      "text/plain": [
       "'france'"
      ]
     },
     "execution_count": 127,
     "metadata": {},
     "output_type": "execute_result"
    }
   ],
   "source": [
    "nuclear2vec.wv.doesnt_match(['germany', 'france', 'ukraine', 'russia'])"
   ]
  },
  {
   "cell_type": "code",
   "execution_count": null,
   "metadata": {
    "cell_id": "f698d47ef7554718a658730e87f24a66",
    "deepnote_cell_height": 848.28125,
    "deepnote_cell_type": "code",
    "deepnote_output_heights": [
     null,
     552
    ],
    "deepnote_to_be_reexecuted": false,
    "execution_millis": 912,
    "execution_start": 1652963491000,
    "source_hash": "cb9df04f",
    "tags": []
   },
   "outputs": [
    {
     "name": "stderr",
     "output_type": "stream",
     "text": [
      "/shared-libs/python3.7/py/lib/python3.7/site-packages/sklearn/manifold/_t_sne.py:783: FutureWarning: The default initialization in TSNE will change from 'random' to 'pca' in 1.2.\n",
      "  FutureWarning,\n",
      "/shared-libs/python3.7/py/lib/python3.7/site-packages/sklearn/manifold/_t_sne.py:793: FutureWarning: The default learning rate in TSNE will change from 200.0 to 'auto' in 1.2.\n",
      "  FutureWarning,\n"
     ]
    },
    {
     "data": {
      "image/png": "[encoded data removed]",
      "text/plain": [
       "<Figure size 648x648 with 1 Axes>"
      ]
     },
     "metadata": {
      "image/png": {
       "height": 550,
       "width": 617
      }
     },
     "output_type": "display_data"
    }
   ],
   "source": [
    "tsnescatterplot(\n",
    "    nuclear2vec,\n",
    "    'ukraine', ['russia', 'war'],\n",
    "    PCA_components = 25,\n",
    "    top_n = 25\n",
    "    )"
   ]
  },
  {
   "cell_type": "code",
   "execution_count": null,
   "metadata": {
    "cell_id": "b821788e058b4af192b1c5cf2a44941e",
    "deepnote_cell_height": 758.28125,
    "deepnote_cell_type": "code",
    "deepnote_output_heights": [
     null,
     552
    ],
    "deepnote_to_be_reexecuted": false,
    "execution_millis": 1597,
    "execution_start": 1652963494817,
    "source_hash": "59f1a99",
    "tags": []
   },
   "outputs": [
    {
     "name": "stderr",
     "output_type": "stream",
     "text": [
      "/shared-libs/python3.7/py/lib/python3.7/site-packages/sklearn/manifold/_t_sne.py:783: FutureWarning: The default initialization in TSNE will change from 'random' to 'pca' in 1.2.\n",
      "  FutureWarning,\n",
      "/shared-libs/python3.7/py/lib/python3.7/site-packages/sklearn/manifold/_t_sne.py:793: FutureWarning: The default learning rate in TSNE will change from 200.0 to 'auto' in 1.2.\n",
      "  FutureWarning,\n"
     ]
    },
    {
     "data": {
      "image/png": "[encoded data removed]",
      "text/plain": [
       "<Figure size 648x648 with 1 Axes>"
      ]
     },
     "metadata": {
      "image/png": {
       "height": 550,
       "width": 573
      }
     },
     "output_type": "display_data"
    }
   ],
   "source": [
    "tsnescatterplot(nuclear2vec, 'environment', ['eu', 'green', 'eutaxonomy', 'greenwash', 'nuclear'], PCA_components = 30, top_n = 25)"
   ]
  },
  {
   "cell_type": "code",
   "execution_count": null,
   "metadata": {
    "cell_id": "6aed0f1ef9c14fb08b7d01eb1b1844f0",
    "deepnote_cell_height": 118.1875,
    "deepnote_cell_type": "code",
    "deepnote_to_be_reexecuted": false,
    "execution_millis": 10,
    "execution_start": 1652965689454,
    "source_hash": "f924772a",
    "tags": []
   },
   "outputs": [
    {
     "data": {
      "text/plain": [
       "{'eugreendeal', 'green_investment', 'sustainable_investment'}"
      ]
     },
     "execution_count": 192,
     "metadata": {},
     "output_type": "execute_result"
    }
   ],
   "source": [
    "nuclear2vec_terms['environment']"
   ]
  },
  {
   "cell_type": "markdown",
   "metadata": {
    "created_in_deepnote_cell": true,
    "deepnote_cell_type": "markdown",
    "tags": []
   },
   "source": [
    "<a style='text-decoration:none;line-height:16px;display:flex;color:#5B5B62;padding:10px;justify-content:end;' href='https://deepnote.com?utm_source=created-in-deepnote-cell&projectId=83a05b10-68f2-47cd-90b2-acf816447dd2' target=\"_blank\">\n",
    "<img alt='Created in deepnote.com' style='display:inline;max-height:16px;margin:0px;margin-right:7.5px;' src='data:image/svg+xml;base64,PD94bWwgdmVyc2lvbj0iMS4wIiBlbmNvZGluZz0iVVRGLTgiPz4KPHN2ZyB3aWR0aD0iODBweCIgaGVpZ2h0PSI4MHB4IiB2aWV3Qm94PSIwIDAgODAgODAiIHZlcnNpb249IjEuMSIgeG1sbnM9Imh0dHA6Ly93d3cudzMub3JnLzIwMDAvc3ZnIiB4bWxuczp4bGluaz0iaHR0cDovL3d3dy53My5vcmcvMTk5OS94bGluayI+CiAgICA8IS0tIEdlbmVyYXRvcjogU2tldGNoIDU0LjEgKDc2NDkwKSAtIGh0dHBzOi8vc2tldGNoYXBwLmNvbSAtLT4KICAgIDx0aXRsZT5Hcm91cCAzPC90aXRsZT4KICAgIDxkZXNjPkNyZWF0ZWQgd2l0aCBTa2V0Y2guPC9kZXNjPgogICAgPGcgaWQ9IkxhbmRpbmciIHN0cm9rZT0ibm9uZSIgc3Ryb2tlLXdpZHRoPSIxIiBmaWxsPSJub25lIiBmaWxsLXJ1bGU9ImV2ZW5vZGQiPgogICAgICAgIDxnIGlkPSJBcnRib2FyZCIgdHJhbnNmb3JtPSJ0cmFuc2xhdGUoLTEyMzUuMDAwMDAwLCAtNzkuMDAwMDAwKSI+CiAgICAgICAgICAgIDxnIGlkPSJHcm91cC0zIiB0cmFuc2Zvcm09InRyYW5zbGF0ZSgxMjM1LjAwMDAwMCwgNzkuMDAwMDAwKSI+CiAgICAgICAgICAgICAgICA8cG9seWdvbiBpZD0iUGF0aC0yMCIgZmlsbD0iIzAyNjVCNCIgcG9pbnRzPSIyLjM3NjIzNzYyIDgwIDM4LjA0NzY2NjcgODAgNTcuODIxNzgyMiA3My44MDU3NTkyIDU3LjgyMTc4MjIgMzIuNzU5MjczOSAzOS4xNDAyMjc4IDMxLjY4MzE2ODMiPjwvcG9seWdvbj4KICAgICAgICAgICAgICAgIDxwYXRoIGQ9Ik0zNS4wMDc3MTgsODAgQzQyLjkwNjIwMDcsNzYuNDU0OTM1OCA0Ny41NjQ5MTY3LDcxLjU0MjI2NzEgNDguOTgzODY2LDY1LjI2MTk5MzkgQzUxLjExMjI4OTksNTUuODQxNTg0MiA0MS42NzcxNzk1LDQ5LjIxMjIyODQgMjUuNjIzOTg0Niw0OS4yMTIyMjg0IEMyNS40ODQ5Mjg5LDQ5LjEyNjg0NDggMjkuODI2MTI5Niw0My4yODM4MjQ4IDM4LjY0NzU4NjksMzEuNjgzMTY4MyBMNzIuODcxMjg3MSwzMi41NTQ0MjUgTDY1LjI4MDk3Myw2Ny42NzYzNDIxIEw1MS4xMTIyODk5LDc3LjM3NjE0NCBMMzUuMDA3NzE4LDgwIFoiIGlkPSJQYXRoLTIyIiBmaWxsPSIjMDAyODY4Ij48L3BhdGg+CiAgICAgICAgICAgICAgICA8cGF0aCBkPSJNMCwzNy43MzA0NDA1IEwyNy4xMTQ1MzcsMC4yNTcxMTE0MzYgQzYyLjM3MTUxMjMsLTEuOTkwNzE3MDEgODAsMTAuNTAwMzkyNyA4MCwzNy43MzA0NDA1IEM4MCw2NC45NjA0ODgyIDY0Ljc3NjUwMzgsNzkuMDUwMzQxNCAzNC4zMjk1MTEzLDgwIEM0Ny4wNTUzNDg5LDc3LjU2NzA4MDggNTMuNDE4MjY3Nyw3MC4zMTM2MTAzIDUzLjQxODI2NzcsNTguMjM5NTg4NSBDNTMuNDE4MjY3Nyw0MC4xMjg1NTU3IDM2LjMwMzk1NDQsMzcuNzMwNDQwNSAyNS4yMjc0MTcsMzcuNzMwNDQwNSBDMTcuODQzMDU4NiwzNy43MzA0NDA1IDkuNDMzOTE5NjYsMzcuNzMwNDQwNSAwLDM3LjczMDQ0MDUgWiIgaWQ9IlBhdGgtMTkiIGZpbGw9IiMzNzkzRUYiPjwvcGF0aD4KICAgICAgICAgICAgPC9nPgogICAgICAgIDwvZz4KICAgIDwvZz4KPC9zdmc+' > </img>\n",
    "Created in <span style='font-weight:600;margin-left:4px;'>Deepnote</span></a>"
   ]
  }
 ],
 "metadata": {
  "deepnote": {},
  "deepnote_execution_queue": [],
  "deepnote_notebook_id": "64d6fdd3-0c58-4c16-822d-9b0836187c49",
  "language_info": {
   "name": "python"
  },
  "orig_nbformat": 2
 },
 "nbformat": 4,
 "nbformat_minor": 2
}
