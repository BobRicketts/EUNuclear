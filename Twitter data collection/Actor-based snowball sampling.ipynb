{
 "cells": [
  {
   "cell_type": "code",
   "execution_count": null,
   "metadata": {
    "cell_id": "dc8011d83ab340a7b91b678b25984e46",
    "deepnote_cell_height": 228,
    "deepnote_cell_type": "code",
    "owner_user_id": "6a3569d6-bfb9-4161-9503-aad0d155acd6",
    "tags": []
   },
   "outputs": [],
   "source": [
    "import time\n",
    "import datetime \n",
    "import re\n",
    "from loguru import logger\n",
    "import pickle\n",
    "from collections import namedtuple\n",
    "import pandas as pd\n",
    "import numpy as np\n",
    "import tweepy\n",
    "from tweepy import Unauthorized, NotFound, Forbidden"
   ]
  },
  {
   "cell_type": "code",
   "execution_count": null,
   "metadata": {
    "cell_id": "f2384562f1594b219e481f68d8a28dfa",
    "deepnote_cell_height": 120,
    "deepnote_cell_type": "code",
    "tags": []
   },
   "outputs": [],
   "source": [
    "from AppCred import CONSUMER_KEY, CONSUMER_SECRET, ACCESS_TOKEN, ACCESS_TOKEN_SECRET\n",
    "auth = tweepy.OAuthHandler(CONSUMER_KEY, CONSUMER_SECRET)\n",
    "auth.set_access_token(ACCESS_TOKEN, ACCESS_TOKEN_SECRET)\n",
    "api = tweepy.API(auth, wait_on_rate_limit=True)"
   ]
  },
  {
   "cell_type": "code",
   "execution_count": null,
   "metadata": {
    "cell_id": "26af358cdb3546aeac6afa7ccf3514a7",
    "deepnote_cell_height": 966,
    "deepnote_cell_type": "code",
    "tags": []
   },
   "outputs": [],
   "source": [
    "# Extended class that contains both user and tweets in a single object\n",
    "ExtendedUser = namedtuple('extended_user', ['user', 'tweets']) \n",
    "\n",
    "def eligible_user(user):\n",
    "    \"\"\"Determines whether a user lives up to the specified criteria.\"\"\"\n",
    "    if user.followers_count >= 100:\n",
    "        try:\n",
    "            latest_tweet = user.status\n",
    "        except AttributeError:\n",
    "            return False\n",
    "        if latest_tweet.created_at.date() >= datetime.date(2022, 4, 5): ## Change this!\n",
    "            return True\n",
    "        else:\n",
    "            return False\n",
    "    else:\n",
    "        return False\n",
    "\n",
    "def remove_punctuation(text):\n",
    "    return re.sub('[,.!?;]+', '', text)\n",
    "    \n",
    "def eligible_tweet(tweet, EU_words, nuclear_words, nuclear_war_regex): \n",
    "    \"\"\"Determines whether a tweet is about our topic.\"\"\"\n",
    "    tweet_text_clean = remove_punctuation( tweet.full_text.lower() )\n",
    "    tweet_words = set(re.sub(nuclear_war_regex, '', tweet_text_clean).split())\n",
    "    EU_count = len(tweet_words & EU_words)\n",
    "    nuclear_count = len(tweet_words & nuclear_words)\n",
    "    if EU_count >= 1 and nuclear_count >= 1:\n",
    "        return True\n",
    "    else:\n",
    "        return False\n",
    "\n",
    "def collect_tweets(user_name, EU_words, nuclear_words, nuclear_war_regex):\n",
    "    \"\"\"Collects and filters tweets from Twitter user.\"\"\"\n",
    "    try:\n",
    "        tweets = [tweet for tweet in tweepy.Cursor(api.user_timeline, \n",
    "                                                   screen_name=user_name,\n",
    "                                                   include_rts=True, \n",
    "                                                   tweet_mode=\"extended\").items(3200)\n",
    "                 ]\n",
    "        tweets = [tweet for tweet in tweets if eligible_tweet(tweet, EU_words, nuclear_words, nuclear_war_regex)]\n",
    "    except Unauthorized:\n",
    "        tweets = []\n",
    "    return tweets\n",
    "\n",
    "def snowball(tweets):\n",
    "    \"\"\"Snowball samples from user's tweets.\"\"\"\n",
    "    users_mentioned = {user['screen_name'] for tweet in tweets \\\n",
    "                       for user in tweet.entities['user_mentions']}\n",
    "    users_retweeted = [re.search('^RT @\\w+', tweet.full_text) for tweet in tweets]\n",
    "    users_retweeted = {user.group(0)[4:] for user in users_retweeted if user}\n",
    "    return {*users_mentioned, *users_retweeted} "
   ]
  },
  {
   "cell_type": "code",
   "execution_count": null,
   "metadata": {
    "cell_id": "427bc0802018432db1b00fe797390182",
    "deepnote_cell_height": 120,
    "deepnote_cell_type": "code",
    "tags": []
   },
   "outputs": [],
   "source": [
    "EU_words = {'eu', 'europe', 'european', 'mep', '#eu', '#europe', '#mep', '#eutaxonomy', '#notourtaxonomy'}\n",
    "nuclear_words = {'nuclear', 'reactor', 'reactors', 'radioactive', 'uranium' 'atomic', '$URA', '$URNM', '#nuclear', '#uranium', '#atomic'}\n",
    "nuclear_war_regex = 'nuclear war|nuclear arsenal|nuclear threats?|nuclear weapons?|nuclear warheads?|nuclear missiles?|nuclear bombs?|atomic bombs?|atomic threats?'"
   ]
  },
  {
   "cell_type": "code",
   "execution_count": null,
   "metadata": {
    "cell_id": "73650da7c3db43a8939c25408391c197",
    "deepnote_cell_height": 84,
    "deepnote_cell_type": "code",
    "tags": []
   },
   "outputs": [],
   "source": [
    "with open('../Data/actor_list.txt', 'r') as file:\n",
    "    user_names = {line.rstrip() for line in file}"
   ]
  },
  {
   "cell_type": "code",
   "execution_count": null,
   "metadata": {
    "cell_id": "d46f0f39-7689-4ecd-9bd4-f0ad4d710a90",
    "deepnote_cell_height": 714,
    "deepnote_cell_type": "code",
    "tags": []
   },
   "outputs": [],
   "source": [
    "extended_users = []\n",
    "not_collected = []\n",
    "snowball_range = 7\n",
    "\n",
    "for i in range(snowball_range+1):\n",
    "    logger.debug(f\"Iteration {i+1}: Collecting user info and tweets from {len(user_names)} users\")\n",
    "    new_user_names = set()\n",
    "    for user_name in user_names:\n",
    "        time.sleep(20)\n",
    "        for attempt in range(1, 3+1):\n",
    "            try:\n",
    "                user = api.get_user(screen_name=user_name)\n",
    "                if eligible_user(user):\n",
    "                    tweets = collect_tweets(user_name, EU_words, nuclear_words, nuclear_war_regex)\n",
    "                    extended_users.append(ExtendedUser(user, tweets))\n",
    "                    pickle.dump( [(user, tweets) for user, tweets in extended_users], open(\"../Data/extended_users.p\", \"wb\") )\n",
    "                    if tweets and i < snowball_range:\n",
    "                        new_user_names |= snowball(tweets)\n",
    "                    logger.debug(f\"Collected user info and {len(tweets)} tweets from {user_name}\")\n",
    "                else:\n",
    "                    logger.debug(f\"{user_name} not eligible\")\n",
    "                break\n",
    "            except Exception as ex:\n",
    "                ex_name = type(ex).__name__\n",
    "                if ex_name in ('NotFound', 'Forbidden'):\n",
    "                    logger.debug(f\"{ex_name}! Did not manage to collect user info and tweets from {user_name}\")\n",
    "                    not_collected.append( ( user_name, ex_name, 'Iteration '+str(i+1) ) )\n",
    "                    break\n",
    "                else:\n",
    "                    logger.debug(f\"{ex_name}! Did not manage to collect user info and tweets from {user_name} in attempt {attempt}\")\n",
    "                    if attempt == 3:\n",
    "                        not_collected.append( ( user_name, ex_name, 'Iteration '+str(i+1) ) )\n",
    "                    time.sleep(30)\n",
    "    user_names = new_user_names - {eu.user.screen_name for eu in extended_users}\n",
    "logger.debug(\n",
    "    f\"Collected {sum(len(eu.tweets) for eu in extended_users)} total tweets from {len(extended_users)} users\"\n",
    "    )"
   ]
  },
  {
   "cell_type": "markdown",
   "metadata": {
    "created_in_deepnote_cell": true,
    "deepnote_cell_type": "markdown",
    "tags": []
   },
   "source": [
    "<a style='text-decoration:none;line-height:16px;display:flex;color:#5B5B62;padding:10px;justify-content:end;' href='https://deepnote.com?utm_source=created-in-deepnote-cell&projectId=83a05b10-68f2-47cd-90b2-acf816447dd2' target=\"_blank\">\n",
    "<img alt='Created in deepnote.com' style='display:inline;max-height:16px;margin:0px;margin-right:7.5px;' src='data:image/svg+xml;base64,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' > </img>\n",
    "Created in <span style='font-weight:600;margin-left:4px;'>Deepnote</span></a>"
   ]
  }
 ],
 "metadata": {
  "deepnote": {},
  "deepnote_execution_queue": [],
  "deepnote_notebook_id": "135eb3b1-a6c2-4cfa-8f73-e479960292a3",
  "language_info": {
   "name": "python"
  },
  "orig_nbformat": 2
 },
 "nbformat": 4,
 "nbformat_minor": 2
}
